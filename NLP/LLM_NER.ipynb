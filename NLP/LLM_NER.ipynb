{
 "cells": [
  {
   "cell_type": "markdown",
   "metadata": {
    "id": "3Ovjdt1dbjya"
   },
   "source": [
    "# LLM Named entity recognition "
   ]
  },
  {
   "cell_type": "code",
   "execution_count": 10,
   "metadata": {},
   "outputs": [
    {
     "name": "stderr",
     "output_type": "stream",
     "text": [
      "Traceback (most recent call last):\n",
      "  File \"<frozen runpy>\", line 189, in _run_module_as_main\n",
      "  File \"<frozen runpy>\", line 148, in _get_module_details\n",
      "  File \"<frozen runpy>\", line 112, in _get_module_details\n",
      "  File \"c:\\Users\\janek\\Documents\\PJN\\venv\\Lib\\site-packages\\spacy\\__init__.py\", line 6, in <module>\n",
      "    from .errors import setup_default_warnings\n",
      "  File \"c:\\Users\\janek\\Documents\\PJN\\venv\\Lib\\site-packages\\spacy\\errors.py\", line 3, in <module>\n",
      "    from .compat import Literal\n",
      "  File \"c:\\Users\\janek\\Documents\\PJN\\venv\\Lib\\site-packages\\spacy\\compat.py\", line 39, in <module>\n",
      "    from thinc.api import Optimizer  # noqa: F401\n",
      "    ^^^^^^^^^^^^^^^^^^^^^^^^^^^^^^^\n",
      "  File \"c:\\Users\\janek\\Documents\\PJN\\venv\\Lib\\site-packages\\thinc\\api.py\", line 1, in <module>\n",
      "    from .backends import (\n",
      "  File \"c:\\Users\\janek\\Documents\\PJN\\venv\\Lib\\site-packages\\thinc\\backends\\__init__.py\", line 17, in <module>\n",
      "    from .cupy_ops import CupyOps\n",
      "  File \"c:\\Users\\janek\\Documents\\PJN\\venv\\Lib\\site-packages\\thinc\\backends\\cupy_ops.py\", line 16, in <module>\n",
      "    from .numpy_ops import NumpyOps\n",
      "  File \"thinc\\backends\\numpy_ops.pyx\", line 1, in init thinc.backends.numpy_ops\n",
      "ValueError: numpy.dtype size changed, may indicate binary incompatibility. Expected 96 from C header, got 88 from PyObject\n"
     ]
    }
   ],
   "source": [
    "!python -m spacy download pl_core_news_sm"
   ]
  },
  {
   "cell_type": "markdown",
   "metadata": {
    "id": "hNq_VQJBb5L3"
   },
   "source": [
    "### Loading 20 random passages from FIQA-PL Corpus"
   ]
  },
  {
   "cell_type": "code",
   "execution_count": 1,
   "metadata": {
    "id": "63DplsQubfTg"
   },
   "outputs": [
    {
     "name": "stderr",
     "output_type": "stream",
     "text": [
      "c:\\Users\\janek\\Documents\\PJN\\venv\\Lib\\site-packages\\tqdm\\auto.py:21: TqdmWarning: IProgress not found. Please update jupyter and ipywidgets. See https://ipywidgets.readthedocs.io/en/stable/user_install.html\n",
      "  from .autonotebook import tqdm as notebook_tqdm\n"
     ]
    },
    {
     "data": {
      "text/plain": [
       "Dataset({\n",
       "    features: ['_id', 'title', 'text'],\n",
       "    num_rows: 20\n",
       "})"
      ]
     },
     "execution_count": 1,
     "metadata": {},
     "output_type": "execute_result"
    }
   ],
   "source": [
    "from datasets import load_dataset\n",
    "\n",
    "corpus = load_dataset(\"clarin-knext/fiqa-pl\", \"corpus\")\n",
    "corpus = corpus['corpus']\n",
    "sampled_corpus = corpus.shuffle(seed=42).select([i for i in range(20)])\n",
    "sampled_corpus"
   ]
  },
  {
   "cell_type": "markdown",
   "metadata": {
    "id": "ax61H9AidWJo"
   },
   "source": [
    "### Creating spacy pipeline for NER"
   ]
  },
  {
   "cell_type": "code",
   "execution_count": 2,
   "metadata": {
    "id": "h6sJwiugdAzF"
   },
   "outputs": [
    {
     "data": {
      "text/plain": [
       "[('tok2vec', <spacy.pipeline.tok2vec.Tok2Vec at 0x1e419801850>),\n",
       " ('morphologizer',\n",
       "  <spacy.pipeline.morphologizer.Morphologizer at 0x1e4198011f0>),\n",
       " ('parser', <spacy.pipeline.dep_parser.DependencyParser at 0x1e4197c1ee0>),\n",
       " ('lemmatizer', <spacy.lang.pl.lemmatizer.PolishLemmatizer at 0x1e4196c13d0>),\n",
       " ('tagger', <spacy.pipeline.tagger.Tagger at 0x1e4197abf50>),\n",
       " ('senter', <spacy.pipeline.senter.SentenceRecognizer at 0x1e4197abad0>),\n",
       " ('attribute_ruler',\n",
       "  <spacy.pipeline.attributeruler.AttributeRuler at 0x1e41983aa90>),\n",
       " ('ner', <spacy.pipeline.ner.EntityRecognizer at 0x1e4197c1f50>),\n",
       " ('sentencizer', <spacy.pipeline.sentencizer.Sentencizer at 0x1e419845810>)]"
      ]
     },
     "execution_count": 2,
     "metadata": {},
     "output_type": "execute_result"
    }
   ],
   "source": [
    "from spacy.lang.pl import Polish\n",
    "import spacy\n",
    "nlp = Polish()\n",
    "nlp = spacy.load(\"pl_core_news_sm\") # includes lemmatizer and ner\n",
    "nlp.replace_pipe(\"lemmatizer\", \"lemmatizer\")\n",
    "nlp.add_pipe(\"sentencizer\")\n",
    "nlp.initialize()\n",
    "nlp.components"
   ]
  },
  {
   "cell_type": "code",
   "execution_count": 13,
   "metadata": {
    "id": "ZIQUhF_dvsFJ"
   },
   "outputs": [
    {
     "name": "stdout",
     "output_type": "stream",
     "text": [
      "{'Kraków', 'Polska'}\n"
     ]
    },
    {
     "name": "stderr",
     "output_type": "stream",
     "text": [
      "c:\\Users\\janek\\Documents\\PJN\\venv\\Lib\\site-packages\\spacy\\pipeline\\attributeruler.py:149: UserWarning: [W036] The component 'matcher' does not have any patterns defined.\n",
      "  matches = self.matcher(doc, allow_missing=True, as_spans=False)\n"
     ]
    }
   ],
   "source": [
    "# def get_entities_with_ner(text):\n",
    "#   entities = []\n",
    "#   doc = nlp(text)\n",
    "#   for i in doc.ents:\n",
    "#       entities.append({\"ent\": i.lemma_, \"type\": i.label_})\n",
    "#   return entities\n",
    "\n",
    "# print(get_entities_with_ner(\"Wczoraj w Krakowie miało miejsce spotkanie prezydentów Polski i Stanów Zjednoczonych.\"))\n",
    "\n",
    "def get_entities_no_ner(text):\n",
    "  entities = set()\n",
    "  doc = nlp(text, disable=[\"ner\"])\n",
    "  processed = nlp(doc)\n",
    "\n",
    "  # Variable to hold the current entity being built\n",
    "  entity = \"\"\n",
    "\n",
    "  for i in processed:\n",
    "      # Check if the lemma of the token starts with an uppercase letter\n",
    "      if i.lemma_[0].isupper():\n",
    "          # Start a new entity if needed or continue appending to the current one\n",
    "          if not entity:\n",
    "              entity = i.lemma_ \n",
    "          else:\n",
    "              entity += \" \" + i.lemma_\n",
    "      else:\n",
    "          # Print the current entity if it exists and reset\n",
    "          if entity:\n",
    "              entities.add(entity)\n",
    "              entity = \"\"  # Reset for the next potential entity\n",
    "\n",
    "  return entities\n",
    "\n",
    "print(get_entities_no_ner(\"Wczoraj w Krakowie miało miejsce spotkanie prezydentów Polski i Stanów Zjednoczonych.\"))"
   ]
  },
  {
   "cell_type": "markdown",
   "metadata": {
    "id": "KH0AefFYkp2z"
   },
   "source": [
    "### Manually annotating 20 passages from Corpus"
   ]
  },
  {
   "cell_type": "code",
   "execution_count": 8,
   "metadata": {},
   "outputs": [
    {
     "name": "stdout",
     "output_type": "stream",
     "text": [
      "Według Nanex, firmy zajmującej się danymi rynkowymi, program składał zamówienia w 25-milisekundowych seriach obejmujących około 500 akcji. Algorytm nigdy nie wykonał ani jednej transakcji i nagle zakończył się około godziny 10:30 w piątek ET. Więc za każdym razem zmieniał zdanie? To albo błąd, albo działa z przodu. Myślę, że to frontowe bieganie bez względu na to, jak na to patrzysz. Gdybym uruchomił SEC, wprowadziłbym regułę, która mówi, że wszystkie zamówienia muszą stać przez 2 sekundy, zanim będą mogły zostać anulowane. To wystarczająco dużo czasu, aby ludzie zareagowali na rynku. To 25 ms dla 500 akcji to nonsens. To tylko front, który ma oszukiwać prawdziwych inwestorów i zarabiać na bardzo małych różnicach w cenach miliony razy dziennie. Zniekształca rynki i nie służy nikomu, z wyjątkiem domu maklerskiego, który prowadzi oszustwo.\n",
      "\n",
      "ETF-y kochanie. Wszyscy i ich mama mają swoje pieniądze na rynkach / w awangardzie Gdy na rynkach nastąpi nieunikniona korekta lub jedna z firm technologicznych zorganizuje wydarzenie korporacyjne, które będzie obciążać branżę: zaczną krwawić przepływy. A to zmniejszy zwroty. Co doprowadzi do większej liczby przepływów. Co zmniejszy zwroty. Itd.. i itd. W ten sposób łamią ramy rynkowe. Firmy są silnie lewarowane ze względu na niskie stopy procentowe, więc gdy wskaźniki zadłużenia do kapitału zaczynają rosnąć – nabywcy indywidualni/instytucjonalni zaczynają uciekać w stronę jakości i zaczynają wycofywać się z małych, średnich kapitalizacji z dźwignią. Pęknięcia w małych firmach. Trump ratuje sytuację dzięki podatkom korporacyjnym! I wszyscy płoniemy w północnokoreańskim ogniu\n",
      "\n",
      "Pozwólmy wolnemu rynkowi działać tak, aby najlepszy, najbardziej wydajny produkt, który jest najlepszy dla konsumentów, prosperował. Co za **niesamowity** pomysł. Ale niestety, to jest Reddit, gdzie narzekają na SOPA/PIPA i NDAA, ale wierzą w głosowanie w prawodawcach, którzy chcą rozszerzyć rolę rządu w prywatnym przedsiębiorstwie/życiu.\n",
      "\n",
      "Nie. Otrzymałeś już odliczenie, ponieważ utracone pieniądze FSA były przed opodatkowaniem. Nie możesz się podwoić. Jeśli jednak kwota FSA była niższa niż rzeczywiste wydatki, możesz złożyć wniosek o różnicę. Przykład: 4500 USD rzeczywistych wydatków, 3000 USD FSA (utracone). Możesz otrzymać kredyt na opiekę na utrzymaniu w oparciu o 1500 USD.\n",
      "\n",
      "Jeśli naprawdę jesteś gotów spłacać dodatkowe 1000 USD co miesiąc i masz pewność, że prawdopodobnie zawsze będziesz w stanie, powinieneś refinansować 15-letni kredyt hipoteczny. 15-letnie kredyty hipoteczne są zazwyczaj sprzedawane przy oprocentowaniu niższym o około pół punktu, co oznacza, że ​​zamiast 4,375% APR, otrzymasz około 3,875% APR. To dużo pieniędzy w trakcie kredytu hipotecznego. Zapłacisz około tysiąca więcej miesięcznie – a więc dokładnie to, o czym myślisz – i nie tylko zaoszczędzisz pieniądze z tej wcześniejszej płatności, ale także będziesz miał niższe oprocentowanie. To 0,5% oznacza mniej więcej 25 tys. USD w okresie spłaty kredytu hipotecznego. Jest to również różnica około 130 USD miesięcznie w wymaganej płatności. Teraz oczywiście będziesz zmuszony do dokonania tej większej płatności – więc różnica między tym, co sugerujesz, a tym, że płacisz dodatkowe 25 000 USD w zamian za możliwość wolniejszej spłaty (w takim przypadku oczywiście zapłaciłbyś również wyższe odsetki, ale w najlepszym przypadku). W scenariuszu 15 lat musisz dokonać tych ~4000 płatności. W scenariuszu 30 lat możesz zapłacić ~ 2900 USD za chwilę, jeśli stracisz pracę, chcesz wyjechać na wakacje lub ... cokolwiek. Oczywiście jest też na odwrót: będziesz musiał dokonać płatności, więc będziesz. Wiele osób uważa wymuszone oszczędności za dobrą strategię (ja wśród nich ja); Mam 15-letni kredyt hipoteczny i cieszę się, że muszę płacić wyższą ratę, bo to oznacza, że ​​nie mogę lekkomyślnie wydawać tych dodatkowych pieniędzy. Więc co bym zrobił na twoim miejscu, to rozejrzeć się za 15-letnim refi. To będzie kosztować kilka tysięcy, więc nie bierz jednego, chyba że możesz zaoszczędzić co najmniej pół punktu, ale jeśli możesz, zrób.\n",
      "\n",
      "To nie miasto, to Zarząd Portu. To specjalna wielostanowa policja. PA jest powodem, dla którego most tapanzee został zbudowany w tak głupim miejscu. Most musiał zostać zbudowany 25 mil od Statuy Wolności, aby stan ny mógł pobierać opłaty. Jeśli został zbudowany w promieniu 25 mil, rządzi PA.\n",
      "\n",
      "„Podstawowym równaniem nauczanym w pierwszym dniu szkoły rachunkowości jest to, że aktywa = pasywa + kapitał własny. Po pierwsze, zwróciłem uwagę na rzeczywiste sprawozdania finansowe opublikowane na koniec II kwartału 2017 r. i sumę zobowiązań na ich zbadanym bilansie arkusz był jak 13 miliardów dolarów, a nie 20 miliardów dolarów. Nie wiem, skąd autor wziął ich numery. Moja druga uwaga: dług zwykle musi być spłacany na wcześniej ustalonych warunkach uzgodnionych przez dłużnika i dłużnika, w tym odsetki, więc ważne jest, aby firma śledziła, co jest winna i komu, aby mogła dokonywać płatności na czas. O ile mają pod ręką gotówkę na dokonanie płatności oraz wszelkie odsetki, które są winni, a właściciele są zadowoleni z całkowitego zwrotu na ich inwestycję, to tak naprawdę nie ma znaczenia, jaki mają zadłużenie w bilansie. Zapamiętaj równanie A = L + E. Istnieją dokładnie dwa sposoby finansowania firmy, która chce nabyć aktywa: pasywa i/lub kapitał własny. „Właściwy” poziom zadłużenia vs kapitał własny w bilansie różni się znacznie i całkowicie zależy od branży, wielkości firmy, przepływów pieniężnych, osobistych preferencji dyrektora generalnego, dyrektora finansowego, akcjonariuszy itp. Oczywiście jest to o wiele bardziej szczegółowe i skomplikowane, ale chodzi o to, że patrzenie na sam dług jest bezsensowną miarą. To jest finanse i księgowość przedsiębiorstw 101, więc prawdopodobnie znajdziesz mnóstwo świetnych artykułów i filmów, jeśli chcesz dowiedzieć się więcej”.\n",
      "\n",
      "To prawie miłe, ponieważ nie zwraca uwagi organizacji jako spamera. Jeśli organizacja zorientuje się, w jaki sposób znalazła się na liście, rozwiąże problem i wróci do dobrej pozycji, wtedy wszyscy będziemy mogli działać uprzejmie. Może istnieć nawet prawny powód, dla którego lista nie jest publiczna. Oszczerstwo?\n",
      "\n",
      "„Wnioskodawcy przechodzą przez ten sam proces, co w przypadku każdej innej pożyczki. Jedyną różnicą jest to, że „bank” to ludzie tacy jak ja, być może 200 z nas na banknot. możliwość zadawania pytań wnioskodawcy Inwestorzy płacą niewielki procent opłat za wycenę banknotów przez fachowców Im gorszy kredyt, tym wyższe oprocentowanie otrzymuje posiadacz banknotu Oczywiście jeśli osoba przestaje płacić, nic nie otrzymujemy. ryzyko. Czasami inwestuję w banknoty o wysokim ryzyku, w zależności od tego, do czego są przeznaczone i mam ich kilka w swoim portfelu. To dosłownie mikropożyczanie. Mogę sobie pozwolić na stratę 25 USD na ryzykownej pożyczce lub dwóch na 19% zysku, ponieważ reszta mojego portfela jest zdywersyfikowana na setki nut 9-11%. Działa zaskakująco dobrze.\"\n",
      "\n",
      "Zrób trochę matematyki. Oblicz sumę netto (po opodatkowaniu), którą miałbyś, gdybyś pozostawił ją opodatkowaną, a następnie spójrz na różnicę. W efekcie zapłacisz X USD (teraz podatek) za świadczenie Y USD (podatek od niezapłaconych pełnych świadczeń). Matematyka działa podobnie do samodzielnego kupowania małej polisy.\n",
      "\n",
      "Człowieku, to zdumiewające, że rozwiązaniem bankiera jest zmniejszenie siły roboczej z 16 000 do 2000. Jasne, że będzie to dobrze wyglądać w bilansie, ale byłby to gwóźdź śmierci dla i tak już walczącej firmy. A ludzie zastanawiają się, dlaczego wszyscy są tak znudzeni tymi idiotami na Wall Street.\n",
      "\n",
      "[Jest tak dobrze znany, że ACA będzie zawierał koszty w stosunku do niczego nie robienia, że ​​prawie nie warto cytować źródła.](http://www.nejm.org/doi/full/10.1056/NEJMp1006571) Zredagowano: To się udało złośliwy. Nie chcę ignorować znaczenia długoterminowego ograniczania kosztów w wydatkach na opiekę zdrowotną. Ale zamiast podnosić koszty, ACA jest tak naprawdę tylko małym, ale ważnym pierwszym krokiem w ograniczaniu kosztów. Więcej źródeł: [Affordable Care Act: Implementing Medicare Cost Savings](http://www.cms.gov/apps/docs/ACA-Update-Implementing-Medicare-Costs-Savings.pdf) [Affordable Care Act Will Bring Down Koszty](http://www.healthcare.gov/blog/2011/08/bringingdowncosts082911.html) [Jedynie pierwszy krok w ograniczaniu kosztów opieki zdrowotnej](http://www.nytimes.com/2012/07/22/ biznes/opieka-zdrowotna-prawo-i-ograniczanie-kosztow-gospodarczych-widok.html)\n",
      "\n",
      "Dziadek kręci się, jesteś takim głupim pedałem. Zawsze mam nadzieję, że ktoś jest w liceum. >Warta tylko kpiny, będziesz się z ciebie śmiać przez następne 2 sekundy. miło widzieć, że wciąż myślisz, że to jest zabawne, urocze, boli, czy cokolwiek, kurwa, myślisz, że to jest.\n",
      "\n",
      "Zazwyczaj pożyczasz firmie pożyczkę od siebie jako osoba prywatna, a gdy firma zarabia pieniądze, firma spłaca je Tobie. Następnie firma płaci za wszystkie wydatki pieniędzmi z kredytu. Nawet jeśli nie chcesz jeszcze konta firmowego, prawdopodobnie możesz poprosić swój bank o drugie konto (moje w Wielkiej Brytanii zrobiły to bez żadnych problemów).\n",
      "\n",
      "Tak, stopnie MFE mogą być mieszaną torbą. Ogólnie rzecz biorąc, te programy się poprawiają i jeśli możesz dostać się do programu takiego jak NYU, UCB lub Carnegie Melon, to zdecydowanie polecam. Twoja praktyka z programu MFE będzie oparta na dwóch rzeczach: 1) Kogo zna dyrektor programu na Wall St. 2) Czy jesteś obcokrajowcem. Jeśli chcesz dostać pracę w Ameryce jako absolwent MFE, stoisz w obliczu trudnej bitwy w porównaniu z twoimi amerykańskimi odpowiednikami (chyba że idziesz do NYU, UCB, Carnegie Melon, a może MIT lub Chicago). Jeśli zdecydujesz się na doktorat, będzie to: fizyka, matematyka, informatyka lub ekonomia. Co więcej, przez cały okres swojej kariery będziesz ograniczony do roli badawczej. Większość z nich kończy przeprowadzanie eksperymentalnej/nowoczesnej analizy ryzyka i wyceny instrumentów pochodnych dla średniego biura. Od tej reguły zawsze są wyjątki; a ludzie z CS będą w dużej mierze inżynierami systemów transakcyjnych zaplecza. Jeśli interesuje Cię bycie traderem (najbardziej lukratywne stanowisko na Wall St. poza kadrą kierowniczą/menedżerami) lub menedżerem inwestycyjnym po stronie kupującego, nie musisz wychodzić poza MSF/MSFE. W tym momencie bardziej chodzi o to, komu imponujesz i kogo znasz, co doprowadzi Cię tam, gdzie chcesz być. Jeśli chcesz robić po stronie sprzedaży, front office lub M&A, zdobądź MBA.\n",
      "\n",
      "Miary takie jak PKB, bezrobocie i płace mają na celu pomiar kondycji gospodarki. To są właściwe środki, na które warto zwrócić uwagę. Kiedy gospodarka ma się dobrze, ceny akcji zwykle też mają się dobrze, ale nie zawsze. Giełda wzrosła w 2009 roku o 23%, a gospodarka była w rozsypce. I nie powinno mieć znaczenia, która gazeta opublikowała te liczby. Jeśli liczby są prawidłowe, liczby są prawidłowe. Nie musisz słyszeć danych o PKB w wiadomościach z lisów, aby w nie uwierzyć.\n",
      "\n",
      "\">Tak, podatki płacą za infrastrukturę, ale nie są to „\"cały powód, dla którego płacimy podatki w pierwszej kolejności.\"\" Czy nawet nie czytałeś mojego posta? Powiedziałem już, że podatki płacą za infrastrukturę. Nie są one jednak \"\" cały powód, dla którego płacimy podatki w pierwszej kolejności”. „Są one częścią wielu rzeczy, za które płacą podatki. Jezus Chrystus”.\n",
      "\n",
      "„Wcześniejsze skorzystanie z opcji, jeśli nie możesz sprzedać zakupionych akcji bazowych, jest generalnie niewskazane. Zasadniczo blokujesz najgorszą cenę, jaką możesz zapłacić, a ponadto tracisz wartość czasową swoich pieniędzy (co oznacza, że wprawdzie teraz dość niski, ale nadal). Załóżmy, że masz cenę wykonania 50 USD. Rozumiem, że uważasz, że akcje są warte więcej niż 50 USD. Załóżmy, że to prawdopodobnie, ale nie na pewno słuszne. Niezależnie od tego, czy są warte 51 USD, 151 USD lub 5100 USD, gdy Twoje opcje wygasną, nadal otrzymujesz zysk w wysokości 1 USD, 101 USD lub 5050 USD, jeśli poczekasz do wygaśnięcia i wykonasz wtedy. Wykonując teraz, rezygnujesz z dwóch rzeczy: Odsetki od pieniędzy płacisz za wykonanie od teraz do wygaśnięcia. Gwarancja, że ​​nic nie stracisz. Jeśli kupisz teraz, zyskujesz wszystkie korzyści powyżej ostrzeżenia, ale wszystkie wady są poniżej. Jeśli kupisz je później (w momencie wygaśnięcia ), nadal masz wszystkie plusy powyżej swojego strajku, ale nie ma minusów - w (as wydaje się mało prawdopodobne) w przypadku, gdy jest wart mniej niż strajk, nie możesz po prostu nic nie robić, zamiast mieć coś, co kupiłeś na strajku, co jest teraz mniej warte i ponieść tę stratę. Wykonując wcześnie, podejmujesz ryzyko straty i rezygnujesz z odsetek (lub „przenosisz”” pieniądze, które wydajesz na ćwiczenie) bez dodatkowych zwyżek. Możliwe, że istnieją ulgi podatkowe, jak wspominają inne plakaty, ale szanse na to, że „\"start zegara\"\" dla LTCG są warte tyle, co \"\"opcjonalność\"\" lub ochrona przed stratami plus \"\"carry\"\", lub zainteresowanie, z którego rezygnujesz, jest mało prawdopodobne”.\n",
      "\n",
      "Brzmi to oczywiste, ale: Jeśli właściciel jest niefrasobliwy, możesz go zapytać, czy nie ma nic przeciwko temu, że podnajmujesz przestrzeń, a następnie możesz ją podnająć. Oczywiście, być może będziesz musiał sam popracować, aby znaleźć odpowiedniego lokatora i upewnić się, że robisz wszystko zgodnie z prawem, ale jeśli to działa, to lepsze niż płacenie czynszu za darmo.\n",
      "\n",
      "Zdziwiłbyś się, jak słaba jest koordynacja w niektórych dużych firmach. Pamiętam, jak sklep Walmart, w którym pracowałem, wysłał firmę, aby zainstalowała te nowe elektryczne suszarki do rąk w toaletach. Następnie, dwa tygodnie później, rozpoczęli kompletną przebudowę toalet, wyrywając suszarki do rąk, które właśnie zostały zainstalowane. Najwyraźniej ktoś wiedział, że zostaną zainstalowane suszarki do rąk, a ktoś wiedział, że toalety będą remontowane. Ale wyobrażam sobie, że obie strony nigdy ze sobą nie rozmawiały.\n",
      "\n"
     ]
    }
   ],
   "source": [
    "for doc in sampled_corpus:\n",
    "    print(doc[\"text\"])\n",
    "    print()"
   ]
  },
  {
   "cell_type": "markdown",
   "metadata": {},
   "source": [
    "Według Nanex, firmy zajmującej się danymi rynkowymi, program składał zamówienia w 25-milisekundowych seriach obejmujących około 500 akcji. Algorytm nigdy nie wykonał ani jednej transakcji i nagle zakończył się około godziny 10:30 w piątek ET. Więc za każdym razem zmieniał zdanie? To albo błąd, albo działa z przodu. Myślę, że to frontowe bieganie bez względu na to, jak na to patrzysz. Gdybym uruchomił SEC, wprowadziłbym regułę, która mówi, że wszystkie zamówienia muszą stać przez 2 sekundy, zanim będą mogły zostać anulowane. To wystarczająco dużo czasu, aby ludzie zareagowali na rynku. To 25 ms dla 500 akcji to nonsens. To tylko front, który ma oszukiwać prawdziwych inwestorów i zarabiać na bardzo małych różnicach w cenach miliony razy dziennie. Zniekształca rynki i nie służy nikomu, z wyjątkiem domu maklerskiego, który prowadzi oszustwo.\n",
    "\n",
    "ETF-y kochanie. Wszyscy i ich mama mają swoje pieniądze na rynkach / w awangardzie Gdy na rynkach nastąpi nieunikniona korekta lub jedna z firm technologicznych zorganizuje wydarzenie korporacyjne, które będzie obciążać branżę: zaczną krwawić przepływy. A to zmniejszy zwroty. Co doprowadzi do większej liczby przepływów. Co zmniejszy zwroty. Itd.. i itd. W ten sposób łamią ramy rynkowe. Firmy są silnie lewarowane ze względu na niskie stopy procentowe, więc gdy wskaźniki zadłużenia do kapitału zaczynają rosnąć – nabywcy indywidualni/instytucjonalni zaczynają uciekać w stronę jakości i zaczynają wycofywać się z małych, średnich kapitalizacji z dźwignią. Pęknięcia w małych firmach. Trump ratuje sytuację dzięki podatkom korporacyjnym! I wszyscy płoniemy w północnokoreańskim ogniu\n",
    "\n",
    "Pozwólmy wolnemu rynkowi działać tak, aby najlepszy, najbardziej wydajny produkt, który jest najlepszy dla konsumentów, prosperował. Co za **niesamowity** pomysł. Ale niestety, to jest Reddit, gdzie narzekają na SOPA/PIPA i NDAA, ale wierzą w głosowanie w prawodawcach, którzy chcą rozszerzyć rolę rządu w prywatnym przedsiębiorstwie/życiu.\n",
    "\n",
    "Nie. Otrzymałeś już odliczenie, ponieważ utracone pieniądze FSA były przed opodatkowaniem. Nie możesz się podwoić. Jeśli jednak kwota FSA była niższa niż rzeczywiste wydatki, możesz złożyć wniosek o różnicę. Przykład: 4500 USD rzeczywistych wydatków, 3000 USD FSA (utracone). Możesz otrzymać kredyt na opiekę na utrzymaniu w oparciu o 1500 USD.\n",
    "\n",
    "Jeśli naprawdę jesteś gotów spłacać dodatkowe 1000 USD co miesiąc i masz pewność, że prawdopodobnie zawsze będziesz w stanie, powinieneś refinansować 15-letni kredyt hipoteczny. 15-letnie kredyty hipoteczne są zazwyczaj sprzedawane przy oprocentowaniu niższym o około pół punktu, co oznacza, że ​​zamiast 4,375% APR, otrzymasz około 3,875% APR. To dużo pieniędzy w trakcie kredytu hipotecznego. Zapłacisz około tysiąca więcej miesięcznie – a więc dokładnie to, o czym myślisz – i nie tylko zaoszczędzisz pieniądze z tej wcześniejszej płatności, ale także będziesz miał niższe oprocentowanie. To 0,5% oznacza mniej więcej 25 tys. USD w okresie spłaty kredytu hipotecznego. Jest to również różnica około 130 USD miesięcznie w wymaganej płatności. Teraz oczywiście będziesz zmuszony do dokonania tej większej płatności – więc różnica między tym, co sugerujesz, a tym, że płacisz dodatkowe 25 000 USD w zamian za możliwość wolniejszej spłaty (w takim przypadku oczywiście zapłaciłbyś również wyższe odsetki, ale w najlepszym przypadku). W scenariuszu 15 lat musisz dokonać tych ~4000 płatności. W scenariuszu 30 lat możesz zapłacić ~ 2900 USD za chwilę, jeśli stracisz pracę, chcesz wyjechać na wakacje lub ... cokolwiek. Oczywiście jest też na odwrót: będziesz musiał dokonać płatności, więc będziesz. Wiele osób uważa wymuszone oszczędności za dobrą strategię (ja wśród nich ja); Mam 15-letni kredyt hipoteczny i cieszę się, że muszę płacić wyższą ratę, bo to oznacza, że ​​nie mogę lekkomyślnie wydawać tych dodatkowych pieniędzy. Więc co bym zrobił na twoim miejscu, to rozejrzeć się za 15-letnim refi. To będzie kosztować kilka tysięcy, więc nie bierz jednego, chyba że możesz zaoszczędzić co najmniej pół punktu, ale jeśli możesz, zrób.\n",
    "\n",
    "To nie miasto, to Zarząd Portu. To specjalna wielostanowa policja. PA jest powodem, dla którego most tapanzee został zbudowany w tak głupim miejscu. Most musiał zostać zbudowany 25 mil od Statuy Wolności, aby stan ny mógł pobierać opłaty. Jeśli został zbudowany w promieniu 25 mil, rządzi PA.\n",
    "\n",
    "„Podstawowym równaniem nauczanym w pierwszym dniu szkoły rachunkowości jest to, że aktywa = pasywa + kapitał własny. Po pierwsze, zwróciłem uwagę na rzeczywiste sprawozdania finansowe opublikowane na koniec II kwartału 2017 r. i sumę zobowiązań na ich zbadanym bilansie arkusz był jak 13 miliardów dolarów, a nie 20 miliardów dolarów. Nie wiem, skąd autor wziął ich numery. Moja druga uwaga: dług zwykle musi być spłacany na wcześniej ustalonych warunkach uzgodnionych przez dłużnika i dłużnika, w tym odsetki, więc ważne jest, aby firma śledziła, co jest winna i komu, aby mogła dokonywać płatności na czas. O ile mają pod ręką gotówkę na dokonanie płatności oraz wszelkie odsetki, które są winni, a właściciele są zadowoleni z całkowitego zwrotu na ich inwestycję, to tak naprawdę nie ma znaczenia, jaki mają zadłużenie w bilansie. Zapamiętaj równanie A = L + E. Istnieją dokładnie dwa sposoby finansowania firmy, która chce nabyć aktywa: pasywa i/lub kapitał własny. „Właściwy” poziom zadłużenia vs kapitał własny w bilansie różni się znacznie i całkowicie zależy od branży, wielkości firmy, przepływów pieniężnych, osobistych preferencji dyrektora generalnego, dyrektora finansowego, akcjonariuszy itp. Oczywiście jest to o wiele bardziej szczegółowe i skomplikowane, ale chodzi o to, że patrzenie na sam dług jest bezsensowną miarą. To jest finanse i księgowość przedsiębiorstw 101, więc prawdopodobnie znajdziesz mnóstwo świetnych artykułów i filmów, jeśli chcesz dowiedzieć się więcej”.\n",
    "\n",
    "To prawie miłe, ponieważ nie zwraca uwagi organizacji jako spamera. Jeśli organizacja zorientuje się, w jaki sposób znalazła się na liście, rozwiąże problem i wróci do dobrej pozycji, wtedy wszyscy będziemy mogli działać uprzejmie. Może istnieć nawet prawny powód, dla którego lista nie jest publiczna. Oszczerstwo?\n",
    "\n",
    "„Wnioskodawcy przechodzą przez ten sam proces, co w przypadku każdej innej pożyczki. Jedyną różnicą jest to, że „bank” to ludzie tacy jak ja, być może 200 z nas na banknot. możliwość zadawania pytań wnioskodawcy Inwestorzy płacą niewielki procent opłat za wycenę banknotów przez fachowców Im gorszy kredyt, tym wyższe oprocentowanie otrzymuje posiadacz banknotu Oczywiście jeśli osoba przestaje płacić, nic nie otrzymujemy. ryzyko. Czasami inwestuję w banknoty o wysokim ryzyku, w zależności od tego, do czego są przeznaczone i mam ich kilka w swoim portfelu. To dosłownie mikropożyczanie. Mogę sobie pozwolić na stratę 25 USD na ryzykownej pożyczce lub dwóch na 19% zysku, ponieważ reszta mojego portfela jest zdywersyfikowana na setki nut 9-11%. Działa zaskakująco dobrze.\"\n",
    "\n",
    "Zrób trochę matematyki. Oblicz sumę netto (po opodatkowaniu), którą miałbyś, gdybyś pozostawił ją opodatkowaną, a następnie spójrz na różnicę. W efekcie zapłacisz X USD (teraz podatek) za świadczenie Y USD (podatek od niezapłaconych pełnych świadczeń). Matematyka działa podobnie do samodzielnego kupowania małej polisy.\n",
    "\n",
    "Człowieku, to zdumiewające, że rozwiązaniem bankiera jest zmniejszenie siły roboczej z 16 000 do 2000. Jasne, że będzie to dobrze wyglądać w bilansie, ale byłby to gwóźdź śmierci dla i tak już walczącej firmy. A ludzie zastanawiają się, dlaczego wszyscy są tak znudzeni tymi idiotami na Wall Street.\n",
    "\n",
    "[Jest tak dobrze znany, że ACA będzie zawierał koszty w stosunku do niczego nie robienia, że ​​prawie nie warto cytować źródła.](http://www.nejm.org/doi/full/10.1056/NEJMp1006571) Zredagowano: To się udało złośliwy. Nie chcę ignorować znaczenia długoterminowego ograniczania kosztów w wydatkach na opiekę zdrowotną. Ale zamiast podnosić koszty, ACA jest tak naprawdę tylko małym, ale ważnym pierwszym krokiem w ograniczaniu kosztów. Więcej źródeł: [Affordable Care Act: Implementing Medicare Cost Savings](http://www.cms.gov/apps/docs/ACA-Update-Implementing-Medicare-Costs-Savings.pdf) [Affordable Care Act Will Bring Down Koszty](http://www.healthcare.gov/blog/2011/08/bringingdowncosts082911.html) [Jedynie pierwszy krok w ograniczaniu kosztów opieki zdrowotnej](http://www.nytimes.com/2012/07/22/ biznes/opieka-zdrowotna-prawo-i-ograniczanie-kosztow-gospodarczych-widok.html)\n",
    "\n",
    "Dziadek kręci się, jesteś takim głupim pedałem. Zawsze mam nadzieję, że ktoś jest w liceum. >Warta tylko kpiny, będziesz się z ciebie śmiać przez następne 2 sekundy. miło widzieć, że wciąż myślisz, że to jest zabawne, urocze, boli, czy cokolwiek, kurwa, myślisz, że to jest.\n",
    "\n",
    "Zazwyczaj pożyczasz firmie pożyczkę od siebie jako osoba prywatna, a gdy firma zarabia pieniądze, firma spłaca je Tobie. Następnie firma płaci za wszystkie wydatki pieniędzmi z kredytu. Nawet jeśli nie chcesz jeszcze konta firmowego, prawdopodobnie możesz poprosić swój bank o drugie konto (moje w Wielkiej Brytanii zrobiły to bez żadnych problemów).\n",
    "\n",
    "Tak, stopnie MFE mogą być mieszaną torbą. Ogólnie rzecz biorąc, te programy się poprawiają i jeśli możesz dostać się do programu takiego jak NYU, UCB lub Carnegie Melon, to zdecydowanie polecam. Twoja praktyka z programu MFE będzie oparta na dwóch rzeczach: 1) Kogo zna dyrektor programu na Wall St. 2) Czy jesteś obcokrajowcem. Jeśli chcesz dostać pracę w Ameryce jako absolwent MFE, stoisz w obliczu trudnej bitwy w porównaniu z twoimi amerykańskimi odpowiednikami (chyba że idziesz do NYU, UCB, Carnegie Melon, a może MIT lub Chicago). Jeśli zdecydujesz się na doktorat, będzie to: fizyka, matematyka, informatyka lub ekonomia. Co więcej, przez cały okres swojej kariery będziesz ograniczony do roli badawczej. Większość z nich kończy przeprowadzanie eksperymentalnej/nowoczesnej analizy ryzyka i wyceny instrumentów pochodnych dla średniego biura. Od tej reguły zawsze są wyjątki; a ludzie z CS będą w dużej mierze inżynierami systemów transakcyjnych zaplecza. Jeśli interesuje Cię bycie traderem (najbardziej lukratywne stanowisko na Wall St. poza kadrą kierowniczą/menedżerami) lub menedżerem inwestycyjnym po stronie kupującego, nie musisz wychodzić poza MSF/MSFE. W tym momencie bardziej chodzi o to, komu imponujesz i kogo znasz, co doprowadzi Cię tam, gdzie chcesz być. Jeśli chcesz robić po stronie sprzedaży, front office lub M&A, zdobądź MBA.\n",
    "\n",
    "Miary takie jak PKB, bezrobocie i płace mają na celu pomiar kondycji gospodarki. To są właściwe środki, na które warto zwrócić uwagę. Kiedy gospodarka ma się dobrze, ceny akcji zwykle też mają się dobrze, ale nie zawsze. Giełda wzrosła w 2009 roku o 23%, a gospodarka była w rozsypce. I nie powinno mieć znaczenia, która gazeta opublikowała te liczby. Jeśli liczby są prawidłowe, liczby są prawidłowe. Nie musisz słyszeć danych o PKB w wiadomościach z lisów, aby w nie uwierzyć.\n",
    "\n",
    "\">Tak, podatki płacą za infrastrukturę, ale nie są to „\"cały powód, dla którego płacimy podatki w pierwszej kolejności.\"\" Czy nawet nie czytałeś mojego posta? Powiedziałem już, że podatki płacą za infrastrukturę. Nie są one jednak \"\" cały powód, dla którego płacimy podatki w pierwszej kolejności”. „Są one częścią wielu rzeczy, za które płacą podatki. Jezus Chrystus”.\n",
    "\n",
    "„Wcześniejsze skorzystanie z opcji, jeśli nie możesz sprzedać zakupionych akcji bazowych, jest generalnie niewskazane. Zasadniczo blokujesz najgorszą cenę, jaką możesz zapłacić, a ponadto tracisz wartość czasową swoich pieniędzy (co oznacza, że wprawdzie teraz dość niski, ale nadal). Załóżmy, że masz cenę wykonania 50 USD. Rozumiem, że uważasz, że akcje są warte więcej niż 50 USD. Załóżmy, że to prawdopodobnie, ale nie na pewno słuszne. Niezależnie od tego, czy są warte 51 USD, 151 USD lub 5100 USD, gdy Twoje opcje wygasną, nadal otrzymujesz zysk w wysokości 1 USD, 101 USD lub 5050 USD, jeśli poczekasz do wygaśnięcia i wykonasz wtedy. Wykonując teraz, rezygnujesz z dwóch rzeczy: Odsetki od pieniędzy płacisz za wykonanie od teraz do wygaśnięcia. Gwarancja, że ​​nic nie stracisz. Jeśli kupisz teraz, zyskujesz wszystkie korzyści powyżej ostrzeżenia, ale wszystkie wady są poniżej. Jeśli kupisz je później (w momencie wygaśnięcia ), nadal masz wszystkie plusy powyżej swojego strajku, ale nie ma minusów - w (as wydaje się mało prawdopodobne) w przypadku, gdy jest wart mniej niż strajk, nie możesz po prostu nic nie robić, zamiast mieć coś, co kupiłeś na strajku, co jest teraz mniej warte i ponieść tę stratę. Wykonując wcześnie, podejmujesz ryzyko straty i rezygnujesz z odsetek (lub „przenosisz”” pieniądze, które wydajesz na ćwiczenie) bez dodatkowych zwyżek. Możliwe, że istnieją ulgi podatkowe, jak wspominają inne plakaty, ale szanse na to, że „\"start zegara\"\" dla LTCG są warte tyle, co \"\"opcjonalność\"\" lub ochrona przed stratami plus \"\"carry\"\", lub zainteresowanie, z którego rezygnujesz, jest mało prawdopodobne”.\n",
    "\n",
    "Brzmi to oczywiste, ale: Jeśli właściciel jest niefrasobliwy, możesz go zapytać, czy nie ma nic przeciwko temu, że podnajmujesz przestrzeń, a następnie możesz ją podnająć. Oczywiście, być może będziesz musiał sam popracować, aby znaleźć odpowiedniego lokatora i upewnić się, że robisz wszystko zgodnie z prawem, ale jeśli to działa, to lepsze niż płacenie czynszu za darmo.\n",
    "\n",
    "Zdziwiłbyś się, jak słaba jest koordynacja w niektórych dużych firmach. Pamiętam, jak sklep Walmart, w którym pracowałem, wysłał firmę, aby zainstalowała te nowe elektryczne suszarki do rąk w toaletach. Następnie, dwa tygodnie później, rozpoczęli kompletną przebudowę toalet, wyrywając suszarki do rąk, które właśnie zostały zainstalowane. Najwyraźniej ktoś wiedział, że zostaną zainstalowane suszarki do rąk, a ktoś wiedział, że toalety będą remontowane. Ale wyobrażam sobie, że obie strony nigdy ze sobą nie rozmawiały.\n"
   ]
  },
  {
   "cell_type": "code",
   "execution_count": 41,
   "metadata": {},
   "outputs": [],
   "source": [
    "manual_annotations=[\n",
    "{'Nanex', 'SEC'},\n",
    "{'ETF', 'Trump'},\n",
    "{'Reddit', 'SOPA','PIPA','NDAA'},\n",
    "{'FSA','USD'},\n",
    "{'USD', 'APR'},\n",
    "{'Zarząd Portu','PA', 'Statua Wolności'},\n",
    "{'2017 r.'},\n",
    "set(),\n",
    "{'USD'}, \n",
    "{'USD'}, \n",
    "{'Wall Street'},\n",
    "{'ACA', 'Affordable Care Act'},\n",
    "set(),\n",
    "{'Wielkia Brytania'},\n",
    "{'MFE', 'NYU', 'UCB', 'Carnegie Melon', 'Wall St.', 'Chicago', 'MSF','MSFE', 'M&A', 'MBA'},\n",
    "{'PKB', '2009 rok'},\n",
    "{'Jezus Chrystus'},\n",
    "{'USD', 'LTCG'},\n",
    "set(),\n",
    "{'Walmart'}]"
   ]
  },
  {
   "cell_type": "markdown",
   "metadata": {},
   "source": [
    "## Spacy NER Baseline"
   ]
  },
  {
   "cell_type": "code",
   "execution_count": 17,
   "metadata": {},
   "outputs": [
    {
     "name": "stderr",
     "output_type": "stream",
     "text": [
      "c:\\Users\\janek\\Documents\\PJN\\venv\\Lib\\site-packages\\spacy\\pipeline\\attributeruler.py:149: UserWarning: [W036] The component 'matcher' does not have any patterns defined.\n",
      "  matches = self.matcher(doc, allow_missing=True, as_spans=False)\n"
     ]
    }
   ],
   "source": [
    "spacy_recog=[]\n",
    "for passage in sampled_corpus:\n",
    "    spacy_recog.append(get_entities_no_ner(passage[\"text\"]))"
   ]
  },
  {
   "cell_type": "markdown",
   "metadata": {},
   "source": [
    "## NER using LLAMA 3.2:3B\n",
    "\n",
    "Setup with ollama"
   ]
  },
  {
   "cell_type": "markdown",
   "metadata": {},
   "source": [
    "#### Example Zero-shot NER\n",
    "\n",
    "Prompt: \\\n",
    "*Jakie jednostki nazwane (named entities) znajduja sie w tym zdaniu: \\\n",
    "Wczoraj w Krakowie miało miejsce spotkanie prezydentów Polski i Stanów Zjednoczonych. \\\n",
    "Odpowiedz podaj w formie zbioru (set). \\\n",
    "Jednostki nazwane powinny byc w formach podstawowych (zastosuj lematyzacje).*"
   ]
  },
  {
   "cell_type": "code",
   "execution_count": 24,
   "metadata": {},
   "outputs": [
    {
     "name": "stdout",
     "output_type": "stream",
     "text": [
      "Oto lista jednostek nazwanych (named entities) z tego zdania:\n",
      "\n",
      "{Kraków, Polska, Stanów Zjednoczonych, prezydenci}\n"
     ]
    }
   ],
   "source": [
    "from ollama import chat\n",
    "from ollama import ChatResponse\n",
    "\n",
    "def get_llama_response(message: str) -> ChatResponse:\n",
    "    # Call the Llama model\n",
    "    response: ChatResponse = chat(model='llama3.2:3b', messages=[{\n",
    "        'role': 'user',\n",
    "        'content': message\n",
    "    }])\n",
    "    return response.message.content\n",
    "\n",
    "print(get_llama_response(\"\"\"Jakie jednostki nazwane (named entities) znajduja sie w tym zdaniu: Wczoraj w Krakowie miało miejsce spotkanie prezydentów Polski i Stanów Zjednoczonych. Odpowiedz podaj w formie zbioru (set). Jednostki nazwane powinny byc w formach podstawowych (zastosuj lematyzacje).\"\"\"))"
   ]
  },
  {
   "cell_type": "markdown",
   "metadata": {},
   "source": [
    "#### Example 'few-shot' NER \n",
    "\n",
    "Prompt: \n",
    "Jednostki nazwane (named entities) znajdujace sie w tym zdaniu: \n",
    "\"Wczoraj w Krakowie miało miejsce spotkanie prezydentów Polski i Stanów Zjednoczonych.\" \n",
    "to {\"Kraków\", \"Polska\", \"Stany Zjednoczone\"} \n",
    "\n",
    "Jednostki nazwane (named entities) znajdujace sie w tym zdaniu: \n",
    "\"W październiku tego roku zgłoszono dziewięć projektów, poddanych następnie ocenie przez Morski Komitet Techniczny.\" \n",
    "to {\"październik\", \"Morski Komitet Techniczny\"} \n",
    "\n",
    "Jakie jednostki nazwane (named entities) znajduja sie w tym zdaniu: \n",
    "\"Chram wywodzi swoje początki z VI wieku, ale w obecnej formie istnieje od 1168 roku.\"\n",
    "Odpowiedz podaj w formie zbioru (set). \n",
    "Jednostki nazwane powinny byc w formach podstawowych (zastosuj lematyzacje). "
   ]
  },
  {
   "cell_type": "code",
   "execution_count": 25,
   "metadata": {},
   "outputs": [
    {
     "name": "stdout",
     "output_type": "stream",
     "text": [
      "Oto jednostki nazwane (named entities) z danego zdania: {VI wiek, 1168 roku}\n"
     ]
    }
   ],
   "source": [
    "print(get_llama_response(\"\"\"Jednostki nazwane (named entities) znajdujace sie w tym zdaniu: Wczoraj w Krakowie miało miejsce spotkanie prezydentów Polski i Stanów Zjednoczonych. to {\"Kraków\", \"Polska\", \"Stany Zjednoczone\"}. Jednostki nazwane (named entities) znajdujace sie w tym zdaniu: W październiku tego roku zgłoszono dziewięć projektów, poddanych następnie ocenie przez Morski Komitet Techniczny.\n",
    "to {\"październik\", \"Morski Komitet Techniczny\"}. Jakie jednostki nazwane (named entities) znajduja sie w tym zdaniu: Chram wywodzi swoje początki z VI wieku, ale w obecnej formie istnieje od 1168 roku.Odpowiedz podaj w formie zbioru (set). Jednostki nazwane powinny byc w formach podstawowych (zastosuj lematyzacje).\"\"\"))"
   ]
  },
  {
   "cell_type": "markdown",
   "metadata": {},
   "source": [
    "### NER recog using LLM and comparison to manual and spacy"
   ]
  },
  {
   "cell_type": "code",
   "execution_count": null,
   "metadata": {},
   "outputs": [
    {
     "name": "stdout",
     "output_type": "stream",
     "text": [
      "Error parsing output:  Oto lista jednostek nazwanych z tekstu:\n",
      "\n",
      "* październik\n",
      "* Morski Komitet Techniczny\n",
      "* FSA (Federal Savings Association)\n",
      "* USD (Dolar Stany Zjednoczone)\n",
      "\n",
      "Podanie nie wymaga dodania \"nie\" w odpowiedzi.\n",
      "Error parsing output:  Oto zestaw jednostek nazwanych w formach podstawowych:\n",
      "\n",
      "* Kraków\n",
      "* Polska\n",
      "* Stany Zjednoczone\n",
      "* Październik\n",
      "* Morski Komitet Techniczny\n",
      "* USD\n",
      "* Kredyt hipoteczny\n",
      "* APR (ang. Annual Percentage Rate)\n",
      "* Płatność\n"
     ]
    }
   ],
   "source": [
    "import re\n",
    "def parse_llm_output(output):\n",
    "    pattern = r\"\\{([^}]+)\\}\"\n",
    "    matches = re.findall(pattern, output)\n",
    "    result = {tuple(match.split(', ')) for match in matches}\n",
    "    if not matches:\n",
    "        print(\"Error parsing output: \", output)\n",
    "        return set()\n",
    "    return result\n",
    "\n",
    "def create_ner_prompt(input):\n",
    "    return f\"\"\"Jednostki nazwane (named entities) znajdujace sie w tym tekscie: \n",
    "Wczoraj w Krakowie miało miejsce spotkanie prezydentów Polski i Stanów Zjednoczonych. \n",
    "to {{Kraków, Polska, Stany Zjednoczone}}. \n",
    "\n",
    "Jednostki nazwane (named entities) znajdujace sie w tym zdaniu: \n",
    "W październiku tego roku zgłoszono dziewięć projektów, poddanych następnie ocenie przez Morski Komitet Techniczny. \n",
    "to {{październik, Morski Komitet Techniczny}} \n",
    "\n",
    "Jakie jednostki nazwane (named entities) znajduja sie w tym tekscie: {input}.\n",
    "\n",
    "Odpowiedz podaj w formie zbioru (set). \n",
    "\n",
    "Jednostki nazwane powinny byc w formach podstawowych (zastosuj lematyzacje).\n",
    "\"\"\"\n",
    "\n",
    "llm_recog = []\n",
    "for doc in sampled_corpus:\n",
    "    prompt=create_ner_prompt(doc[\"text\"])\n",
    "    output = get_llama_response(prompt)\n",
    "    llm_recog.append(parse_llm_output(output))\n",
    "    "
   ]
  },
  {
   "cell_type": "markdown",
   "metadata": {},
   "source": [
    "## Evaluation"
   ]
  },
  {
   "cell_type": "code",
   "execution_count": 32,
   "metadata": {},
   "outputs": [
    {
     "name": "stdout",
     "output_type": "stream",
     "text": [
      "Collecting scikit-learn\n",
      "  Downloading scikit_learn-1.6.0-cp312-cp312-win_amd64.whl.metadata (15 kB)\n",
      "Requirement already satisfied: numpy>=1.19.5 in c:\\users\\janek\\documents\\pjn\\venv\\lib\\site-packages (from scikit-learn) (2.0.2)\n",
      "Requirement already satisfied: scipy>=1.6.0 in c:\\users\\janek\\documents\\pjn\\venv\\lib\\site-packages (from scikit-learn) (1.14.1)\n",
      "Collecting joblib>=1.2.0 (from scikit-learn)\n",
      "  Using cached joblib-1.4.2-py3-none-any.whl.metadata (5.4 kB)\n",
      "Collecting threadpoolctl>=3.1.0 (from scikit-learn)\n",
      "  Using cached threadpoolctl-3.5.0-py3-none-any.whl.metadata (13 kB)\n",
      "Downloading scikit_learn-1.6.0-cp312-cp312-win_amd64.whl (11.1 MB)\n",
      "   ---------------------------------------- 0.0/11.1 MB ? eta -:--:--\n",
      "   ------- -------------------------------- 2.1/11.1 MB 16.8 MB/s eta 0:00:01\n",
      "   ----------------------------------- ---- 10.0/11.1 MB 31.0 MB/s eta 0:00:01\n",
      "   ---------------------------------------- 11.1/11.1 MB 26.7 MB/s eta 0:00:00\n",
      "Using cached joblib-1.4.2-py3-none-any.whl (301 kB)\n",
      "Using cached threadpoolctl-3.5.0-py3-none-any.whl (18 kB)\n",
      "Installing collected packages: threadpoolctl, joblib, scikit-learn\n",
      "Successfully installed joblib-1.4.2 scikit-learn-1.6.0 threadpoolctl-3.5.0\n"
     ]
    },
    {
     "name": "stderr",
     "output_type": "stream",
     "text": [
      "\n",
      "[notice] A new release of pip is available: 24.2 -> 24.3.1\n",
      "[notice] To update, run: python.exe -m pip install --upgrade pip\n"
     ]
    }
   ],
   "source": [
    "!pip install scikit-learn"
   ]
  },
  {
   "cell_type": "code",
   "execution_count": 46,
   "metadata": {},
   "outputs": [
    {
     "name": "stdout",
     "output_type": "stream",
     "text": [
      "Spacy vs. Manual\n",
      "Precision: 0.0\n",
      "Recall: 0.0\n",
      "F1 Score: 0\n",
      "\n",
      "LLAMA vs. Manual\n",
      "Precision: 0.0\n",
      "Recall: 0.0\n",
      "F1 Score: 0\n"
     ]
    }
   ],
   "source": [
    "from sklearn.metrics import precision_recall_fscore_support\n",
    "\n",
    "def eval(true_sets, pred_sets):\n",
    "    # Initialize variables to store the total counts\n",
    "    true_positives = 0\n",
    "    false_positives = 0\n",
    "    false_negatives = 0\n",
    "\n",
    "    # Calculate the metrics for each pair of sets\n",
    "    for true_set, pred_set in zip(true_sets, pred_sets):\n",
    "        true_positives += len(true_set & pred_set)  # True positives: intersection of sets\n",
    "        false_positives += len(pred_set - true_set)  # False positives: elements in pred_set but not in true_set\n",
    "        false_negatives += len(true_set - pred_set)  # False negatives: elements in true_set but not in pred_set\n",
    "\n",
    "    # Compute Precision, Recall, and F1 Score using the formulae\n",
    "    # Avoid division by zero by checking if the denominator is not zero\n",
    "\n",
    "    precision = true_positives / (true_positives + false_positives) if (true_positives + false_positives) > 0 else 0\n",
    "    recall = true_positives / (true_positives + false_negatives) if (true_positives + false_negatives) > 0 else 0\n",
    "    f1 = 2 * (precision * recall) / (precision + recall) if (precision + recall) > 0 else 0\n",
    "\n",
    "    # Print the results\n",
    "    print(f\"Precision: {precision}\")\n",
    "    print(f\"Recall: {recall}\")\n",
    "    print(f\"F1 Score: {f1}\")\n",
    "    \n",
    "print(\"Spacy vs. Manual\")\n",
    "eval(true_sets=manual_annotations, pred_sets=spacy_recog)\n",
    "print()\n",
    "print(\"LLAMA vs. Manual\")\n",
    "eval(true_sets=manual_annotations, pred_sets=llm_recog)\n"
   ]
  },
  {
   "cell_type": "code",
   "execution_count": 47,
   "metadata": {},
   "outputs": [
    {
     "name": "stdout",
     "output_type": "stream",
     "text": [
      "[set(), set(), {'Alo'}, set(), {'Wiela'}, set(), {'Moj'}, set(), {'Moga'}, set(), {'Jasny', 'Walla'}, {'Alo'}, set(), set(), {'Walla', 'Ameryka'}, {'Kieda'}, set(), set(), set(), {'Alo'}]\n"
     ]
    }
   ],
   "source": [
    "print(spacy_recog)"
   ]
  },
  {
   "cell_type": "code",
   "execution_count": 48,
   "metadata": {},
   "outputs": [
    {
     "name": "stdout",
     "output_type": "stream",
     "text": [
      "[{('SEC', 'rynki', 'międzynarodowy rynek', 'sekundy', 'godziny', 'sekundy')}, {('Gdańsk',), ('rynki', 'północnokoreański ogniem'), ('ETF', 'Polska', 'Stany Zjednoczone', 'Kraków'), ('październik', 'Morski Komitet Techniczny')}, {('Reddit', 'SOPA/PIPA', 'NDAA')}, set(), set(), {('Statu Wolności', 'PA', 'Zarząd Portu', 'Most Tapanzee')}, {('pierwszy_dzień_szkoły_rachunkowości', 'rachunkowość', 'dług', 'kapitał_właśny', 'zobowiązania', 'odsetki', 'firma', 'inwestycja', 'bilans', 'aktywa', 'pasywa', 'warunki_ustalone', 'warunki_uzgodnione', 'dyrektor_generalny', 'dyrektor_finansowy', 'akcjonariusze')}, {('organizacja', 'lista', 'spamer', 'prawny powód')}, {('październik', 'Morski Komitet Techniczny', 'bank', 'Stany Zjednoczone')}, {('Mathematics', 'USD', 'Tax')}, {('Człowiek', 'Wall Street', 'Bankier')}, {('ACA', 'Medicare', 'Koszty', 'Opieka Zdrowotna', 'NEJM')}, {('Dziadek', 'Kraków', 'Polska', 'Stany Zjednoczone', 'październik', 'Morski Komitet Techniczny')}, {('Wielka Brytania', 'firma', 'bank', 'osoba prywatna', 'kredyt')}, {('Wall St', 'NYU', 'UCB', 'Carnegie Melon', 'MIT', 'Chicago', 'MSF/MSFE', 'MBA')}, {('PKB', 'Polska', 'PKB')}, {('Kraków', 'Polska', 'Stany Zjednoczone', 'październik', 'Morski Komitet Techniczny', 'Jezus Chrystus')}, {('LTCG',), ('USD',), ('plakaty',)}, {('Polska', 'Stany Zjednoczone', 'Kraków', 'październik', 'Morski Komitet Techniczny')}, {('Walmart', 'toalety')}]\n"
     ]
    }
   ],
   "source": [
    "print(llm_recog)"
   ]
  }
 ],
 "metadata": {
  "colab": {
   "provenance": []
  },
  "kernelspec": {
   "display_name": "venv",
   "language": "python",
   "name": "python3"
  },
  "language_info": {
   "codemirror_mode": {
    "name": "ipython",
    "version": 3
   },
   "file_extension": ".py",
   "mimetype": "text/x-python",
   "name": "python",
   "nbconvert_exporter": "python",
   "pygments_lexer": "ipython3",
   "version": "3.12.7"
  }
 },
 "nbformat": 4,
 "nbformat_minor": 0
}
