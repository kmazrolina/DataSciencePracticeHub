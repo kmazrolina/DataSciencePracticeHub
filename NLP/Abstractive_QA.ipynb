{
  "cells": [
    {
      "cell_type": "markdown",
      "metadata": {
        "id": "SRzQ4cTU7s4X"
      },
      "source": [
        "Lab9\n",
        "\n",
        "---\n",
        "\n",
        "# Contextual Question Answering\n",
        "## Abstractive QA\n",
        "\n",
        "The aim of this exercise is building a neural model able to answer contextual questions in the legal domain.\n",
        "\n",
        "Training and Validation dataset: PoQuAD\n",
        "\n",
        "Testing dataset: Simple Legal Questions Dataset\n",
        "\n",
        "Resources:\n",
        "https://medium.com/@ajazturki10/simplifying-language-understanding-a-beginners-guide-to-question-answering-with-t5-and-pytorch-253e0d6aac54\n",
        "\n"
      ]
    },
    {
      "cell_type": "code",
      "execution_count": 1,
      "metadata": {
        "colab": {
          "base_uri": "https://localhost:8080/"
        },
        "id": "MZFtdCFmj-Yu",
        "outputId": "406ebc71-2b7f-4b8f-dd27-0afa42168a9d"
      },
      "outputs": [
        {
          "output_type": "stream",
          "name": "stdout",
          "text": [
            "Requirement already satisfied: transformers in /usr/local/lib/python3.10/dist-packages (4.47.1)\n",
            "Collecting evaluate\n",
            "  Downloading evaluate-0.4.3-py3-none-any.whl.metadata (9.2 kB)\n",
            "Collecting rouge\n",
            "  Downloading rouge-1.0.1-py3-none-any.whl.metadata (4.1 kB)\n",
            "Requirement already satisfied: wandb in /usr/local/lib/python3.10/dist-packages (0.19.1)\n",
            "Requirement already satisfied: nltk in /usr/local/lib/python3.10/dist-packages (3.9.1)\n",
            "Requirement already satisfied: sentencepiece in /usr/local/lib/python3.10/dist-packages (0.2.0)\n",
            "Requirement already satisfied: filelock in /usr/local/lib/python3.10/dist-packages (from transformers) (3.16.1)\n",
            "Requirement already satisfied: huggingface-hub<1.0,>=0.24.0 in /usr/local/lib/python3.10/dist-packages (from transformers) (0.27.0)\n",
            "Requirement already satisfied: numpy>=1.17 in /usr/local/lib/python3.10/dist-packages (from transformers) (1.26.4)\n",
            "Requirement already satisfied: packaging>=20.0 in /usr/local/lib/python3.10/dist-packages (from transformers) (24.2)\n",
            "Requirement already satisfied: pyyaml>=5.1 in /usr/local/lib/python3.10/dist-packages (from transformers) (6.0.2)\n",
            "Requirement already satisfied: regex!=2019.12.17 in /usr/local/lib/python3.10/dist-packages (from transformers) (2024.11.6)\n",
            "Requirement already satisfied: requests in /usr/local/lib/python3.10/dist-packages (from transformers) (2.32.3)\n",
            "Requirement already satisfied: tokenizers<0.22,>=0.21 in /usr/local/lib/python3.10/dist-packages (from transformers) (0.21.0)\n",
            "Requirement already satisfied: safetensors>=0.4.1 in /usr/local/lib/python3.10/dist-packages (from transformers) (0.4.5)\n",
            "Requirement already satisfied: tqdm>=4.27 in /usr/local/lib/python3.10/dist-packages (from transformers) (4.67.1)\n",
            "Collecting datasets>=2.0.0 (from evaluate)\n",
            "  Downloading datasets-3.2.0-py3-none-any.whl.metadata (20 kB)\n",
            "Collecting dill (from evaluate)\n",
            "  Downloading dill-0.3.9-py3-none-any.whl.metadata (10 kB)\n",
            "Requirement already satisfied: pandas in /usr/local/lib/python3.10/dist-packages (from evaluate) (2.2.2)\n",
            "Collecting xxhash (from evaluate)\n",
            "  Downloading xxhash-3.5.0-cp310-cp310-manylinux_2_17_x86_64.manylinux2014_x86_64.whl.metadata (12 kB)\n",
            "Collecting multiprocess (from evaluate)\n",
            "  Downloading multiprocess-0.70.17-py310-none-any.whl.metadata (7.2 kB)\n",
            "Requirement already satisfied: fsspec>=2021.05.0 in /usr/local/lib/python3.10/dist-packages (from fsspec[http]>=2021.05.0->evaluate) (2024.10.0)\n",
            "Requirement already satisfied: six in /usr/local/lib/python3.10/dist-packages (from rouge) (1.17.0)\n",
            "Requirement already satisfied: click!=8.0.0,>=7.1 in /usr/local/lib/python3.10/dist-packages (from wandb) (8.1.7)\n",
            "Requirement already satisfied: docker-pycreds>=0.4.0 in /usr/local/lib/python3.10/dist-packages (from wandb) (0.4.0)\n",
            "Requirement already satisfied: gitpython!=3.1.29,>=1.0.0 in /usr/local/lib/python3.10/dist-packages (from wandb) (3.1.43)\n",
            "Requirement already satisfied: platformdirs in /usr/local/lib/python3.10/dist-packages (from wandb) (4.3.6)\n",
            "Requirement already satisfied: protobuf!=4.21.0,!=5.28.0,<6,>=3.19.0 in /usr/local/lib/python3.10/dist-packages (from wandb) (4.25.5)\n",
            "Requirement already satisfied: psutil>=5.0.0 in /usr/local/lib/python3.10/dist-packages (from wandb) (5.9.5)\n",
            "Requirement already satisfied: pydantic<3,>=2.6 in /usr/local/lib/python3.10/dist-packages (from wandb) (2.10.3)\n",
            "Requirement already satisfied: sentry-sdk>=2.0.0 in /usr/local/lib/python3.10/dist-packages (from wandb) (2.19.2)\n",
            "Requirement already satisfied: setproctitle in /usr/local/lib/python3.10/dist-packages (from wandb) (1.3.4)\n",
            "Requirement already satisfied: setuptools in /usr/local/lib/python3.10/dist-packages (from wandb) (75.1.0)\n",
            "Requirement already satisfied: typing-extensions<5,>=4.4 in /usr/local/lib/python3.10/dist-packages (from wandb) (4.12.2)\n",
            "Requirement already satisfied: joblib in /usr/local/lib/python3.10/dist-packages (from nltk) (1.4.2)\n",
            "Requirement already satisfied: pyarrow>=15.0.0 in /usr/local/lib/python3.10/dist-packages (from datasets>=2.0.0->evaluate) (17.0.0)\n",
            "Collecting dill (from evaluate)\n",
            "  Downloading dill-0.3.8-py3-none-any.whl.metadata (10 kB)\n",
            "Collecting multiprocess (from evaluate)\n",
            "  Downloading multiprocess-0.70.16-py310-none-any.whl.metadata (7.2 kB)\n",
            "Collecting fsspec>=2021.05.0 (from fsspec[http]>=2021.05.0->evaluate)\n",
            "  Downloading fsspec-2024.9.0-py3-none-any.whl.metadata (11 kB)\n",
            "Requirement already satisfied: aiohttp in /usr/local/lib/python3.10/dist-packages (from datasets>=2.0.0->evaluate) (3.11.10)\n",
            "Requirement already satisfied: gitdb<5,>=4.0.1 in /usr/local/lib/python3.10/dist-packages (from gitpython!=3.1.29,>=1.0.0->wandb) (4.0.11)\n",
            "Requirement already satisfied: annotated-types>=0.6.0 in /usr/local/lib/python3.10/dist-packages (from pydantic<3,>=2.6->wandb) (0.7.0)\n",
            "Requirement already satisfied: pydantic-core==2.27.1 in /usr/local/lib/python3.10/dist-packages (from pydantic<3,>=2.6->wandb) (2.27.1)\n",
            "Requirement already satisfied: charset-normalizer<4,>=2 in /usr/local/lib/python3.10/dist-packages (from requests->transformers) (3.4.0)\n",
            "Requirement already satisfied: idna<4,>=2.5 in /usr/local/lib/python3.10/dist-packages (from requests->transformers) (3.10)\n",
            "Requirement already satisfied: urllib3<3,>=1.21.1 in /usr/local/lib/python3.10/dist-packages (from requests->transformers) (2.2.3)\n",
            "Requirement already satisfied: certifi>=2017.4.17 in /usr/local/lib/python3.10/dist-packages (from requests->transformers) (2024.12.14)\n",
            "Requirement already satisfied: python-dateutil>=2.8.2 in /usr/local/lib/python3.10/dist-packages (from pandas->evaluate) (2.8.2)\n",
            "Requirement already satisfied: pytz>=2020.1 in /usr/local/lib/python3.10/dist-packages (from pandas->evaluate) (2024.2)\n",
            "Requirement already satisfied: tzdata>=2022.7 in /usr/local/lib/python3.10/dist-packages (from pandas->evaluate) (2024.2)\n",
            "Requirement already satisfied: aiohappyeyeballs>=2.3.0 in /usr/local/lib/python3.10/dist-packages (from aiohttp->datasets>=2.0.0->evaluate) (2.4.4)\n",
            "Requirement already satisfied: aiosignal>=1.1.2 in /usr/local/lib/python3.10/dist-packages (from aiohttp->datasets>=2.0.0->evaluate) (1.3.2)\n",
            "Requirement already satisfied: async-timeout<6.0,>=4.0 in /usr/local/lib/python3.10/dist-packages (from aiohttp->datasets>=2.0.0->evaluate) (4.0.3)\n",
            "Requirement already satisfied: attrs>=17.3.0 in /usr/local/lib/python3.10/dist-packages (from aiohttp->datasets>=2.0.0->evaluate) (24.3.0)\n",
            "Requirement already satisfied: frozenlist>=1.1.1 in /usr/local/lib/python3.10/dist-packages (from aiohttp->datasets>=2.0.0->evaluate) (1.5.0)\n",
            "Requirement already satisfied: multidict<7.0,>=4.5 in /usr/local/lib/python3.10/dist-packages (from aiohttp->datasets>=2.0.0->evaluate) (6.1.0)\n",
            "Requirement already satisfied: propcache>=0.2.0 in /usr/local/lib/python3.10/dist-packages (from aiohttp->datasets>=2.0.0->evaluate) (0.2.1)\n",
            "Requirement already satisfied: yarl<2.0,>=1.17.0 in /usr/local/lib/python3.10/dist-packages (from aiohttp->datasets>=2.0.0->evaluate) (1.18.3)\n",
            "Requirement already satisfied: smmap<6,>=3.0.1 in /usr/local/lib/python3.10/dist-packages (from gitdb<5,>=4.0.1->gitpython!=3.1.29,>=1.0.0->wandb) (5.0.1)\n",
            "Downloading evaluate-0.4.3-py3-none-any.whl (84 kB)\n",
            "\u001b[2K   \u001b[90m━━━━━━━━━━━━━━━━━━━━━━━━━━━━━━━━━━━━━━━━\u001b[0m \u001b[32m84.0/84.0 kB\u001b[0m \u001b[31m2.6 MB/s\u001b[0m eta \u001b[36m0:00:00\u001b[0m\n",
            "\u001b[?25hDownloading rouge-1.0.1-py3-none-any.whl (13 kB)\n",
            "Downloading datasets-3.2.0-py3-none-any.whl (480 kB)\n",
            "\u001b[2K   \u001b[90m━━━━━━━━━━━━━━━━━━━━━━━━━━━━━━━━━━━━━━━━\u001b[0m \u001b[32m480.6/480.6 kB\u001b[0m \u001b[31m12.0 MB/s\u001b[0m eta \u001b[36m0:00:00\u001b[0m\n",
            "\u001b[?25hDownloading dill-0.3.8-py3-none-any.whl (116 kB)\n",
            "\u001b[2K   \u001b[90m━━━━━━━━━━━━━━━━━━━━━━━━━━━━━━━━━━━━━━━━\u001b[0m \u001b[32m116.3/116.3 kB\u001b[0m \u001b[31m6.0 MB/s\u001b[0m eta \u001b[36m0:00:00\u001b[0m\n",
            "\u001b[?25hDownloading fsspec-2024.9.0-py3-none-any.whl (179 kB)\n",
            "\u001b[2K   \u001b[90m━━━━━━━━━━━━━━━━━━━━━━━━━━━━━━━━━━━━━━━━\u001b[0m \u001b[32m179.3/179.3 kB\u001b[0m \u001b[31m615.1 kB/s\u001b[0m eta \u001b[36m0:00:00\u001b[0m\n",
            "\u001b[?25hDownloading multiprocess-0.70.16-py310-none-any.whl (134 kB)\n",
            "\u001b[2K   \u001b[90m━━━━━━━━━━━━━━━━━━━━━━━━━━━━━━━━━━━━━━━━\u001b[0m \u001b[32m134.8/134.8 kB\u001b[0m \u001b[31m1.3 MB/s\u001b[0m eta \u001b[36m0:00:00\u001b[0m\n",
            "\u001b[?25hDownloading xxhash-3.5.0-cp310-cp310-manylinux_2_17_x86_64.manylinux2014_x86_64.whl (194 kB)\n",
            "\u001b[2K   \u001b[90m━━━━━━━━━━━━━━━━━━━━━━━━━━━━━━━━━━━━━━━━\u001b[0m \u001b[32m194.1/194.1 kB\u001b[0m \u001b[31m9.5 MB/s\u001b[0m eta \u001b[36m0:00:00\u001b[0m\n",
            "\u001b[?25hInstalling collected packages: xxhash, rouge, fsspec, dill, multiprocess, datasets, evaluate\n",
            "  Attempting uninstall: fsspec\n",
            "    Found existing installation: fsspec 2024.10.0\n",
            "    Uninstalling fsspec-2024.10.0:\n",
            "      Successfully uninstalled fsspec-2024.10.0\n",
            "\u001b[31mERROR: pip's dependency resolver does not currently take into account all the packages that are installed. This behaviour is the source of the following dependency conflicts.\n",
            "gcsfs 2024.10.0 requires fsspec==2024.10.0, but you have fsspec 2024.9.0 which is incompatible.\u001b[0m\u001b[31m\n",
            "\u001b[0mSuccessfully installed datasets-3.2.0 dill-0.3.8 evaluate-0.4.3 fsspec-2024.9.0 multiprocess-0.70.16 rouge-1.0.1 xxhash-3.5.0\n"
          ]
        }
      ],
      "source": [
        "!pip install transformers evaluate rouge wandb nltk sentencepiece"
      ]
    },
    {
      "cell_type": "code",
      "execution_count": 2,
      "metadata": {
        "id": "923Y_DBlKYUK"
      },
      "outputs": [],
      "source": [
        "import torch\n",
        "import json\n",
        "from tqdm import tqdm\n",
        "import torch.nn as nn\n",
        "from torch.optim import Adam\n",
        "import spacy\n",
        "import string\n",
        "import evaluate  # Bleu\n",
        "from torch.utils.data import Dataset, DataLoader, RandomSampler\n",
        "import pandas as pd\n",
        "import numpy as np\n",
        "import transformers\n",
        "from transformers import T5Tokenizer, T5Model, T5ForConditionalGeneration, T5TokenizerFast\n",
        "\n",
        "import warnings\n",
        "warnings.filterwarnings(\"ignore\")"
      ]
    },
    {
      "cell_type": "code",
      "execution_count": 12,
      "metadata": {
        "colab": {
          "base_uri": "https://localhost:8080/",
          "height": 214,
          "referenced_widgets": [
            "722cdc2e6e8a4541b51df173ea3863f3",
            "a2af267bb51a4fd5a211a8fd3eac34df",
            "d4321c0a4b8f4b439491ea8c1831c621",
            "6c11af1f0c824411ab9007d0e26be91f",
            "da52712771424303872edffb3a4c74ad",
            "d53f90d1d76947119a3955725f253153",
            "1e3452e8eabd4850bd2f3a99271b1dc5",
            "c4561c5695604a39817d91c7f2d72661",
            "98644396b41f41ca8bd377f262f6582c",
            "eb497c924a0f404e8af41aab814f6bfb",
            "217065a31eda43a98862ed4acdf01bfd",
            "596093d8e1774f74b69cc326ee44cd30",
            "cd6db4eb7a074ac3be4a89d26eaa574f",
            "35c95ed403ef4c198e2436f9f9db6248",
            "a06f8385c9ab49af982dc0ea1637bd56",
            "eab8bc44aec94e2d8a4fbd57c5c98bd4",
            "7c5770efbf1a4c62a773281d68b28b54",
            "81bc8f7aa2574d468dd40579367e6dde",
            "46099252463c4f2b906f275051b65de9",
            "adf703052e624d6aac46d9fbe0b88a0f",
            "c74f744b62cf4706bb77be15f8f01999",
            "2c9c73b6b259448784d79de88dd1f1aa",
            "c0e1c7a6d30d427795f4a9968df59f2a",
            "d050cde76cb645b2a378a4c70504d2a3",
            "ab259b3e62d24992b5ce64d259e80c25",
            "cc3f68e15542461085e75a6d6525b7f0",
            "2cba1f1f38524e3ca302c571df93907f",
            "7fc586b9539c4fa6aa869b28ffdfdd47",
            "ba113b716c7e43b99b41a0aac8979b4e",
            "4d4031831e854f3b86666f8848071796",
            "ec5ae89afe2b48a58f50dcb79ab42a8e",
            "04ba6e6ba4614ab188575b944f9be936",
            "a171f13c51db4f22afd2bb7c38ca9cc9",
            "cd8d8dd454db4c26884ae2dca76f6e42",
            "0996deac1f354fc79d18ad91d388ab36",
            "d3aa573aef894cddbfd89df59ed313f0",
            "90bf3bbe374343e487a0f5d2068d4799",
            "56719ba05aa94962820d811a4c0d4991",
            "a75f6715ef26407aa64ace64572a4a28",
            "ca5a4d5c59444cba941ba88bd5be249e",
            "ee8fdc3c52204b879ca97a147615e034",
            "1ccfe54dbe294596a2296799af405dfe",
            "7d62be834a654b9d815ab0d74610ace7",
            "561d08c450bb4753a80eb07257a38554",
            "7289359d73b84ca4ae394cd76a02900c",
            "d66198ad24a2461a939cb32168d15f32",
            "1d9402904ffb43ddbd22f0bb57fae3ed",
            "6927568841094b99b99303d4644840b9",
            "def1dfad68ef4413a993e28b1316bfd9",
            "6c03bede54454699b5f24d3babb83330",
            "5d263a85f17946fb91fdc6b08909a3bc",
            "e9084c45809f49518283b1391f12ee0b",
            "0568b45456634fdc8653cf370b70136b",
            "92667233bdb04bdd9ae4a357a7f7f50e",
            "073f7b0b503b4ec49dcd5d08f70fc375"
          ]
        },
        "id": "XTgB500dKe1m",
        "outputId": "658c99d0-2ed0-442e-9be9-d6f5cb121757"
      },
      "outputs": [
        {
          "output_type": "display_data",
          "data": {
            "text/plain": [
              "tokenizer_config.json:   0%|          | 0.00/141 [00:00<?, ?B/s]"
            ],
            "application/vnd.jupyter.widget-view+json": {
              "version_major": 2,
              "version_minor": 0,
              "model_id": "722cdc2e6e8a4541b51df173ea3863f3"
            }
          },
          "metadata": {}
        },
        {
          "output_type": "display_data",
          "data": {
            "text/plain": [
              "spiece.model:   0%|          | 0.00/1.12M [00:00<?, ?B/s]"
            ],
            "application/vnd.jupyter.widget-view+json": {
              "version_major": 2,
              "version_minor": 0,
              "model_id": "596093d8e1774f74b69cc326ee44cd30"
            }
          },
          "metadata": {}
        },
        {
          "output_type": "display_data",
          "data": {
            "text/plain": [
              "special_tokens_map.json:   0%|          | 0.00/65.0 [00:00<?, ?B/s]"
            ],
            "application/vnd.jupyter.widget-view+json": {
              "version_major": 2,
              "version_minor": 0,
              "model_id": "c0e1c7a6d30d427795f4a9968df59f2a"
            }
          },
          "metadata": {}
        },
        {
          "output_type": "display_data",
          "data": {
            "text/plain": [
              "config.json:   0%|          | 0.00/658 [00:00<?, ?B/s]"
            ],
            "application/vnd.jupyter.widget-view+json": {
              "version_major": 2,
              "version_minor": 0,
              "model_id": "cd8d8dd454db4c26884ae2dca76f6e42"
            }
          },
          "metadata": {}
        },
        {
          "output_type": "stream",
          "name": "stderr",
          "text": [
            "You are using the default legacy behaviour of the <class 'transformers.models.t5.tokenization_t5.T5Tokenizer'>. This is expected, and simply means that the `legacy` (previous) behavior will be used so nothing changes for you. If you want to use the new behaviour, set `legacy=False`. This should only be set if you understand what it means, and thoroughly read the reason why this was added as explained in https://github.com/huggingface/transformers/pull/24565\n"
          ]
        },
        {
          "output_type": "display_data",
          "data": {
            "text/plain": [
              "pytorch_model.bin:   0%|          | 0.00/1.10G [00:00<?, ?B/s]"
            ],
            "application/vnd.jupyter.widget-view+json": {
              "version_major": 2,
              "version_minor": 0,
              "model_id": "7289359d73b84ca4ae394cd76a02900c"
            }
          },
          "metadata": {}
        }
      ],
      "source": [
        "TOKENIZER = T5TokenizerFast.from_pretrained(\"allegro/plt5-base\")\n",
        "MODEL = T5ForConditionalGeneration.from_pretrained(\"allegro/plt5-base\", return_dict=True)\n",
        "OPTIMIZER = Adam(MODEL.parameters(), lr=0.00001)\n",
        "Q_LEN = 256   # Question Length\n",
        "T_LEN = 32    # Target Length\n",
        "BATCH_SIZE = 16\n",
        "DEVICE = \"cuda\" if torch.cuda.is_available() else \"cpu\""
      ]
    },
    {
      "cell_type": "markdown",
      "metadata": {
        "id": "Lt9UIClRiOZI"
      },
      "source": [
        "## Download PoQuAD Dataset (Training and Validation)"
      ]
    },
    {
      "cell_type": "code",
      "execution_count": 3,
      "metadata": {
        "colab": {
          "base_uri": "https://localhost:8080/"
        },
        "id": "0ROOflEiiVKr",
        "outputId": "4c745330-8f0f-45a4-d43a-246a7e31573f"
      },
      "outputs": [
        {
          "output_type": "stream",
          "name": "stdout",
          "text": [
            "--2025-01-04 22:51:57--  https://huggingface.co/datasets/clarin-pl/poquad/resolve/main/poquad-train.json\n",
            "Resolving huggingface.co (huggingface.co)... 65.8.243.46, 65.8.243.16, 65.8.243.90, ...\n",
            "Connecting to huggingface.co (huggingface.co)|65.8.243.46|:443... connected.\n",
            "HTTP request sent, awaiting response... 302 Found\n",
            "Location: https://cdn-lfs.hf.co/repos/18/de/18ded45e8046dd5f58b7365947f5a4298433a0e7710248308670e8cf26059c20/b1ac3acabb49fedb7bb7db0de0690ddb22585d6419321589cc1bb0a8068a4ff9?response-content-disposition=inline%3B+filename*%3DUTF-8%27%27poquad-train.json%3B+filename%3D%22poquad-train.json%22%3B&response-content-type=application%2Fjson&Expires=1736290317&Policy=eyJTdGF0ZW1lbnQiOlt7IkNvbmRpdGlvbiI6eyJEYXRlTGVzc1RoYW4iOnsiQVdTOkVwb2NoVGltZSI6MTczNjI5MDMxN319LCJSZXNvdXJjZSI6Imh0dHBzOi8vY2RuLWxmcy5oZi5jby9yZXBvcy8xOC9kZS8xOGRlZDQ1ZTgwNDZkZDVmNThiNzM2NTk0N2Y1YTQyOTg0MzNhMGU3NzEwMjQ4MzA4NjcwZThjZjI2MDU5YzIwL2IxYWMzYWNhYmI0OWZlZGI3YmI3ZGIwZGUwNjkwZGRiMjI1ODVkNjQxOTMyMTU4OWNjMWJiMGE4MDY4YTRmZjk%7EcmVzcG9uc2UtY29udGVudC1kaXNwb3NpdGlvbj0qJnJlc3BvbnNlLWNvbnRlbnQtdHlwZT0qIn1dfQ__&Signature=h2CdWIcz6-hHyzVZVZSqKZNapW6no6Ec2ojqLPwAkLOgsNekZgOM%7EH6NAi7CjlqnOm%7Er3GTl4hEGo4uHTlNTKDb22q5ekxTYRHwhgpupT5tfHcvDAueIyMlQAx19zkhPwGzT2Bekz0CankE6kYcI8QdTSZJClki4gyHQgJLoDa9kfjVYabgJHtN1UKQrRJJlc6yWBT6lft4Ht0qrW11Fmeg5yP6I2wi11Bk06BSpS1sB4goTCTPm2dR6LY%7ECjIruLva%7E8clgCryBoIgTkmI4%7Ekqy-u1bxhGL4zemp9L6RZeDCIx5iSEKLT7cdAxd20At-9kQ5PMtU4QFb%7EjeN7GZlQ__&Key-Pair-Id=K3RPWS32NSSJCE [following]\n",
            "--2025-01-04 22:51:57--  https://cdn-lfs.hf.co/repos/18/de/18ded45e8046dd5f58b7365947f5a4298433a0e7710248308670e8cf26059c20/b1ac3acabb49fedb7bb7db0de0690ddb22585d6419321589cc1bb0a8068a4ff9?response-content-disposition=inline%3B+filename*%3DUTF-8%27%27poquad-train.json%3B+filename%3D%22poquad-train.json%22%3B&response-content-type=application%2Fjson&Expires=1736290317&Policy=eyJTdGF0ZW1lbnQiOlt7IkNvbmRpdGlvbiI6eyJEYXRlTGVzc1RoYW4iOnsiQVdTOkVwb2NoVGltZSI6MTczNjI5MDMxN319LCJSZXNvdXJjZSI6Imh0dHBzOi8vY2RuLWxmcy5oZi5jby9yZXBvcy8xOC9kZS8xOGRlZDQ1ZTgwNDZkZDVmNThiNzM2NTk0N2Y1YTQyOTg0MzNhMGU3NzEwMjQ4MzA4NjcwZThjZjI2MDU5YzIwL2IxYWMzYWNhYmI0OWZlZGI3YmI3ZGIwZGUwNjkwZGRiMjI1ODVkNjQxOTMyMTU4OWNjMWJiMGE4MDY4YTRmZjk%7EcmVzcG9uc2UtY29udGVudC1kaXNwb3NpdGlvbj0qJnJlc3BvbnNlLWNvbnRlbnQtdHlwZT0qIn1dfQ__&Signature=h2CdWIcz6-hHyzVZVZSqKZNapW6no6Ec2ojqLPwAkLOgsNekZgOM%7EH6NAi7CjlqnOm%7Er3GTl4hEGo4uHTlNTKDb22q5ekxTYRHwhgpupT5tfHcvDAueIyMlQAx19zkhPwGzT2Bekz0CankE6kYcI8QdTSZJClki4gyHQgJLoDa9kfjVYabgJHtN1UKQrRJJlc6yWBT6lft4Ht0qrW11Fmeg5yP6I2wi11Bk06BSpS1sB4goTCTPm2dR6LY%7ECjIruLva%7E8clgCryBoIgTkmI4%7Ekqy-u1bxhGL4zemp9L6RZeDCIx5iSEKLT7cdAxd20At-9kQ5PMtU4QFb%7EjeN7GZlQ__&Key-Pair-Id=K3RPWS32NSSJCE\n",
            "Resolving cdn-lfs.hf.co (cdn-lfs.hf.co)... 18.154.101.117, 18.154.101.56, 18.154.101.64, ...\n",
            "Connecting to cdn-lfs.hf.co (cdn-lfs.hf.co)|18.154.101.117|:443... connected.\n",
            "HTTP request sent, awaiting response... 200 OK\n",
            "Length: 47183344 (45M) [application/json]\n",
            "Saving to: ‘poquad-train.json’\n",
            "\n",
            "poquad-train.json   100%[===================>]  45.00M   124MB/s    in 0.4s    \n",
            "\n",
            "2025-01-04 22:51:58 (124 MB/s) - ‘poquad-train.json’ saved [47183344/47183344]\n",
            "\n",
            "--2025-01-04 22:51:58--  https://huggingface.co/datasets/clarin-pl/poquad/resolve/main/poquad-dev.json\n",
            "Resolving huggingface.co (huggingface.co)... 65.8.243.46, 65.8.243.16, 65.8.243.90, ...\n",
            "Connecting to huggingface.co (huggingface.co)|65.8.243.46|:443... connected.\n",
            "HTTP request sent, awaiting response... 200 OK\n",
            "Length: 6286317 (6.0M) [text/plain]\n",
            "Saving to: ‘poquad-dev.json’\n",
            "\n",
            "poquad-dev.json     100%[===================>]   5.99M  23.7MB/s    in 0.3s    \n",
            "\n",
            "2025-01-04 22:51:58 (23.7 MB/s) - ‘poquad-dev.json’ saved [6286317/6286317]\n",
            "\n"
          ]
        }
      ],
      "source": [
        "#for AQA\n",
        "!wget https://huggingface.co/datasets/clarin-pl/poquad/resolve/main/poquad-train.json\n",
        "!wget https://huggingface.co/datasets/clarin-pl/poquad/resolve/main/poquad-dev.json"
      ]
    },
    {
      "cell_type": "code",
      "execution_count": 4,
      "metadata": {
        "id": "UTiqhwdjkV60"
      },
      "outputs": [],
      "source": [
        "with open('poquad-train.json') as f:\n",
        "    train_data = json.load(f)\n",
        "with open('poquad-dev.json') as f:\n",
        "    validation_data = json.load(f)"
      ]
    },
    {
      "cell_type": "code",
      "execution_count": 5,
      "metadata": {
        "colab": {
          "base_uri": "https://localhost:8080/"
        },
        "id": "HpNwf9CWmlJL",
        "outputId": "65bca24a-dc51-419a-c0df-76bc2ad00859"
      },
      "outputs": [
        {
          "output_type": "stream",
          "name": "stdout",
          "text": [
            "CONTEXT\n",
            " Projekty konfederacji zaczęły się załamywać 5 sierpnia 1942. Ponownie wróciła kwestia monachijska, co uaktywniło się wymianą listów Ripka – Stroński. Natomiast 17 sierpnia 1942 doszło do spotkania E. Beneša i J. Masaryka z jednej a Wł. Sikorskiego i E. Raczyńskiego z drugiej strony. Polscy dyplomaci zaproponowali podpisanie układu konfederacyjnego. W następnym miesiącu, tj. 24 września, strona polska przesłała na ręce J. Masaryka projekt deklaracji o przyszłej konfederacji obu państw. Strona czechosłowacka projekt przyjęła, lecz już w listopadzie 1942 E. Beneš podważył ideę konfederacji. W zamian zaproponowano zawarcie układu sojuszniczego z Polską na 20 lat (formalnie nastąpiło to 20 listopada 1942).\n",
            "QESTION\n",
            " Co było powodem powrócenia konceptu porozumieniu monachijskiego?\n",
            "ANSWER\n",
            " wymiana listów Ripka – Stroński\n"
          ]
        }
      ],
      "source": [
        "print(\"CONTEXT\\n\", train_data['data'][0]['paragraphs'][0]['context'])\n",
        "print(\"QESTION\\n\", train_data['data'][0]['paragraphs'][0]['qas'][0]['question'])\n",
        "print(\"ANSWER\\n\", train_data['data'][0]['paragraphs'][0]['qas'][0]['answers'][0]['generative_answer'])"
      ]
    },
    {
      "cell_type": "markdown",
      "metadata": {
        "id": "Z5-T8sNoLGhM"
      },
      "source": [
        "### Preprocessing"
      ]
    },
    {
      "cell_type": "code",
      "execution_count": 6,
      "metadata": {
        "id": "20delZK3LIUz"
      },
      "outputs": [],
      "source": [
        "# Extracting context, question, and answers from the dataset\n",
        "\n",
        "def prepare_data(data):\n",
        "    articles = []\n",
        "\n",
        "    for article in data[\"data\"]:\n",
        "        for paragraph in article[\"paragraphs\"]:\n",
        "            for qa in paragraph[\"qas\"]:\n",
        "                question = qa[\"question\"]\n",
        "\n",
        "                if not qa[\"is_impossible\"]:\n",
        "                  answer = qa[\"answers\"][0][\"text\"]\n",
        "\n",
        "                inputs = {\"context\": paragraph[\"context\"], \"question\": question, \"answer\": answer}\n",
        "\n",
        "\n",
        "                articles.append(inputs)\n",
        "\n",
        "    return articles\n",
        "\n",
        "train_data = prepare_data(train_data)\n",
        "validation_data = prepare_data(validation_data)\n",
        "\n",
        "# Create a Dataframe\n",
        "train_data = pd.DataFrame(train_data)\n",
        "validation_data = pd.DataFrame(validation_data)"
      ]
    },
    {
      "cell_type": "code",
      "execution_count": null,
      "metadata": {
        "id": "nc6G-4nILTFM"
      },
      "outputs": [],
      "source": [
        "class QA_Dataset(Dataset):\n",
        "    def __init__(self, tokenizer, dataframe, q_len, t_len):\n",
        "        self.tokenizer = tokenizer\n",
        "        self.q_len = q_len\n",
        "        self.t_len = t_len\n",
        "        self.data = dataframe\n",
        "        self.questions = self.data[\"question\"]\n",
        "        self.context = self.data[\"context\"]\n",
        "        self.answer = self.data['answer']\n",
        "\n",
        "    def __len__(self):\n",
        "        return len(self.questions)\n",
        "\n",
        "    def __getitem__(self, idx):\n",
        "        question = self.questions[idx]\n",
        "        context = self.context[idx]\n",
        "        answer = self.answer[idx]\n",
        "\n",
        "        question_tokenized = self.tokenizer(question, context, max_length=self.q_len, padding=\"max_length\",\n",
        "                                                    truncation=True, pad_to_max_length=True, add_special_tokens=True)\n",
        "        answer_tokenized = self.tokenizer(answer, max_length=self.t_len, padding=\"max_length\",\n",
        "                                          truncation=True, pad_to_max_length=True, add_special_tokens=True)\n",
        "\n",
        "        labels = torch.tensor(answer_tokenized[\"input_ids\"], dtype=torch.long)\n",
        "        labels[labels == 0] = TOKENIZER.pad_token_id\n",
        "\n",
        "        return {\n",
        "            \"input_ids\": torch.tensor(question_tokenized[\"input_ids\"], dtype=torch.long),\n",
        "            \"attention_mask\": torch.tensor(question_tokenized[\"attention_mask\"], dtype=torch.long),\n",
        "            \"labels\": labels,\n",
        "            \"decoder_attention_mask\": torch.tensor(answer_tokenized[\"attention_mask\"], dtype=torch.long)\n",
        "        }"
      ]
    },
    {
      "cell_type": "code",
      "execution_count": null,
      "metadata": {
        "id": "W9-l827_LZAG"
      },
      "outputs": [],
      "source": [
        "# Dataloader\n",
        "\n",
        "train_sampler = RandomSampler(train_data.index)\n",
        "val_sampler = RandomSampler(validation_data.index)\n",
        "\n",
        "data =  pd.concat([train_data, validation_data], axis=0, ignore_index=True)\n",
        "qa_dataset = QA_Dataset(TOKENIZER, data, Q_LEN, T_LEN)\n",
        "\n",
        "train_loader = DataLoader(qa_dataset, batch_size=BATCH_SIZE, sampler=train_sampler)\n",
        "val_loader = DataLoader(qa_dataset, batch_size=BATCH_SIZE, sampler=val_sampler)"
      ]
    },
    {
      "cell_type": "code",
      "execution_count": null,
      "metadata": {
        "colab": {
          "base_uri": "https://localhost:8080/"
        },
        "id": "OK57V8OSJRRi",
        "outputId": "8b45c505-9702-4684-9660-0788c188b3fc"
      },
      "outputs": [
        {
          "name": "stdout",
          "output_type": "stream",
          "text": [
            "Training batches:  7078\n",
            "Validation batches:  883\n"
          ]
        }
      ],
      "source": [
        "print(\"Training batches: \", len(train_loader))\n",
        "print(\"Validation batches: \", len(val_loader))"
      ]
    },
    {
      "cell_type": "markdown",
      "metadata": {
        "id": "Ley7GJIG46HF"
      },
      "source": [
        "# Training"
      ]
    },
    {
      "cell_type": "code",
      "execution_count": null,
      "metadata": {
        "colab": {
          "base_uri": "https://localhost:8080/",
          "height": 249,
          "referenced_widgets": [
            "9856fb5289ef4f6baf2503b6d5da1e8c"
          ]
        },
        "id": "70_bQQQU7Hhk",
        "outputId": "b90d859f-c32e-4efa-8900-f7086a51119d"
      },
      "outputs": [
        {
          "name": "stderr",
          "output_type": "stream",
          "text": [
            "Failed to detect the name of this notebook, you can set it manually with the WANDB_NOTEBOOK_NAME environment variable to enable code saving.\n",
            "\u001b[34m\u001b[1mwandb\u001b[0m: Using wandb-core as the SDK backend.  Please refer to https://wandb.me/wandb-core for more information.\n",
            "\u001b[34m\u001b[1mwandb\u001b[0m: W&B API key is configured. Use \u001b[1m`wandb login --relogin`\u001b[0m to force relogin\n"
          ]
        },
        {
          "data": {
            "application/vnd.jupyter.widget-view+json": {
              "model_id": "9856fb5289ef4f6baf2503b6d5da1e8c",
              "version_major": 2,
              "version_minor": 0
            },
            "text/plain": [
              "VBox(children=(Label(value='Waiting for wandb.init()...\\r'), FloatProgress(value=0.011112338169995281, max=1.0…"
            ]
          },
          "metadata": {},
          "output_type": "display_data"
        },
        {
          "data": {
            "text/html": [
              "Tracking run with wandb version 0.19.1"
            ],
            "text/plain": [
              "<IPython.core.display.HTML object>"
            ]
          },
          "metadata": {},
          "output_type": "display_data"
        },
        {
          "data": {
            "text/html": [
              "Run data is saved locally in <code>/net/pr2/projects/plgrid/plggrai/kzrobek/Gen_Question_Answering/wandb/run-20250104_182807-yvna4xtq</code>"
            ],
            "text/plain": [
              "<IPython.core.display.HTML object>"
            ]
          },
          "metadata": {},
          "output_type": "display_data"
        },
        {
          "data": {
            "text/html": [
              "Syncing run <strong><a href='https://wandb.ai/karolina-m-zrobek-agh/PJN9/runs/yvna4xtq' target=\"_blank\">athena_plt5-base_poquad</a></strong> to <a href='https://wandb.ai/karolina-m-zrobek-agh/PJN9' target=\"_blank\">Weights & Biases</a> (<a href='https://wandb.me/developer-guide' target=\"_blank\">docs</a>)<br>"
            ],
            "text/plain": [
              "<IPython.core.display.HTML object>"
            ]
          },
          "metadata": {},
          "output_type": "display_data"
        },
        {
          "data": {
            "text/html": [
              " View project at <a href='https://wandb.ai/karolina-m-zrobek-agh/PJN9' target=\"_blank\">https://wandb.ai/karolina-m-zrobek-agh/PJN9</a>"
            ],
            "text/plain": [
              "<IPython.core.display.HTML object>"
            ]
          },
          "metadata": {},
          "output_type": "display_data"
        },
        {
          "data": {
            "text/html": [
              " View run at <a href='https://wandb.ai/karolina-m-zrobek-agh/PJN9/runs/yvna4xtq' target=\"_blank\">https://wandb.ai/karolina-m-zrobek-agh/PJN9/runs/yvna4xtq</a>"
            ],
            "text/plain": [
              "<IPython.core.display.HTML object>"
            ]
          },
          "metadata": {},
          "output_type": "display_data"
        },
        {
          "data": {
            "text/html": [
              "<button onClick=\"this.nextSibling.style.display='block';this.style.display='none';\">Display W&B run</button><iframe src='https://wandb.ai/karolina-m-zrobek-agh/PJN9/runs/yvna4xtq?jupyter=true' style='border:none;width:100%;height:420px;display:none;'></iframe>"
            ],
            "text/plain": [
              "<wandb.sdk.wandb_run.Run at 0x150c25a9d880>"
            ]
          },
          "execution_count": 13,
          "metadata": {},
          "output_type": "execute_result"
        }
      ],
      "source": [
        "import wandb\n",
        "wandb.init(project=\"PJN9\", name=\"athena_plt5-base_poquad\")"
      ]
    },
    {
      "cell_type": "code",
      "execution_count": null,
      "metadata": {
        "colab": {
          "base_uri": "https://localhost:8080/",
          "height": 446
        },
        "id": "R1H0vtufaEjA",
        "outputId": "c7335eca-22f7-4716-adcc-5cf7b76f5887"
      },
      "outputs": [
        {
          "name": "stderr",
          "output_type": "stream",
          "text": [
            "Training batches:   0%|          | 0/7078 [00:00<?, ?it/s]Passing a tuple of `past_key_values` is deprecated and will be removed in Transformers v4.48.0. You should pass an instance of `EncoderDecoderCache` instead, e.g. `past_key_values=EncoderDecoderCache.from_legacy_cache(past_key_values)`.\n",
            "Training batches:   1%|▏         | 100/7078 [00:27<4:37:20,  2.38s/it]"
          ]
        },
        {
          "name": "stdout",
          "output_type": "stream",
          "text": [
            "1/2 -> Train loss: 12360.009284973145\n"
          ]
        },
        {
          "name": "stderr",
          "output_type": "stream",
          "text": [
            "Training batches:   3%|▎         | 201/7078 [00:43<30:46,  3.73it/s]  "
          ]
        },
        {
          "name": "stdout",
          "output_type": "stream",
          "text": [
            "1/2 -> Train loss: 22501.7628326416\n"
          ]
        },
        {
          "name": "stderr",
          "output_type": "stream",
          "text": [
            "Training batches:   4%|▍         | 301/7078 [01:01<1:12:49,  1.55it/s]"
          ]
        },
        {
          "name": "stdout",
          "output_type": "stream",
          "text": [
            "1/2 -> Train loss: 30858.819995880127\n"
          ]
        },
        {
          "name": "stderr",
          "output_type": "stream",
          "text": [
            "Training batches:   6%|▌         | 401/7078 [01:18<30:38,  3.63it/s]  "
          ]
        },
        {
          "name": "stdout",
          "output_type": "stream",
          "text": [
            "1/2 -> Train loss: 36379.84896850586\n"
          ]
        },
        {
          "name": "stderr",
          "output_type": "stream",
          "text": [
            "Training batches:   7%|▋         | 501/7078 [01:34<28:49,  3.80it/s]"
          ]
        },
        {
          "name": "stdout",
          "output_type": "stream",
          "text": [
            "1/2 -> Train loss: 39176.98579788208\n"
          ]
        },
        {
          "name": "stderr",
          "output_type": "stream",
          "text": [
            "Training batches:   8%|▊         | 601/7078 [01:52<59:20,  1.82it/s]  "
          ]
        },
        {
          "name": "stdout",
          "output_type": "stream",
          "text": [
            "1/2 -> Train loss: 40994.02756404877\n"
          ]
        },
        {
          "name": "stderr",
          "output_type": "stream",
          "text": [
            "Training batches:  10%|▉         | 701/7078 [02:08<29:10,  3.64it/s]"
          ]
        },
        {
          "name": "stdout",
          "output_type": "stream",
          "text": [
            "1/2 -> Train loss: 42384.30526924133\n"
          ]
        },
        {
          "name": "stderr",
          "output_type": "stream",
          "text": [
            "Training batches:  11%|█▏        | 801/7078 [02:24<28:52,  3.62it/s]"
          ]
        },
        {
          "name": "stdout",
          "output_type": "stream",
          "text": [
            "1/2 -> Train loss: 43556.978652477264\n"
          ]
        },
        {
          "name": "stderr",
          "output_type": "stream",
          "text": [
            "Training batches:  13%|█▎        | 901/7078 [02:42<1:01:44,  1.67it/s]"
          ]
        },
        {
          "name": "stdout",
          "output_type": "stream",
          "text": [
            "1/2 -> Train loss: 44598.7671456337\n"
          ]
        },
        {
          "name": "stderr",
          "output_type": "stream",
          "text": [
            "Training batches:  14%|█▍        | 1001/7078 [02:58<29:19,  3.45it/s] "
          ]
        },
        {
          "name": "stdout",
          "output_type": "stream",
          "text": [
            "1/2 -> Train loss: 45507.84151315689\n"
          ]
        },
        {
          "name": "stderr",
          "output_type": "stream",
          "text": [
            "Training batches:  16%|█▌        | 1101/7078 [03:15<25:30,  3.91it/s]"
          ]
        },
        {
          "name": "stdout",
          "output_type": "stream",
          "text": [
            "1/2 -> Train loss: 46318.82102918625\n"
          ]
        },
        {
          "name": "stderr",
          "output_type": "stream",
          "text": [
            "Training batches:  17%|█▋        | 1200/7078 [03:32<1:12:10,  1.36it/s]"
          ]
        },
        {
          "name": "stdout",
          "output_type": "stream",
          "text": [
            "1/2 -> Train loss: 47092.749212265015\n"
          ]
        },
        {
          "name": "stderr",
          "output_type": "stream",
          "text": [
            "Training batches:  18%|█▊        | 1301/7078 [03:49<26:31,  3.63it/s]  "
          ]
        },
        {
          "name": "stdout",
          "output_type": "stream",
          "text": [
            "1/2 -> Train loss: 47792.74526309967\n"
          ]
        },
        {
          "name": "stderr",
          "output_type": "stream",
          "text": [
            "Training batches:  20%|█▉        | 1401/7078 [04:05<24:06,  3.92it/s]"
          ]
        },
        {
          "name": "stdout",
          "output_type": "stream",
          "text": [
            "1/2 -> Train loss: 48438.66938519478\n"
          ]
        },
        {
          "name": "stderr",
          "output_type": "stream",
          "text": [
            "Training batches:  21%|██        | 1500/7078 [04:22<1:09:42,  1.33it/s]"
          ]
        },
        {
          "name": "stdout",
          "output_type": "stream",
          "text": [
            "1/2 -> Train loss: 49054.55450749397\n"
          ]
        },
        {
          "name": "stderr",
          "output_type": "stream",
          "text": [
            "Training batches:  23%|██▎       | 1601/7078 [04:39<25:09,  3.63it/s]  "
          ]
        },
        {
          "name": "stdout",
          "output_type": "stream",
          "text": [
            "1/2 -> Train loss: 49611.786410331726\n"
          ]
        },
        {
          "name": "stderr",
          "output_type": "stream",
          "text": [
            "Training batches:  24%|██▍       | 1701/7078 [04:56<25:51,  3.47it/s]"
          ]
        },
        {
          "name": "stdout",
          "output_type": "stream",
          "text": [
            "1/2 -> Train loss: 50127.705444574356\n"
          ]
        },
        {
          "name": "stderr",
          "output_type": "stream",
          "text": [
            "Training batches:  25%|██▌       | 1801/7078 [05:13<45:40,  1.93it/s]"
          ]
        },
        {
          "name": "stdout",
          "output_type": "stream",
          "text": [
            "1/2 -> Train loss: 50648.53631043434\n"
          ]
        },
        {
          "name": "stderr",
          "output_type": "stream",
          "text": [
            "Training batches:  27%|██▋       | 1901/7078 [05:30<20:48,  4.15it/s]"
          ]
        },
        {
          "name": "stdout",
          "output_type": "stream",
          "text": [
            "1/2 -> Train loss: 51129.20186448097\n"
          ]
        },
        {
          "name": "stderr",
          "output_type": "stream",
          "text": [
            "Training batches:  28%|██▊       | 2001/7078 [05:46<19:23,  4.37it/s]"
          ]
        },
        {
          "name": "stdout",
          "output_type": "stream",
          "text": [
            "1/2 -> Train loss: 51619.69003653526\n"
          ]
        },
        {
          "name": "stderr",
          "output_type": "stream",
          "text": [
            "Training batches:  30%|██▉       | 2101/7078 [06:04<45:26,  1.83it/s]"
          ]
        },
        {
          "name": "stdout",
          "output_type": "stream",
          "text": [
            "1/2 -> Train loss: 52092.32055425644\n"
          ]
        },
        {
          "name": "stderr",
          "output_type": "stream",
          "text": [
            "Training batches:  31%|███       | 2201/7078 [06:20<18:17,  4.44it/s]"
          ]
        },
        {
          "name": "stdout",
          "output_type": "stream",
          "text": [
            "1/2 -> Train loss: 52531.72650337219\n"
          ]
        },
        {
          "name": "stderr",
          "output_type": "stream",
          "text": [
            "Training batches:  33%|███▎      | 2301/7078 [06:36<17:34,  4.53it/s]"
          ]
        },
        {
          "name": "stdout",
          "output_type": "stream",
          "text": [
            "1/2 -> Train loss: 52987.62722468376\n"
          ]
        },
        {
          "name": "stderr",
          "output_type": "stream",
          "text": [
            "Training batches:  34%|███▍      | 2401/7078 [06:54<44:11,  1.76it/s]"
          ]
        },
        {
          "name": "stdout",
          "output_type": "stream",
          "text": [
            "1/2 -> Train loss: 53419.18631219864\n"
          ]
        },
        {
          "name": "stderr",
          "output_type": "stream",
          "text": [
            "Training batches:  35%|███▌      | 2501/7078 [07:10<17:19,  4.40it/s]"
          ]
        },
        {
          "name": "stdout",
          "output_type": "stream",
          "text": [
            "1/2 -> Train loss: 53849.79552030563\n"
          ]
        },
        {
          "name": "stderr",
          "output_type": "stream",
          "text": [
            "Training batches:  37%|███▋      | 2601/7078 [07:26<17:36,  4.24it/s]"
          ]
        },
        {
          "name": "stdout",
          "output_type": "stream",
          "text": [
            "1/2 -> Train loss: 54269.05127596855\n"
          ]
        },
        {
          "name": "stderr",
          "output_type": "stream",
          "text": [
            "Training batches:  38%|███▊      | 2701/7078 [07:43<37:43,  1.93it/s]"
          ]
        },
        {
          "name": "stdout",
          "output_type": "stream",
          "text": [
            "1/2 -> Train loss: 54676.21487545967\n"
          ]
        },
        {
          "name": "stderr",
          "output_type": "stream",
          "text": [
            "Training batches:  40%|███▉      | 2801/7078 [07:59<16:08,  4.42it/s]"
          ]
        },
        {
          "name": "stdout",
          "output_type": "stream",
          "text": [
            "1/2 -> Train loss: 55108.47615027428\n"
          ]
        },
        {
          "name": "stderr",
          "output_type": "stream",
          "text": [
            "Training batches:  41%|████      | 2901/7078 [08:15<15:07,  4.60it/s]"
          ]
        },
        {
          "name": "stdout",
          "output_type": "stream",
          "text": [
            "1/2 -> Train loss: 55527.54719042778\n"
          ]
        },
        {
          "name": "stderr",
          "output_type": "stream",
          "text": [
            "Training batches:  42%|████▏     | 3001/7078 [08:33<35:46,  1.90it/s]"
          ]
        },
        {
          "name": "stdout",
          "output_type": "stream",
          "text": [
            "1/2 -> Train loss: 55939.8009288311\n"
          ]
        },
        {
          "name": "stderr",
          "output_type": "stream",
          "text": [
            "Training batches:  44%|████▍     | 3101/7078 [08:49<15:55,  4.16it/s]"
          ]
        },
        {
          "name": "stdout",
          "output_type": "stream",
          "text": [
            "1/2 -> Train loss: 56335.158019542694\n"
          ]
        },
        {
          "name": "stderr",
          "output_type": "stream",
          "text": [
            "Training batches:  45%|████▌     | 3201/7078 [09:05<14:55,  4.33it/s]"
          ]
        },
        {
          "name": "stdout",
          "output_type": "stream",
          "text": [
            "1/2 -> Train loss: 56718.80309057236\n"
          ]
        },
        {
          "name": "stderr",
          "output_type": "stream",
          "text": [
            "Training batches:  47%|████▋     | 3301/7078 [09:23<34:06,  1.85it/s]"
          ]
        },
        {
          "name": "stdout",
          "output_type": "stream",
          "text": [
            "1/2 -> Train loss: 57112.55438184738\n"
          ]
        },
        {
          "name": "stderr",
          "output_type": "stream",
          "text": [
            "Training batches:  48%|████▊     | 3401/7078 [09:39<14:37,  4.19it/s]"
          ]
        },
        {
          "name": "stdout",
          "output_type": "stream",
          "text": [
            "1/2 -> Train loss: 57497.07667803764\n"
          ]
        },
        {
          "name": "stderr",
          "output_type": "stream",
          "text": [
            "Training batches:  49%|████▉     | 3501/7078 [09:55<14:06,  4.23it/s]"
          ]
        },
        {
          "name": "stdout",
          "output_type": "stream",
          "text": [
            "1/2 -> Train loss: 57872.2218644619\n"
          ]
        },
        {
          "name": "stderr",
          "output_type": "stream",
          "text": [
            "Training batches:  51%|█████     | 3601/7078 [10:12<31:34,  1.84it/s]"
          ]
        },
        {
          "name": "stdout",
          "output_type": "stream",
          "text": [
            "1/2 -> Train loss: 58242.42957901955\n"
          ]
        },
        {
          "name": "stderr",
          "output_type": "stream",
          "text": [
            "Training batches:  52%|█████▏    | 3701/7078 [10:28<12:00,  4.69it/s]"
          ]
        },
        {
          "name": "stdout",
          "output_type": "stream",
          "text": [
            "1/2 -> Train loss: 58628.35886144638\n"
          ]
        },
        {
          "name": "stderr",
          "output_type": "stream",
          "text": [
            "Training batches:  54%|█████▎    | 3801/7078 [10:44<11:54,  4.58it/s]"
          ]
        },
        {
          "name": "stdout",
          "output_type": "stream",
          "text": [
            "1/2 -> Train loss: 58998.90818977356\n"
          ]
        },
        {
          "name": "stderr",
          "output_type": "stream",
          "text": [
            "Training batches:  55%|█████▌    | 3901/7078 [11:02<31:15,  1.69it/s]"
          ]
        },
        {
          "name": "stdout",
          "output_type": "stream",
          "text": [
            "1/2 -> Train loss: 59385.09986281395\n"
          ]
        },
        {
          "name": "stderr",
          "output_type": "stream",
          "text": [
            "Training batches:  57%|█████▋    | 4001/7078 [11:18<11:06,  4.62it/s]"
          ]
        },
        {
          "name": "stdout",
          "output_type": "stream",
          "text": [
            "1/2 -> Train loss: 59750.95061349869\n"
          ]
        },
        {
          "name": "stderr",
          "output_type": "stream",
          "text": [
            "Training batches:  58%|█████▊    | 4101/7078 [11:34<10:58,  4.52it/s]"
          ]
        },
        {
          "name": "stdout",
          "output_type": "stream",
          "text": [
            "1/2 -> Train loss: 60117.61939287186\n"
          ]
        },
        {
          "name": "stderr",
          "output_type": "stream",
          "text": [
            "Training batches:  59%|█████▉    | 4201/7078 [11:52<25:34,  1.87it/s]"
          ]
        },
        {
          "name": "stdout",
          "output_type": "stream",
          "text": [
            "1/2 -> Train loss: 60471.57260274887\n"
          ]
        },
        {
          "name": "stderr",
          "output_type": "stream",
          "text": [
            "Training batches:  61%|██████    | 4301/7078 [12:08<10:11,  4.54it/s]"
          ]
        },
        {
          "name": "stdout",
          "output_type": "stream",
          "text": [
            "1/2 -> Train loss: 60830.04697394371\n"
          ]
        },
        {
          "name": "stderr",
          "output_type": "stream",
          "text": [
            "Training batches:  62%|██████▏   | 4401/7078 [12:24<09:36,  4.64it/s]"
          ]
        },
        {
          "name": "stdout",
          "output_type": "stream",
          "text": [
            "1/2 -> Train loss: 61194.779997348785\n"
          ]
        },
        {
          "name": "stderr",
          "output_type": "stream",
          "text": [
            "Training batches:  64%|██████▎   | 4501/7078 [12:42<23:07,  1.86it/s]"
          ]
        },
        {
          "name": "stdout",
          "output_type": "stream",
          "text": [
            "1/2 -> Train loss: 61547.52303647995\n"
          ]
        },
        {
          "name": "stderr",
          "output_type": "stream",
          "text": [
            "Training batches:  65%|██████▌   | 4601/7078 [12:58<11:17,  3.66it/s]"
          ]
        },
        {
          "name": "stdout",
          "output_type": "stream",
          "text": [
            "1/2 -> Train loss: 61878.03069615364\n"
          ]
        },
        {
          "name": "stderr",
          "output_type": "stream",
          "text": [
            "Training batches:  66%|██████▋   | 4701/7078 [13:14<09:15,  4.28it/s]"
          ]
        },
        {
          "name": "stdout",
          "output_type": "stream",
          "text": [
            "1/2 -> Train loss: 62222.68729805946\n"
          ]
        },
        {
          "name": "stderr",
          "output_type": "stream",
          "text": [
            "Training batches:  68%|██████▊   | 4801/7078 [13:32<22:35,  1.68it/s]"
          ]
        },
        {
          "name": "stdout",
          "output_type": "stream",
          "text": [
            "1/2 -> Train loss: 62561.17247104645\n"
          ]
        },
        {
          "name": "stderr",
          "output_type": "stream",
          "text": [
            "Training batches:  69%|██████▉   | 4901/7078 [13:48<10:12,  3.56it/s]"
          ]
        },
        {
          "name": "stdout",
          "output_type": "stream",
          "text": [
            "1/2 -> Train loss: 62895.273767232895\n"
          ]
        },
        {
          "name": "stderr",
          "output_type": "stream",
          "text": [
            "Training batches:  71%|███████   | 5001/7078 [14:04<08:40,  3.99it/s]"
          ]
        },
        {
          "name": "stdout",
          "output_type": "stream",
          "text": [
            "1/2 -> Train loss: 63242.32701730728\n"
          ]
        },
        {
          "name": "stderr",
          "output_type": "stream",
          "text": [
            "Training batches:  72%|███████▏  | 5101/7078 [14:22<18:15,  1.80it/s]"
          ]
        },
        {
          "name": "stdout",
          "output_type": "stream",
          "text": [
            "1/2 -> Train loss: 63563.302941441536\n"
          ]
        },
        {
          "name": "stderr",
          "output_type": "stream",
          "text": [
            "Training batches:  73%|███████▎  | 5201/7078 [14:38<06:48,  4.60it/s]"
          ]
        },
        {
          "name": "stdout",
          "output_type": "stream",
          "text": [
            "1/2 -> Train loss: 63908.90073955059\n"
          ]
        },
        {
          "name": "stderr",
          "output_type": "stream",
          "text": [
            "Training batches:  75%|███████▍  | 5301/7078 [14:54<06:28,  4.58it/s]"
          ]
        },
        {
          "name": "stdout",
          "output_type": "stream",
          "text": [
            "1/2 -> Train loss: 64239.017127633095\n"
          ]
        },
        {
          "name": "stderr",
          "output_type": "stream",
          "text": [
            "Training batches:  76%|███████▋  | 5401/7078 [15:12<16:58,  1.65it/s]"
          ]
        },
        {
          "name": "stdout",
          "output_type": "stream",
          "text": [
            "1/2 -> Train loss: 64578.66784989834\n"
          ]
        },
        {
          "name": "stderr",
          "output_type": "stream",
          "text": [
            "Training batches:  78%|███████▊  | 5501/7078 [15:28<07:25,  3.54it/s]"
          ]
        },
        {
          "name": "stdout",
          "output_type": "stream",
          "text": [
            "1/2 -> Train loss: 64907.089725613594\n"
          ]
        },
        {
          "name": "stderr",
          "output_type": "stream",
          "text": [
            "Training batches:  79%|███████▉  | 5601/7078 [15:44<05:32,  4.45it/s]"
          ]
        },
        {
          "name": "stdout",
          "output_type": "stream",
          "text": [
            "1/2 -> Train loss: 65228.54045855999\n"
          ]
        },
        {
          "name": "stderr",
          "output_type": "stream",
          "text": [
            "Training batches:  81%|████████  | 5701/7078 [16:02<12:43,  1.80it/s]"
          ]
        },
        {
          "name": "stdout",
          "output_type": "stream",
          "text": [
            "1/2 -> Train loss: 65567.7711662054\n"
          ]
        },
        {
          "name": "stderr",
          "output_type": "stream",
          "text": [
            "Training batches:  82%|████████▏ | 5801/7078 [16:18<04:41,  4.53it/s]"
          ]
        },
        {
          "name": "stdout",
          "output_type": "stream",
          "text": [
            "1/2 -> Train loss: 65885.74466705322\n"
          ]
        },
        {
          "name": "stderr",
          "output_type": "stream",
          "text": [
            "Training batches:  83%|████████▎ | 5901/7078 [16:34<04:16,  4.58it/s]"
          ]
        },
        {
          "name": "stdout",
          "output_type": "stream",
          "text": [
            "1/2 -> Train loss: 66203.06707894802\n"
          ]
        },
        {
          "name": "stderr",
          "output_type": "stream",
          "text": [
            "Training batches:  85%|████████▍ | 6001/7078 [16:51<09:44,  1.84it/s]"
          ]
        },
        {
          "name": "stdout",
          "output_type": "stream",
          "text": [
            "1/2 -> Train loss: 66506.49312055111\n"
          ]
        },
        {
          "name": "stderr",
          "output_type": "stream",
          "text": [
            "Training batches:  86%|████████▌ | 6101/7078 [17:08<04:25,  3.69it/s]"
          ]
        },
        {
          "name": "stdout",
          "output_type": "stream",
          "text": [
            "1/2 -> Train loss: 66811.35331249237\n"
          ]
        },
        {
          "name": "stderr",
          "output_type": "stream",
          "text": [
            "Training batches:  88%|████████▊ | 6201/7078 [17:24<03:18,  4.42it/s]"
          ]
        },
        {
          "name": "stdout",
          "output_type": "stream",
          "text": [
            "1/2 -> Train loss: 67125.4141882658\n"
          ]
        },
        {
          "name": "stderr",
          "output_type": "stream",
          "text": [
            "Training batches:  89%|████████▉ | 6301/7078 [17:42<07:48,  1.66it/s]"
          ]
        },
        {
          "name": "stdout",
          "output_type": "stream",
          "text": [
            "1/2 -> Train loss: 67448.36952114105\n"
          ]
        },
        {
          "name": "stderr",
          "output_type": "stream",
          "text": [
            "Training batches:  90%|█████████ | 6401/7078 [17:58<02:23,  4.72it/s]"
          ]
        },
        {
          "name": "stdout",
          "output_type": "stream",
          "text": [
            "1/2 -> Train loss: 67769.67134714127\n"
          ]
        },
        {
          "name": "stderr",
          "output_type": "stream",
          "text": [
            "Training batches:  92%|█████████▏| 6501/7078 [18:14<02:33,  3.76it/s]"
          ]
        },
        {
          "name": "stdout",
          "output_type": "stream",
          "text": [
            "1/2 -> Train loss: 68082.98286867142\n"
          ]
        },
        {
          "name": "stderr",
          "output_type": "stream",
          "text": [
            "Training batches:  93%|█████████▎| 6601/7078 [18:31<04:15,  1.87it/s]"
          ]
        },
        {
          "name": "stdout",
          "output_type": "stream",
          "text": [
            "1/2 -> Train loss: 68398.34423136711\n"
          ]
        },
        {
          "name": "stderr",
          "output_type": "stream",
          "text": [
            "Training batches:  95%|█████████▍| 6701/7078 [18:48<01:42,  3.67it/s]"
          ]
        },
        {
          "name": "stdout",
          "output_type": "stream",
          "text": [
            "1/2 -> Train loss: 68713.2045674324\n"
          ]
        },
        {
          "name": "stderr",
          "output_type": "stream",
          "text": [
            "Training batches:  96%|█████████▌| 6801/7078 [19:04<00:58,  4.74it/s]"
          ]
        },
        {
          "name": "stdout",
          "output_type": "stream",
          "text": [
            "1/2 -> Train loss: 69017.13620448112\n"
          ]
        },
        {
          "name": "stderr",
          "output_type": "stream",
          "text": [
            "Training batches:  97%|█████████▋| 6901/7078 [19:21<01:41,  1.74it/s]"
          ]
        },
        {
          "name": "stdout",
          "output_type": "stream",
          "text": [
            "1/2 -> Train loss: 69318.46833920479\n"
          ]
        },
        {
          "name": "stderr",
          "output_type": "stream",
          "text": [
            "Training batches:  99%|█████████▉| 7001/7078 [19:38<00:21,  3.54it/s]"
          ]
        },
        {
          "name": "stdout",
          "output_type": "stream",
          "text": [
            "1/2 -> Train loss: 69616.67630600929\n"
          ]
        },
        {
          "name": "stderr",
          "output_type": "stream",
          "text": [
            "Training batches: 100%|██████████| 7078/7078 [19:50<00:00,  5.95it/s]\n",
            "Validation batches:  11%|█▏        | 101/883 [00:15<02:45,  4.72it/s]"
          ]
        },
        {
          "name": "stdout",
          "output_type": "stream",
          "text": [
            "1/2 -> Validation loss: 2.516189423799515\n"
          ]
        },
        {
          "name": "stderr",
          "output_type": "stream",
          "text": [
            "Validation batches:  23%|██▎       | 201/883 [00:31<02:21,  4.83it/s]"
          ]
        },
        {
          "name": "stdout",
          "output_type": "stream",
          "text": [
            "1/2 -> Validation loss: 2.3767869064211844\n"
          ]
        },
        {
          "name": "stderr",
          "output_type": "stream",
          "text": [
            "Validation batches:  34%|███▍      | 301/883 [00:47<02:02,  4.75it/s]"
          ]
        },
        {
          "name": "stdout",
          "output_type": "stream",
          "text": [
            "1/2 -> Validation loss: 2.3932476498683295\n"
          ]
        },
        {
          "name": "stderr",
          "output_type": "stream",
          "text": [
            "Validation batches:  45%|████▌     | 401/883 [01:02<01:36,  5.00it/s]"
          ]
        },
        {
          "name": "stdout",
          "output_type": "stream",
          "text": [
            "1/2 -> Validation loss: 2.424078317731619\n"
          ]
        },
        {
          "name": "stderr",
          "output_type": "stream",
          "text": [
            "Validation batches:  57%|█████▋    | 501/883 [01:18<01:18,  4.85it/s]"
          ]
        },
        {
          "name": "stdout",
          "output_type": "stream",
          "text": [
            "1/2 -> Validation loss: 2.4005789204835892\n"
          ]
        },
        {
          "name": "stderr",
          "output_type": "stream",
          "text": [
            "Validation batches:  68%|██████▊   | 601/883 [01:34<01:03,  4.47it/s]"
          ]
        },
        {
          "name": "stdout",
          "output_type": "stream",
          "text": [
            "1/2 -> Validation loss: 2.387656969924768\n"
          ]
        },
        {
          "name": "stderr",
          "output_type": "stream",
          "text": [
            "Validation batches:  79%|███████▉  | 701/883 [01:50<00:39,  4.60it/s]"
          ]
        },
        {
          "name": "stdout",
          "output_type": "stream",
          "text": [
            "1/2 -> Validation loss: 2.349882140159607\n"
          ]
        },
        {
          "name": "stderr",
          "output_type": "stream",
          "text": [
            "Validation batches:  91%|█████████ | 801/883 [02:05<00:15,  5.18it/s]"
          ]
        },
        {
          "name": "stdout",
          "output_type": "stream",
          "text": [
            "1/2 -> Validation loss: 2.3418093636631965\n"
          ]
        },
        {
          "name": "stderr",
          "output_type": "stream",
          "text": [
            "Validation batches: 100%|██████████| 883/883 [02:18<00:00,  6.39it/s]\n",
            "Training batches:   0%|          | 23/7078 [00:04<31:54,  3.69it/s]"
          ]
        },
        {
          "name": "stdout",
          "output_type": "stream",
          "text": [
            "2/2 -> Train loss: 69923.64677083492\n"
          ]
        },
        {
          "name": "stderr",
          "output_type": "stream",
          "text": [
            "Training batches:   2%|▏         | 123/7078 [00:21<1:02:19,  1.86it/s]"
          ]
        },
        {
          "name": "stdout",
          "output_type": "stream",
          "text": [
            "2/2 -> Train loss: 70202.355250597\n"
          ]
        },
        {
          "name": "stderr",
          "output_type": "stream",
          "text": [
            "Training batches:   3%|▎         | 223/7078 [00:37<23:27,  4.87it/s]  "
          ]
        },
        {
          "name": "stdout",
          "output_type": "stream",
          "text": [
            "2/2 -> Train loss: 70483.08365058899\n"
          ]
        },
        {
          "name": "stderr",
          "output_type": "stream",
          "text": [
            "Training batches:   5%|▍         | 323/7078 [00:53<23:30,  4.79it/s]"
          ]
        },
        {
          "name": "stdout",
          "output_type": "stream",
          "text": [
            "2/2 -> Train loss: 70763.16078531742\n"
          ]
        },
        {
          "name": "stderr",
          "output_type": "stream",
          "text": [
            "Training batches:   6%|▌         | 423/7078 [01:11<1:03:37,  1.74it/s]"
          ]
        },
        {
          "name": "stdout",
          "output_type": "stream",
          "text": [
            "2/2 -> Train loss: 71046.32493805885\n"
          ]
        },
        {
          "name": "stderr",
          "output_type": "stream",
          "text": [
            "Training batches:   7%|▋         | 523/7078 [01:27<23:36,  4.63it/s]  "
          ]
        },
        {
          "name": "stdout",
          "output_type": "stream",
          "text": [
            "2/2 -> Train loss: 71312.99698960781\n"
          ]
        },
        {
          "name": "stderr",
          "output_type": "stream",
          "text": [
            "Training batches:   9%|▉         | 623/7078 [01:43<22:23,  4.80it/s]"
          ]
        },
        {
          "name": "stdout",
          "output_type": "stream",
          "text": [
            "2/2 -> Train loss: 71572.02531635761\n"
          ]
        },
        {
          "name": "stderr",
          "output_type": "stream",
          "text": [
            "Training batches:  10%|█         | 723/7078 [02:00<56:01,  1.89it/s]  "
          ]
        },
        {
          "name": "stdout",
          "output_type": "stream",
          "text": [
            "2/2 -> Train loss: 71823.60099160671\n"
          ]
        },
        {
          "name": "stderr",
          "output_type": "stream",
          "text": [
            "Training batches:  12%|█▏        | 823/7078 [02:16<23:15,  4.48it/s]"
          ]
        },
        {
          "name": "stdout",
          "output_type": "stream",
          "text": [
            "2/2 -> Train loss: 72086.97299718857\n"
          ]
        },
        {
          "name": "stderr",
          "output_type": "stream",
          "text": [
            "Training batches:  13%|█▎        | 923/7078 [02:32<22:26,  4.57it/s]"
          ]
        },
        {
          "name": "stdout",
          "output_type": "stream",
          "text": [
            "2/2 -> Train loss: 72354.5524879694\n"
          ]
        },
        {
          "name": "stderr",
          "output_type": "stream",
          "text": [
            "Training batches:  14%|█▍        | 1023/7078 [02:50<53:02,  1.90it/s]  "
          ]
        },
        {
          "name": "stdout",
          "output_type": "stream",
          "text": [
            "2/2 -> Train loss: 72616.33982014656\n"
          ]
        },
        {
          "name": "stderr",
          "output_type": "stream",
          "text": [
            "Training batches:  16%|█▌        | 1123/7078 [03:06<22:19,  4.45it/s]"
          ]
        },
        {
          "name": "stdout",
          "output_type": "stream",
          "text": [
            "2/2 -> Train loss: 72884.52959918976\n"
          ]
        },
        {
          "name": "stderr",
          "output_type": "stream",
          "text": [
            "Training batches:  17%|█▋        | 1223/7078 [03:22<23:57,  4.07it/s]"
          ]
        },
        {
          "name": "stdout",
          "output_type": "stream",
          "text": [
            "2/2 -> Train loss: 73147.71038103104\n"
          ]
        },
        {
          "name": "stderr",
          "output_type": "stream",
          "text": [
            "Training batches:  19%|█▊        | 1323/7078 [03:39<53:41,  1.79it/s]  "
          ]
        },
        {
          "name": "stdout",
          "output_type": "stream",
          "text": [
            "2/2 -> Train loss: 73407.55228424072\n"
          ]
        },
        {
          "name": "stderr",
          "output_type": "stream",
          "text": [
            "Training batches:  20%|██        | 1423/7078 [03:55<19:28,  4.84it/s]"
          ]
        },
        {
          "name": "stdout",
          "output_type": "stream",
          "text": [
            "2/2 -> Train loss: 73677.0383630991\n"
          ]
        },
        {
          "name": "stderr",
          "output_type": "stream",
          "text": [
            "Training batches:  22%|██▏       | 1523/7078 [04:12<27:34,  3.36it/s]"
          ]
        },
        {
          "name": "stdout",
          "output_type": "stream",
          "text": [
            "2/2 -> Train loss: 73932.41837358475\n"
          ]
        },
        {
          "name": "stderr",
          "output_type": "stream",
          "text": [
            "Training batches:  23%|██▎       | 1623/7078 [04:29<51:11,  1.78it/s]  "
          ]
        },
        {
          "name": "stdout",
          "output_type": "stream",
          "text": [
            "2/2 -> Train loss: 74187.44520938396\n"
          ]
        },
        {
          "name": "stderr",
          "output_type": "stream",
          "text": [
            "Training batches:  24%|██▍       | 1723/7078 [04:45<19:35,  4.56it/s]"
          ]
        },
        {
          "name": "stdout",
          "output_type": "stream",
          "text": [
            "2/2 -> Train loss: 74436.0386582017\n"
          ]
        },
        {
          "name": "stderr",
          "output_type": "stream",
          "text": [
            "Training batches:  26%|██▌       | 1823/7078 [05:01<19:02,  4.60it/s]"
          ]
        },
        {
          "name": "stdout",
          "output_type": "stream",
          "text": [
            "2/2 -> Train loss: 74679.29565763474\n"
          ]
        },
        {
          "name": "stderr",
          "output_type": "stream",
          "text": [
            "Training batches:  27%|██▋       | 1923/7078 [05:19<47:21,  1.81it/s]  "
          ]
        },
        {
          "name": "stdout",
          "output_type": "stream",
          "text": [
            "2/2 -> Train loss: 74917.74951648712\n"
          ]
        },
        {
          "name": "stderr",
          "output_type": "stream",
          "text": [
            "Training batches:  29%|██▊       | 2023/7078 [05:35<18:58,  4.44it/s]"
          ]
        },
        {
          "name": "stdout",
          "output_type": "stream",
          "text": [
            "2/2 -> Train loss: 75146.71625220776\n"
          ]
        },
        {
          "name": "stderr",
          "output_type": "stream",
          "text": [
            "Training batches:  30%|██▉       | 2123/7078 [05:51<21:36,  3.82it/s]"
          ]
        },
        {
          "name": "stdout",
          "output_type": "stream",
          "text": [
            "2/2 -> Train loss: 75380.35171318054\n"
          ]
        },
        {
          "name": "stderr",
          "output_type": "stream",
          "text": [
            "Training batches:  31%|███▏      | 2223/7078 [06:08<43:48,  1.85it/s]"
          ]
        },
        {
          "name": "stdout",
          "output_type": "stream",
          "text": [
            "2/2 -> Train loss: 75600.42535352707\n"
          ]
        },
        {
          "name": "stderr",
          "output_type": "stream",
          "text": [
            "Training batches:  33%|███▎      | 2323/7078 [06:24<17:19,  4.57it/s]"
          ]
        },
        {
          "name": "stdout",
          "output_type": "stream",
          "text": [
            "2/2 -> Train loss: 75808.33392053843\n"
          ]
        },
        {
          "name": "stderr",
          "output_type": "stream",
          "text": [
            "Training batches:  34%|███▍      | 2423/7078 [06:40<17:31,  4.42it/s]"
          ]
        },
        {
          "name": "stdout",
          "output_type": "stream",
          "text": [
            "2/2 -> Train loss: 76010.29871690273\n"
          ]
        },
        {
          "name": "stderr",
          "output_type": "stream",
          "text": [
            "Training batches:  36%|███▌      | 2523/7078 [06:58<43:53,  1.73it/s]"
          ]
        },
        {
          "name": "stdout",
          "output_type": "stream",
          "text": [
            "2/2 -> Train loss: 76191.7491748929\n"
          ]
        },
        {
          "name": "stderr",
          "output_type": "stream",
          "text": [
            "Training batches:  37%|███▋      | 2623/7078 [07:14<18:50,  3.94it/s]"
          ]
        },
        {
          "name": "stdout",
          "output_type": "stream",
          "text": [
            "2/2 -> Train loss: 76372.49791532755\n"
          ]
        },
        {
          "name": "stderr",
          "output_type": "stream",
          "text": [
            "Training batches:  38%|███▊      | 2723/7078 [07:31<19:32,  3.71it/s]"
          ]
        },
        {
          "name": "stdout",
          "output_type": "stream",
          "text": [
            "2/2 -> Train loss: 76540.55536651611\n"
          ]
        },
        {
          "name": "stderr",
          "output_type": "stream",
          "text": [
            "Training batches:  40%|███▉      | 2822/7078 [07:48<49:53,  1.42it/s]"
          ]
        },
        {
          "name": "stdout",
          "output_type": "stream",
          "text": [
            "2/2 -> Train loss: 76706.82022154331\n"
          ]
        },
        {
          "name": "stderr",
          "output_type": "stream",
          "text": [
            "Training batches:  41%|████▏     | 2923/7078 [08:04<15:19,  4.52it/s]"
          ]
        },
        {
          "name": "stdout",
          "output_type": "stream",
          "text": [
            "2/2 -> Train loss: 76863.11125218868\n"
          ]
        },
        {
          "name": "stderr",
          "output_type": "stream",
          "text": [
            "Training batches:  43%|████▎     | 3023/7078 [08:20<14:01,  4.82it/s]"
          ]
        },
        {
          "name": "stdout",
          "output_type": "stream",
          "text": [
            "2/2 -> Train loss: 77005.15353757143\n"
          ]
        },
        {
          "name": "stderr",
          "output_type": "stream",
          "text": [
            "Training batches:  44%|████▍     | 3123/7078 [08:38<33:53,  1.94it/s]"
          ]
        },
        {
          "name": "stdout",
          "output_type": "stream",
          "text": [
            "2/2 -> Train loss: 77147.40700930357\n"
          ]
        },
        {
          "name": "stderr",
          "output_type": "stream",
          "text": [
            "Training batches:  46%|████▌     | 3223/7078 [08:54<14:02,  4.58it/s]"
          ]
        },
        {
          "name": "stdout",
          "output_type": "stream",
          "text": [
            "2/2 -> Train loss: 77289.58970218897\n"
          ]
        },
        {
          "name": "stderr",
          "output_type": "stream",
          "text": [
            "Training batches:  47%|████▋     | 3323/7078 [09:10<13:32,  4.62it/s]"
          ]
        },
        {
          "name": "stdout",
          "output_type": "stream",
          "text": [
            "2/2 -> Train loss: 77421.70805644989\n"
          ]
        },
        {
          "name": "stderr",
          "output_type": "stream",
          "text": [
            "Training batches:  48%|████▊     | 3423/7078 [09:27<34:16,  1.78it/s]"
          ]
        },
        {
          "name": "stdout",
          "output_type": "stream",
          "text": [
            "2/2 -> Train loss: 77554.02546286583\n"
          ]
        },
        {
          "name": "stderr",
          "output_type": "stream",
          "text": [
            "Training batches:  50%|████▉     | 3523/7078 [09:43<12:45,  4.65it/s]"
          ]
        },
        {
          "name": "stdout",
          "output_type": "stream",
          "text": [
            "2/2 -> Train loss: 77671.60230481625\n"
          ]
        },
        {
          "name": "stderr",
          "output_type": "stream",
          "text": [
            "Training batches:  51%|█████     | 3623/7078 [09:59<12:27,  4.62it/s]"
          ]
        },
        {
          "name": "stdout",
          "output_type": "stream",
          "text": [
            "2/2 -> Train loss: 77789.03451931477\n"
          ]
        },
        {
          "name": "stderr",
          "output_type": "stream",
          "text": [
            "Training batches:  53%|█████▎    | 3723/7078 [10:17<32:35,  1.72it/s]"
          ]
        },
        {
          "name": "stdout",
          "output_type": "stream",
          "text": [
            "2/2 -> Train loss: 77908.91206598282\n"
          ]
        },
        {
          "name": "stderr",
          "output_type": "stream",
          "text": [
            "Training batches:  54%|█████▍    | 3823/7078 [10:33<13:23,  4.05it/s]"
          ]
        },
        {
          "name": "stdout",
          "output_type": "stream",
          "text": [
            "2/2 -> Train loss: 78022.8169580698\n"
          ]
        },
        {
          "name": "stderr",
          "output_type": "stream",
          "text": [
            "Training batches:  55%|█████▌    | 3923/7078 [10:49<12:01,  4.38it/s]"
          ]
        },
        {
          "name": "stdout",
          "output_type": "stream",
          "text": [
            "2/2 -> Train loss: 78137.73376142979\n"
          ]
        },
        {
          "name": "stderr",
          "output_type": "stream",
          "text": [
            "Training batches:  57%|█████▋    | 4023/7078 [11:07<30:20,  1.68it/s]"
          ]
        },
        {
          "name": "stdout",
          "output_type": "stream",
          "text": [
            "2/2 -> Train loss: 78244.16376525164\n"
          ]
        },
        {
          "name": "stderr",
          "output_type": "stream",
          "text": [
            "Training batches:  58%|█████▊    | 4123/7078 [11:25<10:08,  4.85it/s]"
          ]
        },
        {
          "name": "stdout",
          "output_type": "stream",
          "text": [
            "2/2 -> Train loss: 78353.95898449421\n"
          ]
        },
        {
          "name": "stderr",
          "output_type": "stream",
          "text": [
            "Training batches:  60%|█████▉    | 4223/7078 [11:41<12:41,  3.75it/s]"
          ]
        },
        {
          "name": "stdout",
          "output_type": "stream",
          "text": [
            "2/2 -> Train loss: 78454.4160298109\n"
          ]
        },
        {
          "name": "stderr",
          "output_type": "stream",
          "text": [
            "Training batches:  61%|██████    | 4323/7078 [11:59<27:01,  1.70it/s]"
          ]
        },
        {
          "name": "stdout",
          "output_type": "stream",
          "text": [
            "2/2 -> Train loss: 78556.18433302641\n"
          ]
        },
        {
          "name": "stderr",
          "output_type": "stream",
          "text": [
            "Training batches:  62%|██████▏   | 4423/7078 [12:15<10:50,  4.08it/s]"
          ]
        },
        {
          "name": "stdout",
          "output_type": "stream",
          "text": [
            "2/2 -> Train loss: 78652.84200799465\n"
          ]
        },
        {
          "name": "stderr",
          "output_type": "stream",
          "text": [
            "Training batches:  64%|██████▍   | 4523/7078 [12:31<12:28,  3.42it/s]"
          ]
        },
        {
          "name": "stdout",
          "output_type": "stream",
          "text": [
            "2/2 -> Train loss: 78747.34113729\n"
          ]
        },
        {
          "name": "stderr",
          "output_type": "stream",
          "text": [
            "Training batches:  65%|██████▌   | 4623/7078 [12:49<24:07,  1.70it/s]"
          ]
        },
        {
          "name": "stdout",
          "output_type": "stream",
          "text": [
            "2/2 -> Train loss: 78845.8622764349\n"
          ]
        },
        {
          "name": "stderr",
          "output_type": "stream",
          "text": [
            "Training batches:  67%|██████▋   | 4723/7078 [13:05<11:32,  3.40it/s]"
          ]
        },
        {
          "name": "stdout",
          "output_type": "stream",
          "text": [
            "2/2 -> Train loss: 78940.19147872925\n"
          ]
        },
        {
          "name": "stderr",
          "output_type": "stream",
          "text": [
            "Training batches:  68%|██████▊   | 4823/7078 [13:21<08:35,  4.37it/s]"
          ]
        },
        {
          "name": "stdout",
          "output_type": "stream",
          "text": [
            "2/2 -> Train loss: 79026.55370128155\n"
          ]
        },
        {
          "name": "stderr",
          "output_type": "stream",
          "text": [
            "Training batches:  70%|██████▉   | 4923/7078 [13:39<21:46,  1.65it/s]"
          ]
        },
        {
          "name": "stdout",
          "output_type": "stream",
          "text": [
            "2/2 -> Train loss: 79120.3425540328\n"
          ]
        },
        {
          "name": "stderr",
          "output_type": "stream",
          "text": [
            "Training batches:  71%|███████   | 5023/7078 [13:55<08:54,  3.85it/s]"
          ]
        },
        {
          "name": "stdout",
          "output_type": "stream",
          "text": [
            "2/2 -> Train loss: 79207.00697916746\n"
          ]
        },
        {
          "name": "stderr",
          "output_type": "stream",
          "text": [
            "Training batches:  72%|███████▏  | 5123/7078 [14:11<07:17,  4.47it/s]"
          ]
        },
        {
          "name": "stdout",
          "output_type": "stream",
          "text": [
            "2/2 -> Train loss: 79299.5887926817\n"
          ]
        },
        {
          "name": "stderr",
          "output_type": "stream",
          "text": [
            "Training batches:  74%|███████▍  | 5223/7078 [14:29<17:44,  1.74it/s]"
          ]
        },
        {
          "name": "stdout",
          "output_type": "stream",
          "text": [
            "2/2 -> Train loss: 79386.44330826402\n"
          ]
        },
        {
          "name": "stderr",
          "output_type": "stream",
          "text": [
            "Training batches:  75%|███████▌  | 5323/7078 [14:45<07:41,  3.80it/s]"
          ]
        },
        {
          "name": "stdout",
          "output_type": "stream",
          "text": [
            "2/2 -> Train loss: 79470.96654039621\n"
          ]
        },
        {
          "name": "stderr",
          "output_type": "stream",
          "text": [
            "Training batches:  77%|███████▋  | 5423/7078 [15:01<06:27,  4.27it/s]"
          ]
        },
        {
          "name": "stdout",
          "output_type": "stream",
          "text": [
            "2/2 -> Train loss: 79561.03385573626\n"
          ]
        },
        {
          "name": "stderr",
          "output_type": "stream",
          "text": [
            "Training batches:  78%|███████▊  | 5523/7078 [15:19<14:21,  1.81it/s]"
          ]
        },
        {
          "name": "stdout",
          "output_type": "stream",
          "text": [
            "2/2 -> Train loss: 79640.45470386744\n"
          ]
        },
        {
          "name": "stderr",
          "output_type": "stream",
          "text": [
            "Training batches:  79%|███████▉  | 5623/7078 [15:35<06:24,  3.79it/s]"
          ]
        },
        {
          "name": "stdout",
          "output_type": "stream",
          "text": [
            "2/2 -> Train loss: 79722.68061083555\n"
          ]
        },
        {
          "name": "stderr",
          "output_type": "stream",
          "text": [
            "Training batches:  81%|████████  | 5723/7078 [15:51<06:03,  3.73it/s]"
          ]
        },
        {
          "name": "stdout",
          "output_type": "stream",
          "text": [
            "2/2 -> Train loss: 79802.37908872962\n"
          ]
        },
        {
          "name": "stderr",
          "output_type": "stream",
          "text": [
            "Training batches:  82%|████████▏ | 5823/7078 [16:09<12:16,  1.71it/s]"
          ]
        },
        {
          "name": "stdout",
          "output_type": "stream",
          "text": [
            "2/2 -> Train loss: 79880.55460980535\n"
          ]
        },
        {
          "name": "stderr",
          "output_type": "stream",
          "text": [
            "Training batches:  84%|████████▎ | 5923/7078 [16:25<04:50,  3.98it/s]"
          ]
        },
        {
          "name": "stdout",
          "output_type": "stream",
          "text": [
            "2/2 -> Train loss: 79959.0523237288\n"
          ]
        },
        {
          "name": "stderr",
          "output_type": "stream",
          "text": [
            "Training batches:  85%|████████▌ | 6023/7078 [16:41<04:14,  4.15it/s]"
          ]
        },
        {
          "name": "stdout",
          "output_type": "stream",
          "text": [
            "2/2 -> Train loss: 80040.91224822402\n"
          ]
        },
        {
          "name": "stderr",
          "output_type": "stream",
          "text": [
            "Training batches:  87%|████████▋ | 6123/7078 [16:58<09:46,  1.63it/s]"
          ]
        },
        {
          "name": "stdout",
          "output_type": "stream",
          "text": [
            "2/2 -> Train loss: 80114.89337599277\n"
          ]
        },
        {
          "name": "stderr",
          "output_type": "stream",
          "text": [
            "Training batches:  88%|████████▊ | 6223/7078 [17:15<03:41,  3.85it/s]"
          ]
        },
        {
          "name": "stdout",
          "output_type": "stream",
          "text": [
            "2/2 -> Train loss: 80191.08510255814\n"
          ]
        },
        {
          "name": "stderr",
          "output_type": "stream",
          "text": [
            "Training batches:  89%|████████▉ | 6323/7078 [17:31<03:42,  3.40it/s]"
          ]
        },
        {
          "name": "stdout",
          "output_type": "stream",
          "text": [
            "2/2 -> Train loss: 80267.66514313221\n"
          ]
        },
        {
          "name": "stderr",
          "output_type": "stream",
          "text": [
            "Training batches:  91%|█████████ | 6423/7078 [17:50<10:20,  1.06it/s]"
          ]
        },
        {
          "name": "stdout",
          "output_type": "stream",
          "text": [
            "2/2 -> Train loss: 80336.97483560443\n"
          ]
        },
        {
          "name": "stderr",
          "output_type": "stream",
          "text": [
            "Training batches:  92%|█████████▏| 6523/7078 [18:07<02:29,  3.72it/s]"
          ]
        },
        {
          "name": "stdout",
          "output_type": "stream",
          "text": [
            "2/2 -> Train loss: 80412.47339352965\n"
          ]
        },
        {
          "name": "stderr",
          "output_type": "stream",
          "text": [
            "Training batches:  94%|█████████▎| 6623/7078 [18:23<01:53,  4.01it/s]"
          ]
        },
        {
          "name": "stdout",
          "output_type": "stream",
          "text": [
            "2/2 -> Train loss: 80487.5395680368\n"
          ]
        },
        {
          "name": "stderr",
          "output_type": "stream",
          "text": [
            "Training batches:  95%|█████████▍| 6723/7078 [18:41<03:24,  1.74it/s]"
          ]
        },
        {
          "name": "stdout",
          "output_type": "stream",
          "text": [
            "2/2 -> Train loss: 80558.13764417171\n"
          ]
        },
        {
          "name": "stderr",
          "output_type": "stream",
          "text": [
            "Training batches:  96%|█████████▋| 6823/7078 [18:57<00:57,  4.43it/s]"
          ]
        },
        {
          "name": "stdout",
          "output_type": "stream",
          "text": [
            "2/2 -> Train loss: 80636.48424261808\n"
          ]
        },
        {
          "name": "stderr",
          "output_type": "stream",
          "text": [
            "Training batches:  98%|█████████▊| 6923/7078 [19:13<00:42,  3.69it/s]"
          ]
        },
        {
          "name": "stdout",
          "output_type": "stream",
          "text": [
            "2/2 -> Train loss: 80708.10680276155\n"
          ]
        },
        {
          "name": "stderr",
          "output_type": "stream",
          "text": [
            "Training batches:  99%|█████████▉| 7023/7078 [19:31<00:33,  1.65it/s]"
          ]
        },
        {
          "name": "stdout",
          "output_type": "stream",
          "text": [
            "2/2 -> Train loss: 80779.1449765861\n"
          ]
        },
        {
          "name": "stderr",
          "output_type": "stream",
          "text": [
            "Training batches: 100%|██████████| 7078/7078 [19:39<00:00,  6.00it/s]\n",
            "Validation batches:   2%|▏         | 18/883 [00:03<03:38,  3.96it/s]"
          ]
        },
        {
          "name": "stdout",
          "output_type": "stream",
          "text": [
            "2/2 -> Validation loss: 2.2972139370772573\n"
          ]
        },
        {
          "name": "stderr",
          "output_type": "stream",
          "text": [
            "Validation batches:  13%|█▎        | 118/883 [00:18<02:57,  4.32it/s]"
          ]
        },
        {
          "name": "stdout",
          "output_type": "stream",
          "text": [
            "2/2 -> Validation loss: 2.115534742027521\n"
          ]
        },
        {
          "name": "stderr",
          "output_type": "stream",
          "text": [
            "Validation batches:  25%|██▍       | 218/883 [00:34<02:56,  3.77it/s]"
          ]
        },
        {
          "name": "stdout",
          "output_type": "stream",
          "text": [
            "2/2 -> Validation loss: 1.9653044247085398\n"
          ]
        },
        {
          "name": "stderr",
          "output_type": "stream",
          "text": [
            "Validation batches:  36%|███▌      | 318/883 [00:50<02:04,  4.56it/s]"
          ]
        },
        {
          "name": "stdout",
          "output_type": "stream",
          "text": [
            "2/2 -> Validation loss: 1.8379453493158022\n"
          ]
        },
        {
          "name": "stderr",
          "output_type": "stream",
          "text": [
            "Validation batches:  47%|████▋     | 418/883 [01:06<02:01,  3.82it/s]"
          ]
        },
        {
          "name": "stdout",
          "output_type": "stream",
          "text": [
            "2/2 -> Validation loss: 1.7269989161766492\n"
          ]
        },
        {
          "name": "stderr",
          "output_type": "stream",
          "text": [
            "Validation batches:  59%|█████▊    | 518/883 [01:22<01:31,  3.97it/s]"
          ]
        },
        {
          "name": "stdout",
          "output_type": "stream",
          "text": [
            "2/2 -> Validation loss: 1.6337031136346716\n"
          ]
        },
        {
          "name": "stderr",
          "output_type": "stream",
          "text": [
            "Validation batches:  70%|██████▉   | 618/883 [01:38<01:08,  3.85it/s]"
          ]
        },
        {
          "name": "stdout",
          "output_type": "stream",
          "text": [
            "2/2 -> Validation loss: 1.5537616607844829\n"
          ]
        },
        {
          "name": "stderr",
          "output_type": "stream",
          "text": [
            "Validation batches:  81%|████████▏ | 718/883 [01:53<00:37,  4.35it/s]"
          ]
        },
        {
          "name": "stdout",
          "output_type": "stream",
          "text": [
            "2/2 -> Validation loss: 1.4812875142041593\n"
          ]
        },
        {
          "name": "stderr",
          "output_type": "stream",
          "text": [
            "Validation batches:  93%|█████████▎| 818/883 [02:09<00:15,  4.32it/s]"
          ]
        },
        {
          "name": "stdout",
          "output_type": "stream",
          "text": [
            "2/2 -> Validation loss: 1.4171891065380153\n"
          ]
        },
        {
          "name": "stderr",
          "output_type": "stream",
          "text": [
            "Validation batches: 100%|██████████| 883/883 [02:19<00:00,  6.33it/s]\n",
            "Training batches:   1%|          | 45/7078 [00:07<32:19,  3.63it/s]"
          ]
        },
        {
          "name": "stdout",
          "output_type": "stream",
          "text": [
            "3/2 -> Train loss: 80846.65499278903\n"
          ]
        },
        {
          "name": "stderr",
          "output_type": "stream",
          "text": [
            "Training batches:   2%|▏         | 145/7078 [00:23<31:27,  3.67it/s]"
          ]
        },
        {
          "name": "stdout",
          "output_type": "stream",
          "text": [
            "3/2 -> Train loss: 80920.45653566718\n"
          ]
        },
        {
          "name": "stderr",
          "output_type": "stream",
          "text": [
            "Training batches:   3%|▎         | 245/7078 [00:41<1:09:47,  1.63it/s]"
          ]
        },
        {
          "name": "stdout",
          "output_type": "stream",
          "text": [
            "3/2 -> Train loss: 80989.03704714775\n"
          ]
        },
        {
          "name": "stderr",
          "output_type": "stream",
          "text": [
            "Training batches:   5%|▍         | 345/7078 [00:57<27:27,  4.09it/s]  "
          ]
        },
        {
          "name": "stdout",
          "output_type": "stream",
          "text": [
            "3/2 -> Train loss: 81054.28622248769\n"
          ]
        },
        {
          "name": "stderr",
          "output_type": "stream",
          "text": [
            "Training batches:   6%|▋         | 445/7078 [01:13<27:16,  4.05it/s]"
          ]
        },
        {
          "name": "stdout",
          "output_type": "stream",
          "text": [
            "3/2 -> Train loss: 81117.96612977982\n"
          ]
        },
        {
          "name": "stderr",
          "output_type": "stream",
          "text": [
            "Training batches:   8%|▊         | 545/7078 [01:31<1:14:26,  1.46it/s]"
          ]
        },
        {
          "name": "stdout",
          "output_type": "stream",
          "text": [
            "3/2 -> Train loss: 81182.74523377419\n"
          ]
        },
        {
          "name": "stderr",
          "output_type": "stream",
          "text": [
            "Training batches:   9%|▉         | 645/7078 [01:48<26:59,  3.97it/s]  "
          ]
        },
        {
          "name": "stdout",
          "output_type": "stream",
          "text": [
            "3/2 -> Train loss: 81248.02528071404\n"
          ]
        },
        {
          "name": "stderr",
          "output_type": "stream",
          "text": [
            "Training batches:  11%|█         | 745/7078 [02:04<26:27,  3.99it/s]"
          ]
        },
        {
          "name": "stdout",
          "output_type": "stream",
          "text": [
            "3/2 -> Train loss: 81312.54811540246\n"
          ]
        },
        {
          "name": "stderr",
          "output_type": "stream",
          "text": [
            "Training batches:  12%|█▏        | 845/7078 [02:21<58:53,  1.76it/s]  "
          ]
        },
        {
          "name": "stdout",
          "output_type": "stream",
          "text": [
            "3/2 -> Train loss: 81375.56127434969\n"
          ]
        },
        {
          "name": "stderr",
          "output_type": "stream",
          "text": [
            "Training batches:  13%|█▎        | 945/7078 [02:37<26:33,  3.85it/s]"
          ]
        },
        {
          "name": "stdout",
          "output_type": "stream",
          "text": [
            "3/2 -> Train loss: 81439.4739895165\n"
          ]
        },
        {
          "name": "stderr",
          "output_type": "stream",
          "text": [
            "Training batches:  15%|█▍        | 1045/7078 [02:54<26:31,  3.79it/s]"
          ]
        },
        {
          "name": "stdout",
          "output_type": "stream",
          "text": [
            "3/2 -> Train loss: 81502.12039297819\n"
          ]
        },
        {
          "name": "stderr",
          "output_type": "stream",
          "text": [
            "Training batches:  16%|█▌        | 1145/7078 [03:11<1:01:48,  1.60it/s]"
          ]
        },
        {
          "name": "stdout",
          "output_type": "stream",
          "text": [
            "3/2 -> Train loss: 81564.64668104053\n"
          ]
        },
        {
          "name": "stderr",
          "output_type": "stream",
          "text": [
            "Training batches:  18%|█▊        | 1245/7078 [03:28<26:03,  3.73it/s]  "
          ]
        },
        {
          "name": "stdout",
          "output_type": "stream",
          "text": [
            "3/2 -> Train loss: 81629.9521804452\n"
          ]
        },
        {
          "name": "stderr",
          "output_type": "stream",
          "text": [
            "Training batches:  19%|█▉        | 1345/7078 [03:44<24:26,  3.91it/s]"
          ]
        },
        {
          "name": "stdout",
          "output_type": "stream",
          "text": [
            "3/2 -> Train loss: 81690.46054214239\n"
          ]
        },
        {
          "name": "stderr",
          "output_type": "stream",
          "text": [
            "Training batches:  20%|██        | 1445/7078 [04:02<58:48,  1.60it/s]  "
          ]
        },
        {
          "name": "stdout",
          "output_type": "stream",
          "text": [
            "3/2 -> Train loss: 81753.63490504026\n"
          ]
        },
        {
          "name": "stderr",
          "output_type": "stream",
          "text": [
            "Training batches:  22%|██▏       | 1545/7078 [04:18<24:51,  3.71it/s]"
          ]
        },
        {
          "name": "stdout",
          "output_type": "stream",
          "text": [
            "3/2 -> Train loss: 81816.12073603272\n"
          ]
        },
        {
          "name": "stderr",
          "output_type": "stream",
          "text": [
            "Training batches:  23%|██▎       | 1645/7078 [04:34<22:13,  4.07it/s]"
          ]
        },
        {
          "name": "stdout",
          "output_type": "stream",
          "text": [
            "3/2 -> Train loss: 81873.4615727961\n"
          ]
        },
        {
          "name": "stderr",
          "output_type": "stream",
          "text": [
            "Training batches:  25%|██▍       | 1745/7078 [04:52<54:33,  1.63it/s]  "
          ]
        },
        {
          "name": "stdout",
          "output_type": "stream",
          "text": [
            "3/2 -> Train loss: 81938.89228978753\n"
          ]
        },
        {
          "name": "stderr",
          "output_type": "stream",
          "text": [
            "Training batches:  26%|██▌       | 1845/7078 [05:08<19:39,  4.44it/s]"
          ]
        },
        {
          "name": "stdout",
          "output_type": "stream",
          "text": [
            "3/2 -> Train loss: 81999.65078613162\n"
          ]
        },
        {
          "name": "stderr",
          "output_type": "stream",
          "text": [
            "Training batches:  27%|██▋       | 1945/7078 [05:24<22:54,  3.73it/s]"
          ]
        },
        {
          "name": "stdout",
          "output_type": "stream",
          "text": [
            "3/2 -> Train loss: 82060.21382656693\n"
          ]
        },
        {
          "name": "stderr",
          "output_type": "stream",
          "text": [
            "Training batches:  29%|██▉       | 2045/7078 [05:42<51:31,  1.63it/s]  "
          ]
        },
        {
          "name": "stdout",
          "output_type": "stream",
          "text": [
            "3/2 -> Train loss: 82122.14215505123\n"
          ]
        },
        {
          "name": "stderr",
          "output_type": "stream",
          "text": [
            "Training batches:  30%|███       | 2145/7078 [06:01<1:03:54,  1.29it/s]"
          ]
        },
        {
          "name": "stdout",
          "output_type": "stream",
          "text": [
            "3/2 -> Train loss: 82180.87777584791\n"
          ]
        },
        {
          "name": "stderr",
          "output_type": "stream",
          "text": [
            "Training batches:  32%|███▏      | 2245/7078 [06:23<1:57:58,  1.46s/it]"
          ]
        },
        {
          "name": "stdout",
          "output_type": "stream",
          "text": [
            "3/2 -> Train loss: 82237.10917189717\n"
          ]
        },
        {
          "name": "stderr",
          "output_type": "stream",
          "text": [
            "Training batches:  33%|███▎      | 2345/7078 [06:41<48:44,  1.62it/s]  "
          ]
        },
        {
          "name": "stdout",
          "output_type": "stream",
          "text": [
            "3/2 -> Train loss: 82294.218524158\n"
          ]
        },
        {
          "name": "stderr",
          "output_type": "stream",
          "text": [
            "Training batches:  35%|███▍      | 2445/7078 [06:57<20:24,  3.78it/s]"
          ]
        },
        {
          "name": "stdout",
          "output_type": "stream",
          "text": [
            "3/2 -> Train loss: 82358.23810473084\n"
          ]
        },
        {
          "name": "stderr",
          "output_type": "stream",
          "text": [
            "Training batches:  36%|███▌      | 2545/7078 [07:13<20:18,  3.72it/s]"
          ]
        },
        {
          "name": "stdout",
          "output_type": "stream",
          "text": [
            "3/2 -> Train loss: 82419.92773115635\n"
          ]
        },
        {
          "name": "stderr",
          "output_type": "stream",
          "text": [
            "Training batches:  37%|███▋      | 2644/7078 [07:38<3:48:38,  3.09s/it]"
          ]
        },
        {
          "name": "stdout",
          "output_type": "stream",
          "text": [
            "3/2 -> Train loss: 82478.58764833212\n"
          ]
        },
        {
          "name": "stderr",
          "output_type": "stream",
          "text": [
            "Training batches:  39%|███▉      | 2745/7078 [07:55<18:36,  3.88it/s]  "
          ]
        },
        {
          "name": "stdout",
          "output_type": "stream",
          "text": [
            "3/2 -> Train loss: 82535.50272414088\n"
          ]
        },
        {
          "name": "stderr",
          "output_type": "stream",
          "text": [
            "Training batches:  40%|████      | 2845/7078 [08:11<18:05,  3.90it/s]"
          ]
        },
        {
          "name": "stdout",
          "output_type": "stream",
          "text": [
            "3/2 -> Train loss: 82589.679466784\n"
          ]
        },
        {
          "name": "stderr",
          "output_type": "stream",
          "text": [
            "Training batches:  42%|████▏     | 2945/7078 [08:29<42:17,  1.63it/s]"
          ]
        },
        {
          "name": "stdout",
          "output_type": "stream",
          "text": [
            "3/2 -> Train loss: 82643.3537362814\n"
          ]
        },
        {
          "name": "stderr",
          "output_type": "stream",
          "text": [
            "Training batches:  43%|████▎     | 3045/7078 [08:45<18:14,  3.68it/s]"
          ]
        },
        {
          "name": "stdout",
          "output_type": "stream",
          "text": [
            "3/2 -> Train loss: 82702.78142407537\n"
          ]
        },
        {
          "name": "stderr",
          "output_type": "stream",
          "text": [
            "Training batches:  44%|████▍     | 3145/7078 [09:01<16:39,  3.94it/s]"
          ]
        },
        {
          "name": "stdout",
          "output_type": "stream",
          "text": [
            "3/2 -> Train loss: 82758.40924584866\n"
          ]
        },
        {
          "name": "stderr",
          "output_type": "stream",
          "text": [
            "Training batches:  46%|████▌     | 3245/7078 [09:19<36:54,  1.73it/s]"
          ]
        },
        {
          "name": "stdout",
          "output_type": "stream",
          "text": [
            "3/2 -> Train loss: 82812.97612795234\n"
          ]
        },
        {
          "name": "stderr",
          "output_type": "stream",
          "text": [
            "Training batches:  47%|████▋     | 3345/7078 [09:35<16:59,  3.66it/s]"
          ]
        },
        {
          "name": "stdout",
          "output_type": "stream",
          "text": [
            "3/2 -> Train loss: 82868.82514980435\n"
          ]
        },
        {
          "name": "stderr",
          "output_type": "stream",
          "text": [
            "Training batches:  49%|████▊     | 3445/7078 [09:51<17:04,  3.55it/s]"
          ]
        },
        {
          "name": "stdout",
          "output_type": "stream",
          "text": [
            "3/2 -> Train loss: 82922.24834933877\n"
          ]
        },
        {
          "name": "stderr",
          "output_type": "stream",
          "text": [
            "Training batches:  50%|█████     | 3545/7078 [10:09<34:41,  1.70it/s]"
          ]
        },
        {
          "name": "stdout",
          "output_type": "stream",
          "text": [
            "3/2 -> Train loss: 82977.37394094467\n"
          ]
        },
        {
          "name": "stderr",
          "output_type": "stream",
          "text": [
            "Training batches:  51%|█████▏    | 3645/7078 [10:25<13:41,  4.18it/s]"
          ]
        },
        {
          "name": "stdout",
          "output_type": "stream",
          "text": [
            "3/2 -> Train loss: 83037.17138186097\n"
          ]
        },
        {
          "name": "stderr",
          "output_type": "stream",
          "text": [
            "Training batches:  53%|█████▎    | 3745/7078 [10:43<14:11,  3.91it/s]"
          ]
        },
        {
          "name": "stdout",
          "output_type": "stream",
          "text": [
            "3/2 -> Train loss: 83091.53247836232\n"
          ]
        },
        {
          "name": "stderr",
          "output_type": "stream",
          "text": [
            "Training batches:  54%|█████▍    | 3845/7078 [11:01<32:54,  1.64it/s]"
          ]
        },
        {
          "name": "stdout",
          "output_type": "stream",
          "text": [
            "3/2 -> Train loss: 83143.87741217017\n"
          ]
        },
        {
          "name": "stderr",
          "output_type": "stream",
          "text": [
            "Training batches:  56%|█████▌    | 3945/7078 [11:17<14:10,  3.68it/s]"
          ]
        },
        {
          "name": "stdout",
          "output_type": "stream",
          "text": [
            "3/2 -> Train loss: 83198.00682583451\n"
          ]
        },
        {
          "name": "stderr",
          "output_type": "stream",
          "text": [
            "Training batches:  57%|█████▋    | 4045/7078 [11:33<12:30,  4.04it/s]"
          ]
        },
        {
          "name": "stdout",
          "output_type": "stream",
          "text": [
            "3/2 -> Train loss: 83250.84979119897\n"
          ]
        },
        {
          "name": "stderr",
          "output_type": "stream",
          "text": [
            "Training batches:  59%|█████▊    | 4145/7078 [11:51<28:47,  1.70it/s]"
          ]
        },
        {
          "name": "stdout",
          "output_type": "stream",
          "text": [
            "3/2 -> Train loss: 83304.08578261733\n"
          ]
        },
        {
          "name": "stderr",
          "output_type": "stream",
          "text": [
            "Training batches:  60%|█████▉    | 4245/7078 [12:07<10:52,  4.34it/s]"
          ]
        },
        {
          "name": "stdout",
          "output_type": "stream",
          "text": [
            "3/2 -> Train loss: 83358.8458174169\n"
          ]
        },
        {
          "name": "stderr",
          "output_type": "stream",
          "text": [
            "Training batches:  61%|██████▏   | 4345/7078 [12:23<12:16,  3.71it/s]"
          ]
        },
        {
          "name": "stdout",
          "output_type": "stream",
          "text": [
            "3/2 -> Train loss: 83409.92642009258\n"
          ]
        },
        {
          "name": "stderr",
          "output_type": "stream",
          "text": [
            "Training batches:  63%|██████▎   | 4445/7078 [12:41<27:15,  1.61it/s]"
          ]
        },
        {
          "name": "stdout",
          "output_type": "stream",
          "text": [
            "3/2 -> Train loss: 83464.8101350367\n"
          ]
        },
        {
          "name": "stderr",
          "output_type": "stream",
          "text": [
            "Training batches:  64%|██████▍   | 4545/7078 [12:57<11:38,  3.62it/s]"
          ]
        },
        {
          "name": "stdout",
          "output_type": "stream",
          "text": [
            "3/2 -> Train loss: 83518.0173791945\n"
          ]
        },
        {
          "name": "stderr",
          "output_type": "stream",
          "text": [
            "Training batches:  66%|██████▌   | 4645/7078 [13:13<12:05,  3.35it/s]"
          ]
        },
        {
          "name": "stdout",
          "output_type": "stream",
          "text": [
            "3/2 -> Train loss: 83572.69579336047\n"
          ]
        },
        {
          "name": "stderr",
          "output_type": "stream",
          "text": [
            "Training batches:  67%|██████▋   | 4745/7078 [13:31<24:14,  1.60it/s]"
          ]
        },
        {
          "name": "stdout",
          "output_type": "stream",
          "text": [
            "3/2 -> Train loss: 83624.4655534327\n"
          ]
        },
        {
          "name": "stderr",
          "output_type": "stream",
          "text": [
            "Training batches:  68%|██████▊   | 4845/7078 [13:47<10:00,  3.72it/s]"
          ]
        },
        {
          "name": "stdout",
          "output_type": "stream",
          "text": [
            "3/2 -> Train loss: 83678.155556947\n"
          ]
        },
        {
          "name": "stderr",
          "output_type": "stream",
          "text": [
            "Training batches:  70%|██████▉   | 4945/7078 [14:04<09:38,  3.69it/s]"
          ]
        },
        {
          "name": "stdout",
          "output_type": "stream",
          "text": [
            "3/2 -> Train loss: 83732.41226640344\n"
          ]
        },
        {
          "name": "stderr",
          "output_type": "stream",
          "text": [
            "Training batches:  71%|███████▏  | 5045/7078 [14:21<19:26,  1.74it/s]"
          ]
        },
        {
          "name": "stdout",
          "output_type": "stream",
          "text": [
            "3/2 -> Train loss: 83784.78215107322\n"
          ]
        },
        {
          "name": "stderr",
          "output_type": "stream",
          "text": [
            "Training batches:  73%|███████▎  | 5145/7078 [14:37<09:05,  3.54it/s]"
          ]
        },
        {
          "name": "stdout",
          "output_type": "stream",
          "text": [
            "3/2 -> Train loss: 83837.27628317475\n"
          ]
        },
        {
          "name": "stderr",
          "output_type": "stream",
          "text": [
            "Training batches:  74%|███████▍  | 5245/7078 [14:54<08:47,  3.47it/s]"
          ]
        },
        {
          "name": "stdout",
          "output_type": "stream",
          "text": [
            "3/2 -> Train loss: 83892.44186770916\n"
          ]
        },
        {
          "name": "stderr",
          "output_type": "stream",
          "text": [
            "Training batches:  76%|███████▌  | 5345/7078 [15:11<17:33,  1.65it/s]"
          ]
        },
        {
          "name": "stdout",
          "output_type": "stream",
          "text": [
            "3/2 -> Train loss: 83946.04416623712\n"
          ]
        },
        {
          "name": "stderr",
          "output_type": "stream",
          "text": [
            "Training batches:  77%|███████▋  | 5445/7078 [15:28<07:22,  3.69it/s]"
          ]
        },
        {
          "name": "stdout",
          "output_type": "stream",
          "text": [
            "3/2 -> Train loss: 83996.46429869533\n"
          ]
        },
        {
          "name": "stderr",
          "output_type": "stream",
          "text": [
            "Training batches:  78%|███████▊  | 5545/7078 [15:44<06:13,  4.10it/s]"
          ]
        },
        {
          "name": "stdout",
          "output_type": "stream",
          "text": [
            "3/2 -> Train loss: 84047.11432942748\n"
          ]
        },
        {
          "name": "stderr",
          "output_type": "stream",
          "text": [
            "Training batches:  80%|███████▉  | 5645/7078 [16:02<14:15,  1.67it/s]"
          ]
        },
        {
          "name": "stdout",
          "output_type": "stream",
          "text": [
            "3/2 -> Train loss: 84099.79309102893\n"
          ]
        },
        {
          "name": "stderr",
          "output_type": "stream",
          "text": [
            "Training batches:  81%|████████  | 5745/7078 [16:18<06:16,  3.54it/s]"
          ]
        },
        {
          "name": "stdout",
          "output_type": "stream",
          "text": [
            "3/2 -> Train loss: 84154.09299057722\n"
          ]
        },
        {
          "name": "stderr",
          "output_type": "stream",
          "text": [
            "Training batches:  83%|████████▎ | 5845/7078 [16:34<05:23,  3.81it/s]"
          ]
        },
        {
          "name": "stdout",
          "output_type": "stream",
          "text": [
            "3/2 -> Train loss: 84203.59773889184\n"
          ]
        },
        {
          "name": "stderr",
          "output_type": "stream",
          "text": [
            "Training batches:  84%|████████▍ | 5945/7078 [16:52<11:45,  1.61it/s]"
          ]
        },
        {
          "name": "stdout",
          "output_type": "stream",
          "text": [
            "3/2 -> Train loss: 84252.26049607992\n"
          ]
        },
        {
          "name": "stderr",
          "output_type": "stream",
          "text": [
            "Training batches:  85%|████████▌ | 6045/7078 [17:09<09:20,  1.84it/s]"
          ]
        },
        {
          "name": "stdout",
          "output_type": "stream",
          "text": [
            "3/2 -> Train loss: 84306.23607617617\n"
          ]
        },
        {
          "name": "stderr",
          "output_type": "stream",
          "text": [
            "Training batches:  87%|████████▋ | 6145/7078 [17:25<04:17,  3.62it/s]"
          ]
        },
        {
          "name": "stdout",
          "output_type": "stream",
          "text": [
            "3/2 -> Train loss: 84356.71544349194\n"
          ]
        },
        {
          "name": "stderr",
          "output_type": "stream",
          "text": [
            "Training batches:  88%|████████▊ | 6245/7078 [17:43<08:31,  1.63it/s]"
          ]
        },
        {
          "name": "stdout",
          "output_type": "stream",
          "text": [
            "3/2 -> Train loss: 84412.8974519968\n"
          ]
        },
        {
          "name": "stderr",
          "output_type": "stream",
          "text": [
            "Training batches:  90%|████████▉ | 6345/7078 [18:00<03:22,  3.62it/s]"
          ]
        },
        {
          "name": "stdout",
          "output_type": "stream",
          "text": [
            "3/2 -> Train loss: 84461.79625481367\n"
          ]
        },
        {
          "name": "stderr",
          "output_type": "stream",
          "text": [
            "Training batches:  91%|█████████ | 6445/7078 [18:16<02:52,  3.66it/s]"
          ]
        },
        {
          "name": "stdout",
          "output_type": "stream",
          "text": [
            "3/2 -> Train loss: 84509.36339354515\n"
          ]
        },
        {
          "name": "stderr",
          "output_type": "stream",
          "text": [
            "Training batches:  92%|█████████▏| 6545/7078 [18:34<05:37,  1.58it/s]"
          ]
        },
        {
          "name": "stdout",
          "output_type": "stream",
          "text": [
            "3/2 -> Train loss: 84558.93475824594\n"
          ]
        },
        {
          "name": "stderr",
          "output_type": "stream",
          "text": [
            "Training batches:  94%|█████████▍| 6645/7078 [18:50<01:56,  3.71it/s]"
          ]
        },
        {
          "name": "stdout",
          "output_type": "stream",
          "text": [
            "3/2 -> Train loss: 84609.22217062116\n"
          ]
        },
        {
          "name": "stderr",
          "output_type": "stream",
          "text": [
            "Training batches:  95%|█████████▌| 6745/7078 [19:07<01:29,  3.72it/s]"
          ]
        },
        {
          "name": "stdout",
          "output_type": "stream",
          "text": [
            "3/2 -> Train loss: 84657.41616207361\n"
          ]
        },
        {
          "name": "stderr",
          "output_type": "stream",
          "text": [
            "Training batches:  97%|█████████▋| 6845/7078 [19:24<02:20,  1.65it/s]"
          ]
        },
        {
          "name": "stdout",
          "output_type": "stream",
          "text": [
            "3/2 -> Train loss: 84708.13770273328\n"
          ]
        },
        {
          "name": "stderr",
          "output_type": "stream",
          "text": [
            "Training batches:  98%|█████████▊| 6945/7078 [19:42<01:12,  1.85it/s]"
          ]
        },
        {
          "name": "stdout",
          "output_type": "stream",
          "text": [
            "3/2 -> Train loss: 84756.74005168676\n"
          ]
        },
        {
          "name": "stderr",
          "output_type": "stream",
          "text": [
            "Training batches: 100%|█████████▉| 7045/7078 [19:58<00:09,  3.62it/s]"
          ]
        },
        {
          "name": "stdout",
          "output_type": "stream",
          "text": [
            "3/2 -> Train loss: 84807.13763532043\n"
          ]
        },
        {
          "name": "stderr",
          "output_type": "stream",
          "text": [
            "Training batches: 100%|██████████| 7078/7078 [20:03<00:00,  5.88it/s]\n",
            "Validation batches:   4%|▍         | 35/883 [00:05<03:19,  4.25it/s]"
          ]
        },
        {
          "name": "stdout",
          "output_type": "stream",
          "text": [
            "3/2 -> Validation loss: 1.3598390261001057\n"
          ]
        },
        {
          "name": "stderr",
          "output_type": "stream",
          "text": [
            "Validation batches:  15%|█▌        | 135/883 [00:22<03:43,  3.34it/s]"
          ]
        },
        {
          "name": "stdout",
          "output_type": "stream",
          "text": [
            "3/2 -> Validation loss: 1.3079193010220402\n"
          ]
        },
        {
          "name": "stderr",
          "output_type": "stream",
          "text": [
            "Validation batches:  27%|██▋       | 235/883 [00:38<02:53,  3.73it/s]"
          ]
        },
        {
          "name": "stdout",
          "output_type": "stream",
          "text": [
            "3/2 -> Validation loss: 1.2593272935152053\n"
          ]
        },
        {
          "name": "stderr",
          "output_type": "stream",
          "text": [
            "Validation batches:  38%|███▊      | 335/883 [00:54<02:34,  3.54it/s]"
          ]
        },
        {
          "name": "stdout",
          "output_type": "stream",
          "text": [
            "3/2 -> Validation loss: 1.216939185957114\n"
          ]
        },
        {
          "name": "stderr",
          "output_type": "stream",
          "text": [
            "Validation batches:  49%|████▉     | 435/883 [01:09<01:48,  4.13it/s]"
          ]
        },
        {
          "name": "stdout",
          "output_type": "stream",
          "text": [
            "3/2 -> Validation loss: 1.1762588285451585\n"
          ]
        },
        {
          "name": "stderr",
          "output_type": "stream",
          "text": [
            "Validation batches:  61%|██████    | 535/883 [01:25<01:33,  3.70it/s]"
          ]
        },
        {
          "name": "stdout",
          "output_type": "stream",
          "text": [
            "3/2 -> Validation loss: 1.140374582319156\n"
          ]
        },
        {
          "name": "stderr",
          "output_type": "stream",
          "text": [
            "Validation batches:  72%|███████▏  | 635/883 [01:41<01:06,  3.75it/s]"
          ]
        },
        {
          "name": "stdout",
          "output_type": "stream",
          "text": [
            "3/2 -> Validation loss: 1.1078671198524535\n"
          ]
        },
        {
          "name": "stderr",
          "output_type": "stream",
          "text": [
            "Validation batches:  83%|████████▎ | 735/883 [01:57<00:37,  3.93it/s]"
          ]
        },
        {
          "name": "stdout",
          "output_type": "stream",
          "text": [
            "3/2 -> Validation loss: 1.0774873459994794\n"
          ]
        },
        {
          "name": "stderr",
          "output_type": "stream",
          "text": [
            "Validation batches:  95%|█████████▍| 835/883 [02:13<00:12,  3.71it/s]"
          ]
        },
        {
          "name": "stdout",
          "output_type": "stream",
          "text": [
            "3/2 -> Validation loss: 1.048431235546103\n"
          ]
        },
        {
          "name": "stderr",
          "output_type": "stream",
          "text": [
            "Validation batches: 100%|██████████| 883/883 [02:20<00:00,  6.27it/s]\n"
          ]
        }
      ],
      "source": [
        "train_loss = 0.0\n",
        "val_loss = 0.0\n",
        "train_bleu_score = 0.0\n",
        "val_bleu_score = 0.0\n",
        "train_batch_count = 0\n",
        "val_batch_count = 0\n",
        "save_step = 300\n",
        "log_step = 100\n",
        "bleu_step = 100\n",
        "\n",
        "bleu_metric = evaluate.load(\"google_bleu\")\n",
        "MODEL.to(DEVICE)\n",
        "\n",
        "for epoch in range(3):\n",
        "    MODEL.train()\n",
        "    for batch in tqdm(train_loader, desc=\"Training batches\"):\n",
        "        input_ids = batch[\"input_ids\"].to(DEVICE)\n",
        "        attention_mask = batch[\"attention_mask\"].to(DEVICE)\n",
        "        labels = batch[\"labels\"].to(DEVICE)\n",
        "        decoder_attention_mask = batch[\"decoder_attention_mask\"].to(DEVICE)\n",
        "\n",
        "        outputs = MODEL(\n",
        "                          input_ids=input_ids,\n",
        "                          attention_mask=attention_mask,\n",
        "                          labels=labels,\n",
        "                          decoder_attention_mask=decoder_attention_mask\n",
        "                        )\n",
        "\n",
        "        OPTIMIZER.zero_grad()\n",
        "        outputs.loss.backward()\n",
        "        OPTIMIZER.step()\n",
        "        train_loss += outputs.loss.item()\n",
        "        train_batch_count += 1\n",
        "\n",
        "        if train_batch_count  % bleu_step == 0:\n",
        "          with torch.no_grad():\n",
        "            outputs = MODEL.generate(input_ids=input_ids, attention_mask=attention_mask)\n",
        "\n",
        "            # Convert outputs and labels to strings\n",
        "            predictions = [TOKENIZER.decode(pred, skip_special_tokens=True) for pred in outputs]\n",
        "            references = [TOKENIZER.decode(label, skip_special_tokens=True) for label in labels]\n",
        "\n",
        "            # Compute BLEU scores\n",
        "            for pred, ref in zip(predictions, references):\n",
        "                bleu_score = bleu_metric.compute(predictions=[pred], references=[[ref]])\n",
        "                train_bleu_score += bleu_score[\"google_bleu\"]\n",
        "\n",
        "        if train_batch_count % save_step == 0:\n",
        "          MODEL.save_pretrained(\"qa_model\")\n",
        "          TOKENIZER.save_pretrained(\"qa_tokenizer\")\n",
        "\n",
        "        if train_batch_count  % log_step == 0 :\n",
        "          print(f\"{epoch+1}/{2} -> Train loss: {train_loss }\")\n",
        "          wandb.log({\"train_loss\": train_loss / train_batch_count, \"train_bleu\": train_bleu_score / train_batch_count})\n",
        "\n",
        "    #Evaluation\n",
        "    MODEL.eval()\n",
        "    for batch in tqdm(val_loader, desc=\"Validation batches\"):\n",
        "        input_ids = batch[\"input_ids\"].to(DEVICE)\n",
        "        attention_mask = batch[\"attention_mask\"].to(DEVICE)\n",
        "        labels = batch[\"labels\"].to(DEVICE)\n",
        "        decoder_attention_mask = batch[\"decoder_attention_mask\"].to(DEVICE)\n",
        "\n",
        "        outputs = MODEL(\n",
        "                          input_ids=input_ids,\n",
        "                          attention_mask=attention_mask,\n",
        "                          labels=labels,\n",
        "                          decoder_attention_mask=decoder_attention_mask\n",
        "                        )\n",
        "\n",
        "        OPTIMIZER.zero_grad()\n",
        "        outputs.loss.backward()\n",
        "        OPTIMIZER.step()\n",
        "        val_loss += outputs.loss.item()\n",
        "        val_batch_count += 1\n",
        "\n",
        "        if val_batch_count  % bleu_step == 0:\n",
        "          with torch.no_grad():\n",
        "            outputs = MODEL.generate(input_ids=input_ids, attention_mask=attention_mask)\n",
        "\n",
        "            # Convert outputs and labels to strings\n",
        "            predictions = [TOKENIZER.decode(pred, skip_special_tokens=True) for pred in outputs]\n",
        "            references = [TOKENIZER.decode(label, skip_special_tokens=True) for label in labels]\n",
        "\n",
        "            # Compute BLEU scores\n",
        "            for pred, ref in zip(predictions, references):\n",
        "                bleu_score = bleu_metric.compute(predictions=[pred], references=[[ref]])\n",
        "                val_bleu_score += bleu_score[\"google_bleu\"]\n",
        "\n",
        "        if val_batch_count  % log_step == 0 :\n",
        "          print(f\"{epoch+1}/{2} -> Validation loss: {val_loss / val_batch_count }\")\n",
        "          wandb.log({\"val_loss\": val_loss / val_batch_count, \"val_bleu\": val_bleu_score / val_batch_count})\n"
      ]
    },
    {
      "cell_type": "markdown",
      "source": [
        "# Example predictions"
      ],
      "metadata": {
        "id": "iIDdiofzhVa5"
      }
    },
    {
      "cell_type": "code",
      "source": [
        "TOKENIZER = T5TokenizerFast.from_pretrained(\"qa_tokenizer\")\n",
        "MODEL = T5ForConditionalGeneration.from_pretrained(\"qa_model\")\n",
        "DEVICE = \"cuda\" if torch.cuda.is_available() else \"cpu\""
      ],
      "metadata": {
        "id": "9Wl4eSHahgJ8"
      },
      "execution_count": 18,
      "outputs": []
    },
    {
      "cell_type": "code",
      "execution_count": 14,
      "metadata": {
        "id": "j0_vmHN55foA"
      },
      "outputs": [],
      "source": [
        "def predict_answer(context, question, ref_answer=None):\n",
        "    inputs = TOKENIZER(question, context, max_length=Q_LEN, padding=\"max_length\", truncation=True, add_special_tokens=True)\n",
        "\n",
        "    input_ids = torch.tensor(inputs[\"input_ids\"], dtype=torch.long).to(DEVICE).unsqueeze(0)\n",
        "    attention_mask = torch.tensor(inputs[\"attention_mask\"], dtype=torch.long).to(DEVICE).unsqueeze(0)\n",
        "\n",
        "    outputs = MODEL.generate(input_ids=input_ids, attention_mask=attention_mask)\n",
        "\n",
        "    predicted_answer = TOKENIZER.decode(outputs.flatten(), skip_special_tokens=True)\n",
        "\n",
        "    if ref_answer and ref_answer != '':\n",
        "        # Load the Bleu metric\n",
        "        bleu = evaluate.load(\"google_bleu\")\n",
        "        score = bleu.compute(predictions=[predicted_answer],\n",
        "                            references=[ref_answer])\n",
        "        return {\n",
        "            \"ref_answer\": ref_answer,\n",
        "            \"predicted_answer\": predicted_answer,\n",
        "            \"bleu_score\": score['google_bleu']\n",
        "        }\n",
        "    else:\n",
        "       return {\n",
        "            \"ref_answer\": None,\n",
        "            \"predicted_answer\": predicted_answer,\n",
        "            \"bleu_score\": None\n",
        "        }\n",
        "def print_prediction(context, question, pred):\n",
        "  print(\"Context: \\n\", context)\n",
        "  print(\"Question: \\n\", question)\n",
        "  print(\"\\nReference Answer: \", pred['ref_answer'])\n",
        "  print(\"Predicted Answer: \", pred['predicted_answer'])\n",
        "  print(\"BLEU Score: \", round(pred['bleu_score'], 3))"
      ]
    },
    {
      "cell_type": "code",
      "source": [
        "!cp /content/drive/MyDrive/poquad/model.safetensors qa_model/"
      ],
      "metadata": {
        "id": "NyNgDeuAoMn6"
      },
      "execution_count": 17,
      "outputs": []
    },
    {
      "cell_type": "markdown",
      "source": [
        "#### PoQuAD Train Set"
      ],
      "metadata": {
        "id": "z0WuILJEhBf3"
      }
    },
    {
      "cell_type": "code",
      "source": [
        "context = train_data.iloc[20][\"context\"]\n",
        "question = train_data.iloc[20][\"question\"]\n",
        "ref_answer = train_data.iloc[20][\"answer\"]\n",
        "pred = predict_answer(context, question, ref_answer)\n",
        "print_prediction(context, question, pred)\n",
        "print(\"\\n\\n\")\n",
        "\n",
        "context = train_data.iloc[40][\"context\"]\n",
        "question = train_data.iloc[40][\"question\"]\n",
        "ref_answer = train_data.iloc[40][\"answer\"]\n",
        "pred = predict_answer(context, question, ref_answer)\n",
        "print_prediction(context, question, pred)\n",
        "print(\"\\n\\n\")\n",
        "\n",
        "context = train_data.iloc[60][\"context\"]\n",
        "question = train_data.iloc[60][\"question\"]\n",
        "ref_answer = train_data.iloc[60][\"answer\"]\n",
        "pred = predict_answer(context, question, ref_answer)\n",
        "print_prediction(context, question, pred)\n",
        "print(\"\\n\\n\")"
      ],
      "metadata": {
        "colab": {
          "base_uri": "https://localhost:8080/"
        },
        "id": "fV4Bkt-Xjj4m",
        "outputId": "eac9ad69-5f84-40e7-92aa-5cea1d1257bd"
      },
      "execution_count": 19,
      "outputs": [
        {
          "output_type": "stream",
          "name": "stdout",
          "text": [
            "Context: \n",
            " W sezonie 1959 nowym szkoleniowcem Górnika został węgierski trener János Steiner, z którym Kowal współpracował w Legii. Kowal wystąpił we wszystkich dwudziestu dwóch meczach ligowych i zdobył sześć bramek, spędzając na boisku 1935 minut. Jedynym spotkaniem, którego nie dograł w pełnym wymiarze czasowym był mecz przeciwko Ruchowi Chorzów (2:2, 25 października 1959 roku), kiedy to został zmieniony przez Manfreda Fojcika. Kowal był odpowiedzialny za wykonywanie rzutów karnych, które wykorzystał w spotkaniach z Legią (1:2, 10 maja 1959 roku) oraz Lechią Gdańsk (3:2, 1 listopada 1959 roku). Bramkarza Lechii pokonał nie biorąc rozbiegu w kierunku piłki. Przed strzałem wykonał zwód, po którym Henryk Gronowski rzucił się w jeden róg bramki, a piłka potoczyła się w drugi. Górnik zapewnił sobie tytuł mistrzowski na trzy kolejki przez zakończeniem rozgrywek, natomiast Kowal był uważany za piłkarza w szczytowej formie oraz inteligentnego konstruktora akcji.\n",
            "Question: \n",
            " Z jakiego kraju pochodzi János Steiner?\n",
            "\n",
            "Reference Answer:  węgierski\n",
            "Predicted Answer:  w Legii\n",
            "BLEU Score:  0.0\n",
            "\n",
            "\n",
            "\n",
            "Context: \n",
            " W kolejnych latach Amanda nagrała kilka dyskotekowych singli dla różnych wytwórni, między innymi „Assassino” i „No Credit Card”, które jednak nie podbiły list przebojów. Z kolei jej działalność w telewizji cieszyła się dużą popularnością we Włoszech, gdzie aktualnie prowadziła program W le donne. W 1984 wydana została jej pierwsza książka, autobiografia My Life with Dalí, skupiająca się na jej relacji ze słynnym malarzem. W 1986 Lear zaczęła pracować w Stanach Zjednoczonych nad nową płytą, Secret Passion, stanowiącą mieszankę muzyki tanecznej i rocka, zawierającą między innymi cover piosenki „Wild Thing” grupy The Troggs. Płyta miała być nie tylko powrotem Amandy Lear na szczyty list przebojów w Europie, ale także próbą podbicia Wielkiej Brytanii, USA, Kanady i Australii. Plany pokrzyżował jednak wypadek samochodowy, któremu Amanda uległa tuż przed promocją płyty. Musiała spędzić wiele miesięcy w szpitalu i nie była w stanie promować albumu, który ostatecznie nie sprzedał się dobrze po żadnej stronie Atlantyku. Będąc w szpitalu, artystka zaczęła pisać powieść zatytułowaną L'Immortelle. Była to surrealistyczna historia opisująca cierpienia kobiety nieśmiertelnej i wiecznie młodej, która stopniowo traciła swoich przyjaciół i nie mogła zatrzymać upływu czasu.\n",
            "Question: \n",
            " Czy mimo jej problemów album Secret Passion odniósł sukces sprzedażowy?\n",
            "\n",
            "Reference Answer:  Musiała spędzić wiele miesięcy w szpitalu i nie była w stanie promować albumu, który ostatecznie nie sprzedał się dobrze po żadnej stronie Atlantyku\n",
            "Predicted Answer:  „Assassino” i „No Credit Card”\n",
            "BLEU Score:  0.011\n",
            "\n",
            "\n",
            "\n",
            "Context: \n",
            " Walker zginął w czasie, kiedy nie zakończono jeszcze zdjęć do Szybkich i wściekłych 7, w tym scen z udziałem jego postaci. Reżyser projektu wyjawił podczas konferencji prasowej, że film zostanie ukończony, jednak ze względu na żałobę jego produkcja została tymczasowo wstrzymana. W niezrealizowanych scenach z postacią Walkera zastąpiony został on przez swoich młodszych braci. Dzięki wykorzystaniu technik komputerowych i zarejestrowanych wypowiedzi Walkera postać Briana O’Connera wyglądała i brzmiała jak Walker.\n",
            "Question: \n",
            " W jaki sposób uzyskano wiarygodną kopię postaci Walkera po jego śmierci?\n",
            "\n",
            "Reference Answer:  Dzięki wykorzystaniu technik komputerowych i zarejestrowanych wypowiedzi Walkera\n",
            "Predicted Answer:  W niezrealizowanych scenach z postacią Walkera zastąpiony został on przez swoich młodszych braci\n",
            "BLEU Score:  0.022\n",
            "\n",
            "\n",
            "\n"
          ]
        }
      ]
    },
    {
      "cell_type": "markdown",
      "source": [
        "#### PoQuAD Validation Set"
      ],
      "metadata": {
        "id": "cjuEE7JVhDIM"
      }
    },
    {
      "cell_type": "code",
      "source": [
        "context = validation_data.iloc[20][\"context\"]\n",
        "question = validation_data.iloc[20][\"question\"]\n",
        "ref_answer = validation_data.iloc[20][\"answer\"]\n",
        "pred = predict_answer(context, question, ref_answer)\n",
        "print_prediction(context, question, pred)\n",
        "print(\"\\n\\n\")\n",
        "\n",
        "context = validation_data.iloc[40][\"context\"]\n",
        "question = validation_data.iloc[40][\"question\"]\n",
        "ref_answer = validation_data.iloc[40][\"answer\"]\n",
        "pred = predict_answer(context, question, ref_answer)\n",
        "print_prediction(context, question, pred)\n",
        "print(\"\\n\\n\")\n",
        "\n",
        "context = validation_data.iloc[60][\"context\"]\n",
        "question = validation_data.iloc[60][\"question\"]\n",
        "ref_answer = validation_data.iloc[60][\"answer\"]\n",
        "pred = predict_answer(context, question, ref_answer)\n",
        "print_prediction(context, question, pred)\n",
        "print(\"\\n\\n\")"
      ],
      "metadata": {
        "colab": {
          "base_uri": "https://localhost:8080/"
        },
        "id": "uD86crqwkS7d",
        "outputId": "8ce6f62b-951f-4200-ef26-bdd84dd2e07d"
      },
      "execution_count": 20,
      "outputs": [
        {
          "output_type": "stream",
          "name": "stdout",
          "text": [
            "Context: \n",
            " Od 2014 roku w Superpucharze, z inicjatywy prezesa PZPN Zbigniewa Bońka, nastąpiła zmiana, gdyż po 8 latach przerwy związek podjął na swoje barki organizację rozgrywek o Superpuchar. O trofeum walczyć będą Mistrz Polski oraz zdobywca Pucharu Polski sezonu zakończonego w roku rozgrywania Superpucharu. Tym samym powrócono do nazwy Superpuchar Polski. Mecz rozgrywany będzie na stadionie Mistrza Polski, na około tydzień przed startem nowego sezonu Ekstraklasy. W sytuacji, gdy ten sam klub sięgnie po mistrzostwo i Puchar Polski, jego rywalem w meczu o trofeum będzie finalista ostatniej edycji Pucharu Polski.\n",
            "Question: \n",
            " Kto piastował stanowisko prezesa Polskiego Związku Piłki Nożnej poczynając od 2014 roku?\n",
            "\n",
            "Reference Answer:  pączki, faworki i bliny\n",
            "Predicted Answer:  na stadionie Mistrza Polski\n",
            "BLEU Score:  0.0\n",
            "\n",
            "\n",
            "\n",
            "Context: \n",
            " Eminem używa różnych tożsamości w swoich piosenkach, by korzystać z różnych stylów rapowania i różnych podmiotów. Jego najbardziej znane i popularne alter ego, „Slim Shady”, pochodzi z The Slim Shady EP. Pod tą osobowością, Eminem tworzy kontrowersyjne i odważne piosenki z komicznym akcentem. Chociaż Slim Shady często staje się częścią dzieł Eminema, nie ma go dużo na albumie Recovery, ponieważ Eminem czuł, że nie pasuje on za bardzo do głównego tematu płyty. Eminem jest uważany za alter ego swojego prawdziwego „ja” tj. Marshalla Mathersa. Innym wcieleniem Eminema jest Ken Kaniff, pierwotnie postać grana przez przyjaciela Eminema w albumie The Slim Shady LP, ale już na The Marshall Mathers LP i później rolę Kena Kaniffa odegrał sam Eminem. Ken Kaniff jest raperem homoseksualistą, który wyśmiewa się z piosenek Eminema.\n",
            "Question: \n",
            " Dlaczego artysta tworzy rozmaite alter ego?\n",
            "\n",
            "Reference Answer:  by korzystać z różnych stylów rapowania i różnych podmiotów\n",
            "Predicted Answer:  „Slim Shady”\n",
            "BLEU Score:  0.0\n",
            "\n",
            "\n",
            "\n",
            "Context: \n",
            " 5 sierpnia o świcie oddziały OW PPS trzymały nadal barykadę na Wolskiej. Południowe ubezpieczenie całej linii obronnej od cmentarza powązkowskiego do szpitala św. Stanisława na Wolskiej, stanowiła Milicja PPS. Początkowe natarcie zgrupowania Reinefartha ok. 7.00 zostało odparte, żołnierze plutonu AL zniszczyli czołg. Około godz. 8.00 pluton OW PPS zajmujący pozycje w Fabryce Franaszka przed barykadą i przy zabudowaniach szpitala św. Stanisława przepuścił Niemców, a następnie otworzył skuteczny ogień, zmuszając ich do wycofania. Według Lesława Bartelskiego barykady broniło wówczas ok. 200 żołnierzy (z tego 100 z OW PPS, oddział Czwartaków, pluton „Czarnego” z Batalionu Parasol), posiadając 3 ckm 1 granatnik, 62 kb 16 pm i 260 granatów. Według Adama Przygońskiego, głównego odcinka frontu od ul. Ożarowskiej, wzdłuż ul. Płockiej i Wolskiej, do remizy przy ul. Młynarskiej broniło 400 żołnierzy w tym 150 żołnierzy AL i ok. 100 OW PPS. Według wspomnień żołnierzy OW PPS, cytowanych przez Przygońskiego, było to 232 uzbrojonych żołnierzy w tym 98 z OW PPS,14 z AL i 120 z AK. Atak prowadziło natomiast zgrupowanie 3000 żołnierzy niemieckich wsparte kompanią ciężkich czołgów.\n",
            "Question: \n",
            " Jakie tereny obejmował główny odcinek frontu?\n",
            "\n",
            "Reference Answer:  od ul. Ożarowskiej, wzdłuż ul. Płockiej i Wolskiej, do remizy przy ul. Młynarskiej\n",
            "Predicted Answer:  w Fabryce Franaszka przed barykadą i przy zabudowaniach szpitala św. Stanisława\n",
            "BLEU Score:  0.045\n",
            "\n",
            "\n",
            "\n"
          ]
        }
      ]
    },
    {
      "cell_type": "markdown",
      "metadata": {
        "id": "o2ZC_Vqr1KDD"
      },
      "source": [
        "## Evaluation on Simple Legal Questions Dataset"
      ]
    },
    {
      "cell_type": "markdown",
      "metadata": {
        "id": "iU70572MiC_L"
      },
      "source": [
        "### Loading dataset from json files"
      ]
    },
    {
      "cell_type": "code",
      "execution_count": null,
      "metadata": {
        "id": "cJTxHXI71G_P"
      },
      "outputs": [],
      "source": [
        "import json\n",
        "\n",
        "def load_jsonl(file_path):\n",
        "    data = []\n",
        "    with open(file_path, 'r') as f:\n",
        "        for line in f:\n",
        "            data.append(json.loads(line))\n",
        "    return data\n",
        "\n",
        "answers = load_jsonl('answers.jl')\n",
        "questions = load_jsonl('questions.jl')\n",
        "passages = load_jsonl('passages.jl')\n",
        "relevant = load_jsonl('relevant.jl')"
      ]
    },
    {
      "cell_type": "code",
      "execution_count": null,
      "metadata": {
        "colab": {
          "base_uri": "https://localhost:8080/"
        },
        "id": "Vgem64qi9woc",
        "outputId": "2fd93559-76c6-4c20-bb59-9e49c7741fe2"
      },
      "outputs": [
        {
          "name": "stdout",
          "output_type": "stream",
          "text": [
            "{'score': '1', 'question-id': '1', 'answer': 'Tak, podlega karze aresztu wojskowego albo pozbawienia wolności do lat 3.'}\n"
          ]
        }
      ],
      "source": [
        "print(answers[0])"
      ]
    },
    {
      "cell_type": "code",
      "execution_count": null,
      "metadata": {
        "id": "tnPRjPeo8AE3"
      },
      "outputs": [],
      "source": [
        "test_set = []\n",
        "\n",
        "for row in relevant:\n",
        "  context_id = row[\"passage-id\"]\n",
        "  question_id = row[\"question-id\"]\n",
        "\n",
        "  for passage in passages:\n",
        "    if passage[\"_id\"] == context_id:\n",
        "      context_text = passage[\"text\"]\n",
        "      break\n",
        "  question_text = questions[int(question_id)-1][\"text\"]\n",
        "\n",
        "  for answer in answers:\n",
        "    if answer[\"question-id\"] == row[\"question-id\"]:\n",
        "      answer_text = answer[\"answer\"]\n",
        "      break\n",
        "\n",
        "  test_set.append({\n",
        "      \"context\": context_text,\n",
        "      \"question\": question_text,\n",
        "      \"answer\": answer_text\n",
        "  })\n"
      ]
    },
    {
      "cell_type": "code",
      "execution_count": null,
      "metadata": {
        "colab": {
          "base_uri": "https://localhost:8080/"
        },
        "id": "APnLOA6x-ekt",
        "outputId": "725caf1b-319e-48b7-e291-69c24b6dc9f3"
      },
      "outputs": [
        {
          "name": "stdout",
          "output_type": "stream",
          "text": [
            "Simple Legal Ouestions Test Set Example\n",
            "\n",
            "context:  Art. 345. § 1. Żołnierz, który dopuszcza się czynnej napaści na przełożonego, podlega karze aresztu wojskowego albo pozbawienia wolności do lat 3. § 2. Jeżeli sprawca dopuszcza się czynnej napaści w związku z pełnieniem przez przełożonego obowiązków służbowych albo wspólnie z innymi żołnierzami lub w obecności zebranych żołnierzy, podlega karze pozbawienia wolności od 6 miesięcy do lat 8. § 3. Jeżeli sprawca czynu określonego w § 1 lub 2 używa broni, noża lub innego podobnie niebezpiecznego przedmiotu, podlega karze pozbawienia wolności od roku do lat 10. § 4. Karze przewidzianej w § 3 podlega sprawca czynu określonego w § 1 lub 2, jeżeli jego następstwem jest skutek określony w art. 156 lub 157 § 1.\n",
            "question:  Czy żołnierz, który dopuszcza się czynnej napaści na przełożonego podlega karze pozbawienia wolności?\n",
            "answer:  Tak, podlega karze aresztu wojskowego albo pozbawienia wolności do lat 3.\n"
          ]
        }
      ],
      "source": [
        "print(\"Simple Legal Ouestions Test Set Example\\n\")\n",
        "print(\"context: \", test_set[0]['context'])\n",
        "print(\"question: \",test_set[0]['question'])\n",
        "print(\"answer: \", test_set[0]['answer'])"
      ]
    },
    {
      "cell_type": "markdown",
      "metadata": {
        "id": "Yeyrut_z4ZLO"
      },
      "source": [
        "### Example Predictions with BLEU score"
      ]
    },
    {
      "cell_type": "markdown",
      "source": [
        "#### Simple Legal Questions Dataset"
      ],
      "metadata": {
        "id": "cjfL_Y1ohFJJ"
      }
    },
    {
      "cell_type": "code",
      "execution_count": null,
      "metadata": {
        "colab": {
          "base_uri": "https://localhost:8080/"
        },
        "id": "kDl_uRNB1M7c",
        "outputId": "21dcaa95-1236-4fbc-a771-26eed6f22372"
      },
      "outputs": [
        {
          "name": "stdout",
          "output_type": "stream",
          "text": [
            "Context: \n",
            " Art. 209. § 1. Kto uporczywie uchyla się od wykonania ciążącego na nim z mocy ustawy lub orzeczenia sądowego obowiązku opieki przez niełożenie na utrzymanie osoby najbliższej lub innej osoby i przez to naraża ją na niemożność zaspokojenia podstawowych potrzeb życiowych, podlega grzywnie, karze ograniczenia wolności albo pozbawienia wolności do lat 2. § 2. Ściganie następuje na wniosek pokrzywdzonego, organu opieki społecznej lub właściwej instytucji. § 3. Jeżeli pokrzywdzonemu przyznano świadczenie z funduszu alimentacyjnego, ściganie odbywa się z urzędu.\n",
            "\n",
            "\n",
            "Question: \n",
            " Jak ściga się świadczenia w ramach funduszu alimentacyjnego?\n",
            "\n",
            "Reference Answer:  Ściganie następuje na wniosek pokrzywdzonego, organu opieki społecznej lub właściwej instytucji.\n",
            "Predicted Answer:  z urzędu\n",
            "BLEU Score:  0.0\n",
            "\n",
            "\n",
            "\n",
            "Context: \n",
            " Art. 58. 1. Kontrolujący w toku kontroli może również dokonać przeszukania pomieszczeń lub rzeczy, za zgodą sądu antymonopolowego, udzieloną na wniosek Prezesa Urzędu. Przy przeszukaniu kontrolujący może korzystać z pomocy funkcjonariuszy innych organów kontroli państwowej lub Policji z jednostki właściwej ze względu na siedzibę przedsiębiorcy. 2. Sąd antymonopolowy wydaje w ciągu 48 godzin postanowienie w sprawie, o której mowa w ust. 1. Na postanowienie sądu antymonopolowego nie przysługuje zażalenie. 3. Policja, na polecenie Prezesa Urzędu, wykonuje czynności, o których mowa w ust. 1. 4. W sprawach nieuregulowanych w ustawie stosuje się przepisy Kodeksu postępowania karnego o przeszukaniu.\n",
            "\n",
            "\n",
            "Question: \n",
            " W jakim przypadku policja może dokonać przeszukania pomieszczeń w domu?\n",
            "\n",
            "Reference Answer:  za zgodą sądu antymonopolowego, udzieloną na wniosek Prezesa Urzędu\n",
            "Predicted Answer:  w celu ochrony mienia lub mienia\n",
            "BLEU Score:  0.0\n",
            "\n",
            "\n",
            "\n",
            "Context: \n",
            " Art. 15. Świętem Żandarmerii Wojskowej jest dzień 13 czerwca.\n",
            "\n",
            "\n",
            "Question: \n",
            " Jakiego dnia ma miejsce Święto Żandarmerii Wojskowej?\n",
            "\n",
            "Reference Answer:  13 czerwca\n",
            "Predicted Answer:  15\n",
            "BLEU Score:  0.0\n",
            "\n",
            "\n",
            "\n"
          ]
        }
      ],
      "source": [
        "context = test_set[20][\"context\"]\n",
        "question = test_set[20][\"question\"]\n",
        "ref_answer = test_set[20][\"answer\"]\n",
        "pred = predict_answer(context, question, ref_answer)\n",
        "print_prediction(context, question, pred)\n",
        "print(\"\\n\\n\")\n",
        "\n",
        "context = test_set[40][\"context\"]\n",
        "question = test_set[40][\"question\"]\n",
        "ref_answer = test_set[40][\"answer\"]\n",
        "pred = predict_answer(context, question, ref_answer)\n",
        "print_prediction(context, question, pred)\n",
        "print(\"\\n\\n\")\n",
        "\n",
        "context = test_set[60][\"context\"]\n",
        "question = test_set[60][\"question\"]\n",
        "ref_answer = test_set[60][\"answer\"]\n",
        "pred = predict_answer(context, question, ref_answer)\n",
        "print_prediction(context, question, pred)\n",
        "print(\"\\n\\n\")\n"
      ]
    },
    {
      "cell_type": "markdown",
      "metadata": {
        "id": "q9PXbREG4i1D"
      },
      "source": [
        "### Mean BLEU for whole testing dataset"
      ]
    },
    {
      "cell_type": "code",
      "execution_count": null,
      "metadata": {
        "colab": {
          "base_uri": "https://localhost:8080/",
          "height": 391
        },
        "id": "2HIEj46mA5Ls",
        "outputId": "5856595e-7c3a-4cd9-a1b5-c7d290c0e27b"
      },
      "outputs": [
        {
          "name": "stdout",
          "output_type": "stream",
          "text": [
            "Mean BLEU Score:  0.056\n"
          ]
        }
      ],
      "source": [
        "scores = []\n",
        "mean_bleu = 0.0\n",
        "\n",
        "for i in range(len(test_set)):\n",
        "  context = test_set[i][\"context\"]\n",
        "  question = test_set[i][\"question\"]\n",
        "  ref_answer = test_set[i][\"answer\"]\n",
        "  pred = predict_answer(context, question, ref_answer)\n",
        "  if pred['bleu_score'] is not None:\n",
        "    scores.append(pred['bleu_score'])\n",
        "\n",
        "mean_bleu = sum(scores) / len(scores)\n",
        "print(\"Mean BLEU Score: \", round(mean_bleu, 3))\n"
      ]
    },
    {
      "cell_type": "markdown",
      "metadata": {
        "id": "DjI3kbrqBGEg"
      },
      "source": [
        "# Summary\n",
        "\n",
        "> Does the performance on the validation dataset reflects the performance on your test set?\n",
        "\n",
        "They are both bad...\n",
        "\n",
        ">What are the outcomes of the model on your test questions? Are they satisfying? If not, what might be the reason for that?\n",
        "\n",
        "Most of the answers seem to be to abstracted from context. Either halucinations or inability to work with eg. numbers. Both questions ans the ground truth answers might not be clear or correct even. So some model predictions might be correct but not similar to the ground truth in BLEU measure.\n",
        "\n",
        "\n",
        ">Why extractive question answering is not well suited for inflectional languages?\n",
        "\n",
        "The answers to the questions may lack context and might not be correctly lemmatized. The syntax of extracted answer could contain errors."
      ]
    }
  ],
  "metadata": {
    "colab": {
      "provenance": []
    },
    "kernelspec": {
      "display_name": "Python 3 (ipykernel)",
      "language": "python",
      "name": "python3"
    },
    "language_info": {
      "codemirror_mode": {
        "name": "ipython",
        "version": 3
      },
      "file_extension": ".py",
      "mimetype": "text/x-python",
      "name": "python",
      "nbconvert_exporter": "python",
      "pygments_lexer": "ipython3",
      "version": "3.9.18"
    },
    "widgets": {
      "application/vnd.jupyter.widget-state+json": {
        "722cdc2e6e8a4541b51df173ea3863f3": {
          "model_module": "@jupyter-widgets/controls",
          "model_name": "HBoxModel",
          "model_module_version": "1.5.0",
          "state": {
            "_dom_classes": [],
            "_model_module": "@jupyter-widgets/controls",
            "_model_module_version": "1.5.0",
            "_model_name": "HBoxModel",
            "_view_count": null,
            "_view_module": "@jupyter-widgets/controls",
            "_view_module_version": "1.5.0",
            "_view_name": "HBoxView",
            "box_style": "",
            "children": [
              "IPY_MODEL_a2af267bb51a4fd5a211a8fd3eac34df",
              "IPY_MODEL_d4321c0a4b8f4b439491ea8c1831c621",
              "IPY_MODEL_6c11af1f0c824411ab9007d0e26be91f"
            ],
            "layout": "IPY_MODEL_da52712771424303872edffb3a4c74ad"
          }
        },
        "a2af267bb51a4fd5a211a8fd3eac34df": {
          "model_module": "@jupyter-widgets/controls",
          "model_name": "HTMLModel",
          "model_module_version": "1.5.0",
          "state": {
            "_dom_classes": [],
            "_model_module": "@jupyter-widgets/controls",
            "_model_module_version": "1.5.0",
            "_model_name": "HTMLModel",
            "_view_count": null,
            "_view_module": "@jupyter-widgets/controls",
            "_view_module_version": "1.5.0",
            "_view_name": "HTMLView",
            "description": "",
            "description_tooltip": null,
            "layout": "IPY_MODEL_d53f90d1d76947119a3955725f253153",
            "placeholder": "​",
            "style": "IPY_MODEL_1e3452e8eabd4850bd2f3a99271b1dc5",
            "value": "tokenizer_config.json: 100%"
          }
        },
        "d4321c0a4b8f4b439491ea8c1831c621": {
          "model_module": "@jupyter-widgets/controls",
          "model_name": "FloatProgressModel",
          "model_module_version": "1.5.0",
          "state": {
            "_dom_classes": [],
            "_model_module": "@jupyter-widgets/controls",
            "_model_module_version": "1.5.0",
            "_model_name": "FloatProgressModel",
            "_view_count": null,
            "_view_module": "@jupyter-widgets/controls",
            "_view_module_version": "1.5.0",
            "_view_name": "ProgressView",
            "bar_style": "success",
            "description": "",
            "description_tooltip": null,
            "layout": "IPY_MODEL_c4561c5695604a39817d91c7f2d72661",
            "max": 141,
            "min": 0,
            "orientation": "horizontal",
            "style": "IPY_MODEL_98644396b41f41ca8bd377f262f6582c",
            "value": 141
          }
        },
        "6c11af1f0c824411ab9007d0e26be91f": {
          "model_module": "@jupyter-widgets/controls",
          "model_name": "HTMLModel",
          "model_module_version": "1.5.0",
          "state": {
            "_dom_classes": [],
            "_model_module": "@jupyter-widgets/controls",
            "_model_module_version": "1.5.0",
            "_model_name": "HTMLModel",
            "_view_count": null,
            "_view_module": "@jupyter-widgets/controls",
            "_view_module_version": "1.5.0",
            "_view_name": "HTMLView",
            "description": "",
            "description_tooltip": null,
            "layout": "IPY_MODEL_eb497c924a0f404e8af41aab814f6bfb",
            "placeholder": "​",
            "style": "IPY_MODEL_217065a31eda43a98862ed4acdf01bfd",
            "value": " 141/141 [00:00&lt;00:00, 2.46kB/s]"
          }
        },
        "da52712771424303872edffb3a4c74ad": {
          "model_module": "@jupyter-widgets/base",
          "model_name": "LayoutModel",
          "model_module_version": "1.2.0",
          "state": {
            "_model_module": "@jupyter-widgets/base",
            "_model_module_version": "1.2.0",
            "_model_name": "LayoutModel",
            "_view_count": null,
            "_view_module": "@jupyter-widgets/base",
            "_view_module_version": "1.2.0",
            "_view_name": "LayoutView",
            "align_content": null,
            "align_items": null,
            "align_self": null,
            "border": null,
            "bottom": null,
            "display": null,
            "flex": null,
            "flex_flow": null,
            "grid_area": null,
            "grid_auto_columns": null,
            "grid_auto_flow": null,
            "grid_auto_rows": null,
            "grid_column": null,
            "grid_gap": null,
            "grid_row": null,
            "grid_template_areas": null,
            "grid_template_columns": null,
            "grid_template_rows": null,
            "height": null,
            "justify_content": null,
            "justify_items": null,
            "left": null,
            "margin": null,
            "max_height": null,
            "max_width": null,
            "min_height": null,
            "min_width": null,
            "object_fit": null,
            "object_position": null,
            "order": null,
            "overflow": null,
            "overflow_x": null,
            "overflow_y": null,
            "padding": null,
            "right": null,
            "top": null,
            "visibility": null,
            "width": null
          }
        },
        "d53f90d1d76947119a3955725f253153": {
          "model_module": "@jupyter-widgets/base",
          "model_name": "LayoutModel",
          "model_module_version": "1.2.0",
          "state": {
            "_model_module": "@jupyter-widgets/base",
            "_model_module_version": "1.2.0",
            "_model_name": "LayoutModel",
            "_view_count": null,
            "_view_module": "@jupyter-widgets/base",
            "_view_module_version": "1.2.0",
            "_view_name": "LayoutView",
            "align_content": null,
            "align_items": null,
            "align_self": null,
            "border": null,
            "bottom": null,
            "display": null,
            "flex": null,
            "flex_flow": null,
            "grid_area": null,
            "grid_auto_columns": null,
            "grid_auto_flow": null,
            "grid_auto_rows": null,
            "grid_column": null,
            "grid_gap": null,
            "grid_row": null,
            "grid_template_areas": null,
            "grid_template_columns": null,
            "grid_template_rows": null,
            "height": null,
            "justify_content": null,
            "justify_items": null,
            "left": null,
            "margin": null,
            "max_height": null,
            "max_width": null,
            "min_height": null,
            "min_width": null,
            "object_fit": null,
            "object_position": null,
            "order": null,
            "overflow": null,
            "overflow_x": null,
            "overflow_y": null,
            "padding": null,
            "right": null,
            "top": null,
            "visibility": null,
            "width": null
          }
        },
        "1e3452e8eabd4850bd2f3a99271b1dc5": {
          "model_module": "@jupyter-widgets/controls",
          "model_name": "DescriptionStyleModel",
          "model_module_version": "1.5.0",
          "state": {
            "_model_module": "@jupyter-widgets/controls",
            "_model_module_version": "1.5.0",
            "_model_name": "DescriptionStyleModel",
            "_view_count": null,
            "_view_module": "@jupyter-widgets/base",
            "_view_module_version": "1.2.0",
            "_view_name": "StyleView",
            "description_width": ""
          }
        },
        "c4561c5695604a39817d91c7f2d72661": {
          "model_module": "@jupyter-widgets/base",
          "model_name": "LayoutModel",
          "model_module_version": "1.2.0",
          "state": {
            "_model_module": "@jupyter-widgets/base",
            "_model_module_version": "1.2.0",
            "_model_name": "LayoutModel",
            "_view_count": null,
            "_view_module": "@jupyter-widgets/base",
            "_view_module_version": "1.2.0",
            "_view_name": "LayoutView",
            "align_content": null,
            "align_items": null,
            "align_self": null,
            "border": null,
            "bottom": null,
            "display": null,
            "flex": null,
            "flex_flow": null,
            "grid_area": null,
            "grid_auto_columns": null,
            "grid_auto_flow": null,
            "grid_auto_rows": null,
            "grid_column": null,
            "grid_gap": null,
            "grid_row": null,
            "grid_template_areas": null,
            "grid_template_columns": null,
            "grid_template_rows": null,
            "height": null,
            "justify_content": null,
            "justify_items": null,
            "left": null,
            "margin": null,
            "max_height": null,
            "max_width": null,
            "min_height": null,
            "min_width": null,
            "object_fit": null,
            "object_position": null,
            "order": null,
            "overflow": null,
            "overflow_x": null,
            "overflow_y": null,
            "padding": null,
            "right": null,
            "top": null,
            "visibility": null,
            "width": null
          }
        },
        "98644396b41f41ca8bd377f262f6582c": {
          "model_module": "@jupyter-widgets/controls",
          "model_name": "ProgressStyleModel",
          "model_module_version": "1.5.0",
          "state": {
            "_model_module": "@jupyter-widgets/controls",
            "_model_module_version": "1.5.0",
            "_model_name": "ProgressStyleModel",
            "_view_count": null,
            "_view_module": "@jupyter-widgets/base",
            "_view_module_version": "1.2.0",
            "_view_name": "StyleView",
            "bar_color": null,
            "description_width": ""
          }
        },
        "eb497c924a0f404e8af41aab814f6bfb": {
          "model_module": "@jupyter-widgets/base",
          "model_name": "LayoutModel",
          "model_module_version": "1.2.0",
          "state": {
            "_model_module": "@jupyter-widgets/base",
            "_model_module_version": "1.2.0",
            "_model_name": "LayoutModel",
            "_view_count": null,
            "_view_module": "@jupyter-widgets/base",
            "_view_module_version": "1.2.0",
            "_view_name": "LayoutView",
            "align_content": null,
            "align_items": null,
            "align_self": null,
            "border": null,
            "bottom": null,
            "display": null,
            "flex": null,
            "flex_flow": null,
            "grid_area": null,
            "grid_auto_columns": null,
            "grid_auto_flow": null,
            "grid_auto_rows": null,
            "grid_column": null,
            "grid_gap": null,
            "grid_row": null,
            "grid_template_areas": null,
            "grid_template_columns": null,
            "grid_template_rows": null,
            "height": null,
            "justify_content": null,
            "justify_items": null,
            "left": null,
            "margin": null,
            "max_height": null,
            "max_width": null,
            "min_height": null,
            "min_width": null,
            "object_fit": null,
            "object_position": null,
            "order": null,
            "overflow": null,
            "overflow_x": null,
            "overflow_y": null,
            "padding": null,
            "right": null,
            "top": null,
            "visibility": null,
            "width": null
          }
        },
        "217065a31eda43a98862ed4acdf01bfd": {
          "model_module": "@jupyter-widgets/controls",
          "model_name": "DescriptionStyleModel",
          "model_module_version": "1.5.0",
          "state": {
            "_model_module": "@jupyter-widgets/controls",
            "_model_module_version": "1.5.0",
            "_model_name": "DescriptionStyleModel",
            "_view_count": null,
            "_view_module": "@jupyter-widgets/base",
            "_view_module_version": "1.2.0",
            "_view_name": "StyleView",
            "description_width": ""
          }
        },
        "596093d8e1774f74b69cc326ee44cd30": {
          "model_module": "@jupyter-widgets/controls",
          "model_name": "HBoxModel",
          "model_module_version": "1.5.0",
          "state": {
            "_dom_classes": [],
            "_model_module": "@jupyter-widgets/controls",
            "_model_module_version": "1.5.0",
            "_model_name": "HBoxModel",
            "_view_count": null,
            "_view_module": "@jupyter-widgets/controls",
            "_view_module_version": "1.5.0",
            "_view_name": "HBoxView",
            "box_style": "",
            "children": [
              "IPY_MODEL_cd6db4eb7a074ac3be4a89d26eaa574f",
              "IPY_MODEL_35c95ed403ef4c198e2436f9f9db6248",
              "IPY_MODEL_a06f8385c9ab49af982dc0ea1637bd56"
            ],
            "layout": "IPY_MODEL_eab8bc44aec94e2d8a4fbd57c5c98bd4"
          }
        },
        "cd6db4eb7a074ac3be4a89d26eaa574f": {
          "model_module": "@jupyter-widgets/controls",
          "model_name": "HTMLModel",
          "model_module_version": "1.5.0",
          "state": {
            "_dom_classes": [],
            "_model_module": "@jupyter-widgets/controls",
            "_model_module_version": "1.5.0",
            "_model_name": "HTMLModel",
            "_view_count": null,
            "_view_module": "@jupyter-widgets/controls",
            "_view_module_version": "1.5.0",
            "_view_name": "HTMLView",
            "description": "",
            "description_tooltip": null,
            "layout": "IPY_MODEL_7c5770efbf1a4c62a773281d68b28b54",
            "placeholder": "​",
            "style": "IPY_MODEL_81bc8f7aa2574d468dd40579367e6dde",
            "value": "spiece.model: 100%"
          }
        },
        "35c95ed403ef4c198e2436f9f9db6248": {
          "model_module": "@jupyter-widgets/controls",
          "model_name": "FloatProgressModel",
          "model_module_version": "1.5.0",
          "state": {
            "_dom_classes": [],
            "_model_module": "@jupyter-widgets/controls",
            "_model_module_version": "1.5.0",
            "_model_name": "FloatProgressModel",
            "_view_count": null,
            "_view_module": "@jupyter-widgets/controls",
            "_view_module_version": "1.5.0",
            "_view_name": "ProgressView",
            "bar_style": "success",
            "description": "",
            "description_tooltip": null,
            "layout": "IPY_MODEL_46099252463c4f2b906f275051b65de9",
            "max": 1124950,
            "min": 0,
            "orientation": "horizontal",
            "style": "IPY_MODEL_adf703052e624d6aac46d9fbe0b88a0f",
            "value": 1124950
          }
        },
        "a06f8385c9ab49af982dc0ea1637bd56": {
          "model_module": "@jupyter-widgets/controls",
          "model_name": "HTMLModel",
          "model_module_version": "1.5.0",
          "state": {
            "_dom_classes": [],
            "_model_module": "@jupyter-widgets/controls",
            "_model_module_version": "1.5.0",
            "_model_name": "HTMLModel",
            "_view_count": null,
            "_view_module": "@jupyter-widgets/controls",
            "_view_module_version": "1.5.0",
            "_view_name": "HTMLView",
            "description": "",
            "description_tooltip": null,
            "layout": "IPY_MODEL_c74f744b62cf4706bb77be15f8f01999",
            "placeholder": "​",
            "style": "IPY_MODEL_2c9c73b6b259448784d79de88dd1f1aa",
            "value": " 1.12M/1.12M [00:00&lt;00:00, 5.02MB/s]"
          }
        },
        "eab8bc44aec94e2d8a4fbd57c5c98bd4": {
          "model_module": "@jupyter-widgets/base",
          "model_name": "LayoutModel",
          "model_module_version": "1.2.0",
          "state": {
            "_model_module": "@jupyter-widgets/base",
            "_model_module_version": "1.2.0",
            "_model_name": "LayoutModel",
            "_view_count": null,
            "_view_module": "@jupyter-widgets/base",
            "_view_module_version": "1.2.0",
            "_view_name": "LayoutView",
            "align_content": null,
            "align_items": null,
            "align_self": null,
            "border": null,
            "bottom": null,
            "display": null,
            "flex": null,
            "flex_flow": null,
            "grid_area": null,
            "grid_auto_columns": null,
            "grid_auto_flow": null,
            "grid_auto_rows": null,
            "grid_column": null,
            "grid_gap": null,
            "grid_row": null,
            "grid_template_areas": null,
            "grid_template_columns": null,
            "grid_template_rows": null,
            "height": null,
            "justify_content": null,
            "justify_items": null,
            "left": null,
            "margin": null,
            "max_height": null,
            "max_width": null,
            "min_height": null,
            "min_width": null,
            "object_fit": null,
            "object_position": null,
            "order": null,
            "overflow": null,
            "overflow_x": null,
            "overflow_y": null,
            "padding": null,
            "right": null,
            "top": null,
            "visibility": null,
            "width": null
          }
        },
        "7c5770efbf1a4c62a773281d68b28b54": {
          "model_module": "@jupyter-widgets/base",
          "model_name": "LayoutModel",
          "model_module_version": "1.2.0",
          "state": {
            "_model_module": "@jupyter-widgets/base",
            "_model_module_version": "1.2.0",
            "_model_name": "LayoutModel",
            "_view_count": null,
            "_view_module": "@jupyter-widgets/base",
            "_view_module_version": "1.2.0",
            "_view_name": "LayoutView",
            "align_content": null,
            "align_items": null,
            "align_self": null,
            "border": null,
            "bottom": null,
            "display": null,
            "flex": null,
            "flex_flow": null,
            "grid_area": null,
            "grid_auto_columns": null,
            "grid_auto_flow": null,
            "grid_auto_rows": null,
            "grid_column": null,
            "grid_gap": null,
            "grid_row": null,
            "grid_template_areas": null,
            "grid_template_columns": null,
            "grid_template_rows": null,
            "height": null,
            "justify_content": null,
            "justify_items": null,
            "left": null,
            "margin": null,
            "max_height": null,
            "max_width": null,
            "min_height": null,
            "min_width": null,
            "object_fit": null,
            "object_position": null,
            "order": null,
            "overflow": null,
            "overflow_x": null,
            "overflow_y": null,
            "padding": null,
            "right": null,
            "top": null,
            "visibility": null,
            "width": null
          }
        },
        "81bc8f7aa2574d468dd40579367e6dde": {
          "model_module": "@jupyter-widgets/controls",
          "model_name": "DescriptionStyleModel",
          "model_module_version": "1.5.0",
          "state": {
            "_model_module": "@jupyter-widgets/controls",
            "_model_module_version": "1.5.0",
            "_model_name": "DescriptionStyleModel",
            "_view_count": null,
            "_view_module": "@jupyter-widgets/base",
            "_view_module_version": "1.2.0",
            "_view_name": "StyleView",
            "description_width": ""
          }
        },
        "46099252463c4f2b906f275051b65de9": {
          "model_module": "@jupyter-widgets/base",
          "model_name": "LayoutModel",
          "model_module_version": "1.2.0",
          "state": {
            "_model_module": "@jupyter-widgets/base",
            "_model_module_version": "1.2.0",
            "_model_name": "LayoutModel",
            "_view_count": null,
            "_view_module": "@jupyter-widgets/base",
            "_view_module_version": "1.2.0",
            "_view_name": "LayoutView",
            "align_content": null,
            "align_items": null,
            "align_self": null,
            "border": null,
            "bottom": null,
            "display": null,
            "flex": null,
            "flex_flow": null,
            "grid_area": null,
            "grid_auto_columns": null,
            "grid_auto_flow": null,
            "grid_auto_rows": null,
            "grid_column": null,
            "grid_gap": null,
            "grid_row": null,
            "grid_template_areas": null,
            "grid_template_columns": null,
            "grid_template_rows": null,
            "height": null,
            "justify_content": null,
            "justify_items": null,
            "left": null,
            "margin": null,
            "max_height": null,
            "max_width": null,
            "min_height": null,
            "min_width": null,
            "object_fit": null,
            "object_position": null,
            "order": null,
            "overflow": null,
            "overflow_x": null,
            "overflow_y": null,
            "padding": null,
            "right": null,
            "top": null,
            "visibility": null,
            "width": null
          }
        },
        "adf703052e624d6aac46d9fbe0b88a0f": {
          "model_module": "@jupyter-widgets/controls",
          "model_name": "ProgressStyleModel",
          "model_module_version": "1.5.0",
          "state": {
            "_model_module": "@jupyter-widgets/controls",
            "_model_module_version": "1.5.0",
            "_model_name": "ProgressStyleModel",
            "_view_count": null,
            "_view_module": "@jupyter-widgets/base",
            "_view_module_version": "1.2.0",
            "_view_name": "StyleView",
            "bar_color": null,
            "description_width": ""
          }
        },
        "c74f744b62cf4706bb77be15f8f01999": {
          "model_module": "@jupyter-widgets/base",
          "model_name": "LayoutModel",
          "model_module_version": "1.2.0",
          "state": {
            "_model_module": "@jupyter-widgets/base",
            "_model_module_version": "1.2.0",
            "_model_name": "LayoutModel",
            "_view_count": null,
            "_view_module": "@jupyter-widgets/base",
            "_view_module_version": "1.2.0",
            "_view_name": "LayoutView",
            "align_content": null,
            "align_items": null,
            "align_self": null,
            "border": null,
            "bottom": null,
            "display": null,
            "flex": null,
            "flex_flow": null,
            "grid_area": null,
            "grid_auto_columns": null,
            "grid_auto_flow": null,
            "grid_auto_rows": null,
            "grid_column": null,
            "grid_gap": null,
            "grid_row": null,
            "grid_template_areas": null,
            "grid_template_columns": null,
            "grid_template_rows": null,
            "height": null,
            "justify_content": null,
            "justify_items": null,
            "left": null,
            "margin": null,
            "max_height": null,
            "max_width": null,
            "min_height": null,
            "min_width": null,
            "object_fit": null,
            "object_position": null,
            "order": null,
            "overflow": null,
            "overflow_x": null,
            "overflow_y": null,
            "padding": null,
            "right": null,
            "top": null,
            "visibility": null,
            "width": null
          }
        },
        "2c9c73b6b259448784d79de88dd1f1aa": {
          "model_module": "@jupyter-widgets/controls",
          "model_name": "DescriptionStyleModel",
          "model_module_version": "1.5.0",
          "state": {
            "_model_module": "@jupyter-widgets/controls",
            "_model_module_version": "1.5.0",
            "_model_name": "DescriptionStyleModel",
            "_view_count": null,
            "_view_module": "@jupyter-widgets/base",
            "_view_module_version": "1.2.0",
            "_view_name": "StyleView",
            "description_width": ""
          }
        },
        "c0e1c7a6d30d427795f4a9968df59f2a": {
          "model_module": "@jupyter-widgets/controls",
          "model_name": "HBoxModel",
          "model_module_version": "1.5.0",
          "state": {
            "_dom_classes": [],
            "_model_module": "@jupyter-widgets/controls",
            "_model_module_version": "1.5.0",
            "_model_name": "HBoxModel",
            "_view_count": null,
            "_view_module": "@jupyter-widgets/controls",
            "_view_module_version": "1.5.0",
            "_view_name": "HBoxView",
            "box_style": "",
            "children": [
              "IPY_MODEL_d050cde76cb645b2a378a4c70504d2a3",
              "IPY_MODEL_ab259b3e62d24992b5ce64d259e80c25",
              "IPY_MODEL_cc3f68e15542461085e75a6d6525b7f0"
            ],
            "layout": "IPY_MODEL_2cba1f1f38524e3ca302c571df93907f"
          }
        },
        "d050cde76cb645b2a378a4c70504d2a3": {
          "model_module": "@jupyter-widgets/controls",
          "model_name": "HTMLModel",
          "model_module_version": "1.5.0",
          "state": {
            "_dom_classes": [],
            "_model_module": "@jupyter-widgets/controls",
            "_model_module_version": "1.5.0",
            "_model_name": "HTMLModel",
            "_view_count": null,
            "_view_module": "@jupyter-widgets/controls",
            "_view_module_version": "1.5.0",
            "_view_name": "HTMLView",
            "description": "",
            "description_tooltip": null,
            "layout": "IPY_MODEL_7fc586b9539c4fa6aa869b28ffdfdd47",
            "placeholder": "​",
            "style": "IPY_MODEL_ba113b716c7e43b99b41a0aac8979b4e",
            "value": "special_tokens_map.json: 100%"
          }
        },
        "ab259b3e62d24992b5ce64d259e80c25": {
          "model_module": "@jupyter-widgets/controls",
          "model_name": "FloatProgressModel",
          "model_module_version": "1.5.0",
          "state": {
            "_dom_classes": [],
            "_model_module": "@jupyter-widgets/controls",
            "_model_module_version": "1.5.0",
            "_model_name": "FloatProgressModel",
            "_view_count": null,
            "_view_module": "@jupyter-widgets/controls",
            "_view_module_version": "1.5.0",
            "_view_name": "ProgressView",
            "bar_style": "success",
            "description": "",
            "description_tooltip": null,
            "layout": "IPY_MODEL_4d4031831e854f3b86666f8848071796",
            "max": 65,
            "min": 0,
            "orientation": "horizontal",
            "style": "IPY_MODEL_ec5ae89afe2b48a58f50dcb79ab42a8e",
            "value": 65
          }
        },
        "cc3f68e15542461085e75a6d6525b7f0": {
          "model_module": "@jupyter-widgets/controls",
          "model_name": "HTMLModel",
          "model_module_version": "1.5.0",
          "state": {
            "_dom_classes": [],
            "_model_module": "@jupyter-widgets/controls",
            "_model_module_version": "1.5.0",
            "_model_name": "HTMLModel",
            "_view_count": null,
            "_view_module": "@jupyter-widgets/controls",
            "_view_module_version": "1.5.0",
            "_view_name": "HTMLView",
            "description": "",
            "description_tooltip": null,
            "layout": "IPY_MODEL_04ba6e6ba4614ab188575b944f9be936",
            "placeholder": "​",
            "style": "IPY_MODEL_a171f13c51db4f22afd2bb7c38ca9cc9",
            "value": " 65.0/65.0 [00:00&lt;00:00, 1.53kB/s]"
          }
        },
        "2cba1f1f38524e3ca302c571df93907f": {
          "model_module": "@jupyter-widgets/base",
          "model_name": "LayoutModel",
          "model_module_version": "1.2.0",
          "state": {
            "_model_module": "@jupyter-widgets/base",
            "_model_module_version": "1.2.0",
            "_model_name": "LayoutModel",
            "_view_count": null,
            "_view_module": "@jupyter-widgets/base",
            "_view_module_version": "1.2.0",
            "_view_name": "LayoutView",
            "align_content": null,
            "align_items": null,
            "align_self": null,
            "border": null,
            "bottom": null,
            "display": null,
            "flex": null,
            "flex_flow": null,
            "grid_area": null,
            "grid_auto_columns": null,
            "grid_auto_flow": null,
            "grid_auto_rows": null,
            "grid_column": null,
            "grid_gap": null,
            "grid_row": null,
            "grid_template_areas": null,
            "grid_template_columns": null,
            "grid_template_rows": null,
            "height": null,
            "justify_content": null,
            "justify_items": null,
            "left": null,
            "margin": null,
            "max_height": null,
            "max_width": null,
            "min_height": null,
            "min_width": null,
            "object_fit": null,
            "object_position": null,
            "order": null,
            "overflow": null,
            "overflow_x": null,
            "overflow_y": null,
            "padding": null,
            "right": null,
            "top": null,
            "visibility": null,
            "width": null
          }
        },
        "7fc586b9539c4fa6aa869b28ffdfdd47": {
          "model_module": "@jupyter-widgets/base",
          "model_name": "LayoutModel",
          "model_module_version": "1.2.0",
          "state": {
            "_model_module": "@jupyter-widgets/base",
            "_model_module_version": "1.2.0",
            "_model_name": "LayoutModel",
            "_view_count": null,
            "_view_module": "@jupyter-widgets/base",
            "_view_module_version": "1.2.0",
            "_view_name": "LayoutView",
            "align_content": null,
            "align_items": null,
            "align_self": null,
            "border": null,
            "bottom": null,
            "display": null,
            "flex": null,
            "flex_flow": null,
            "grid_area": null,
            "grid_auto_columns": null,
            "grid_auto_flow": null,
            "grid_auto_rows": null,
            "grid_column": null,
            "grid_gap": null,
            "grid_row": null,
            "grid_template_areas": null,
            "grid_template_columns": null,
            "grid_template_rows": null,
            "height": null,
            "justify_content": null,
            "justify_items": null,
            "left": null,
            "margin": null,
            "max_height": null,
            "max_width": null,
            "min_height": null,
            "min_width": null,
            "object_fit": null,
            "object_position": null,
            "order": null,
            "overflow": null,
            "overflow_x": null,
            "overflow_y": null,
            "padding": null,
            "right": null,
            "top": null,
            "visibility": null,
            "width": null
          }
        },
        "ba113b716c7e43b99b41a0aac8979b4e": {
          "model_module": "@jupyter-widgets/controls",
          "model_name": "DescriptionStyleModel",
          "model_module_version": "1.5.0",
          "state": {
            "_model_module": "@jupyter-widgets/controls",
            "_model_module_version": "1.5.0",
            "_model_name": "DescriptionStyleModel",
            "_view_count": null,
            "_view_module": "@jupyter-widgets/base",
            "_view_module_version": "1.2.0",
            "_view_name": "StyleView",
            "description_width": ""
          }
        },
        "4d4031831e854f3b86666f8848071796": {
          "model_module": "@jupyter-widgets/base",
          "model_name": "LayoutModel",
          "model_module_version": "1.2.0",
          "state": {
            "_model_module": "@jupyter-widgets/base",
            "_model_module_version": "1.2.0",
            "_model_name": "LayoutModel",
            "_view_count": null,
            "_view_module": "@jupyter-widgets/base",
            "_view_module_version": "1.2.0",
            "_view_name": "LayoutView",
            "align_content": null,
            "align_items": null,
            "align_self": null,
            "border": null,
            "bottom": null,
            "display": null,
            "flex": null,
            "flex_flow": null,
            "grid_area": null,
            "grid_auto_columns": null,
            "grid_auto_flow": null,
            "grid_auto_rows": null,
            "grid_column": null,
            "grid_gap": null,
            "grid_row": null,
            "grid_template_areas": null,
            "grid_template_columns": null,
            "grid_template_rows": null,
            "height": null,
            "justify_content": null,
            "justify_items": null,
            "left": null,
            "margin": null,
            "max_height": null,
            "max_width": null,
            "min_height": null,
            "min_width": null,
            "object_fit": null,
            "object_position": null,
            "order": null,
            "overflow": null,
            "overflow_x": null,
            "overflow_y": null,
            "padding": null,
            "right": null,
            "top": null,
            "visibility": null,
            "width": null
          }
        },
        "ec5ae89afe2b48a58f50dcb79ab42a8e": {
          "model_module": "@jupyter-widgets/controls",
          "model_name": "ProgressStyleModel",
          "model_module_version": "1.5.0",
          "state": {
            "_model_module": "@jupyter-widgets/controls",
            "_model_module_version": "1.5.0",
            "_model_name": "ProgressStyleModel",
            "_view_count": null,
            "_view_module": "@jupyter-widgets/base",
            "_view_module_version": "1.2.0",
            "_view_name": "StyleView",
            "bar_color": null,
            "description_width": ""
          }
        },
        "04ba6e6ba4614ab188575b944f9be936": {
          "model_module": "@jupyter-widgets/base",
          "model_name": "LayoutModel",
          "model_module_version": "1.2.0",
          "state": {
            "_model_module": "@jupyter-widgets/base",
            "_model_module_version": "1.2.0",
            "_model_name": "LayoutModel",
            "_view_count": null,
            "_view_module": "@jupyter-widgets/base",
            "_view_module_version": "1.2.0",
            "_view_name": "LayoutView",
            "align_content": null,
            "align_items": null,
            "align_self": null,
            "border": null,
            "bottom": null,
            "display": null,
            "flex": null,
            "flex_flow": null,
            "grid_area": null,
            "grid_auto_columns": null,
            "grid_auto_flow": null,
            "grid_auto_rows": null,
            "grid_column": null,
            "grid_gap": null,
            "grid_row": null,
            "grid_template_areas": null,
            "grid_template_columns": null,
            "grid_template_rows": null,
            "height": null,
            "justify_content": null,
            "justify_items": null,
            "left": null,
            "margin": null,
            "max_height": null,
            "max_width": null,
            "min_height": null,
            "min_width": null,
            "object_fit": null,
            "object_position": null,
            "order": null,
            "overflow": null,
            "overflow_x": null,
            "overflow_y": null,
            "padding": null,
            "right": null,
            "top": null,
            "visibility": null,
            "width": null
          }
        },
        "a171f13c51db4f22afd2bb7c38ca9cc9": {
          "model_module": "@jupyter-widgets/controls",
          "model_name": "DescriptionStyleModel",
          "model_module_version": "1.5.0",
          "state": {
            "_model_module": "@jupyter-widgets/controls",
            "_model_module_version": "1.5.0",
            "_model_name": "DescriptionStyleModel",
            "_view_count": null,
            "_view_module": "@jupyter-widgets/base",
            "_view_module_version": "1.2.0",
            "_view_name": "StyleView",
            "description_width": ""
          }
        },
        "cd8d8dd454db4c26884ae2dca76f6e42": {
          "model_module": "@jupyter-widgets/controls",
          "model_name": "HBoxModel",
          "model_module_version": "1.5.0",
          "state": {
            "_dom_classes": [],
            "_model_module": "@jupyter-widgets/controls",
            "_model_module_version": "1.5.0",
            "_model_name": "HBoxModel",
            "_view_count": null,
            "_view_module": "@jupyter-widgets/controls",
            "_view_module_version": "1.5.0",
            "_view_name": "HBoxView",
            "box_style": "",
            "children": [
              "IPY_MODEL_0996deac1f354fc79d18ad91d388ab36",
              "IPY_MODEL_d3aa573aef894cddbfd89df59ed313f0",
              "IPY_MODEL_90bf3bbe374343e487a0f5d2068d4799"
            ],
            "layout": "IPY_MODEL_56719ba05aa94962820d811a4c0d4991"
          }
        },
        "0996deac1f354fc79d18ad91d388ab36": {
          "model_module": "@jupyter-widgets/controls",
          "model_name": "HTMLModel",
          "model_module_version": "1.5.0",
          "state": {
            "_dom_classes": [],
            "_model_module": "@jupyter-widgets/controls",
            "_model_module_version": "1.5.0",
            "_model_name": "HTMLModel",
            "_view_count": null,
            "_view_module": "@jupyter-widgets/controls",
            "_view_module_version": "1.5.0",
            "_view_name": "HTMLView",
            "description": "",
            "description_tooltip": null,
            "layout": "IPY_MODEL_a75f6715ef26407aa64ace64572a4a28",
            "placeholder": "​",
            "style": "IPY_MODEL_ca5a4d5c59444cba941ba88bd5be249e",
            "value": "config.json: 100%"
          }
        },
        "d3aa573aef894cddbfd89df59ed313f0": {
          "model_module": "@jupyter-widgets/controls",
          "model_name": "FloatProgressModel",
          "model_module_version": "1.5.0",
          "state": {
            "_dom_classes": [],
            "_model_module": "@jupyter-widgets/controls",
            "_model_module_version": "1.5.0",
            "_model_name": "FloatProgressModel",
            "_view_count": null,
            "_view_module": "@jupyter-widgets/controls",
            "_view_module_version": "1.5.0",
            "_view_name": "ProgressView",
            "bar_style": "success",
            "description": "",
            "description_tooltip": null,
            "layout": "IPY_MODEL_ee8fdc3c52204b879ca97a147615e034",
            "max": 658,
            "min": 0,
            "orientation": "horizontal",
            "style": "IPY_MODEL_1ccfe54dbe294596a2296799af405dfe",
            "value": 658
          }
        },
        "90bf3bbe374343e487a0f5d2068d4799": {
          "model_module": "@jupyter-widgets/controls",
          "model_name": "HTMLModel",
          "model_module_version": "1.5.0",
          "state": {
            "_dom_classes": [],
            "_model_module": "@jupyter-widgets/controls",
            "_model_module_version": "1.5.0",
            "_model_name": "HTMLModel",
            "_view_count": null,
            "_view_module": "@jupyter-widgets/controls",
            "_view_module_version": "1.5.0",
            "_view_name": "HTMLView",
            "description": "",
            "description_tooltip": null,
            "layout": "IPY_MODEL_7d62be834a654b9d815ab0d74610ace7",
            "placeholder": "​",
            "style": "IPY_MODEL_561d08c450bb4753a80eb07257a38554",
            "value": " 658/658 [00:00&lt;00:00, 15.9kB/s]"
          }
        },
        "56719ba05aa94962820d811a4c0d4991": {
          "model_module": "@jupyter-widgets/base",
          "model_name": "LayoutModel",
          "model_module_version": "1.2.0",
          "state": {
            "_model_module": "@jupyter-widgets/base",
            "_model_module_version": "1.2.0",
            "_model_name": "LayoutModel",
            "_view_count": null,
            "_view_module": "@jupyter-widgets/base",
            "_view_module_version": "1.2.0",
            "_view_name": "LayoutView",
            "align_content": null,
            "align_items": null,
            "align_self": null,
            "border": null,
            "bottom": null,
            "display": null,
            "flex": null,
            "flex_flow": null,
            "grid_area": null,
            "grid_auto_columns": null,
            "grid_auto_flow": null,
            "grid_auto_rows": null,
            "grid_column": null,
            "grid_gap": null,
            "grid_row": null,
            "grid_template_areas": null,
            "grid_template_columns": null,
            "grid_template_rows": null,
            "height": null,
            "justify_content": null,
            "justify_items": null,
            "left": null,
            "margin": null,
            "max_height": null,
            "max_width": null,
            "min_height": null,
            "min_width": null,
            "object_fit": null,
            "object_position": null,
            "order": null,
            "overflow": null,
            "overflow_x": null,
            "overflow_y": null,
            "padding": null,
            "right": null,
            "top": null,
            "visibility": null,
            "width": null
          }
        },
        "a75f6715ef26407aa64ace64572a4a28": {
          "model_module": "@jupyter-widgets/base",
          "model_name": "LayoutModel",
          "model_module_version": "1.2.0",
          "state": {
            "_model_module": "@jupyter-widgets/base",
            "_model_module_version": "1.2.0",
            "_model_name": "LayoutModel",
            "_view_count": null,
            "_view_module": "@jupyter-widgets/base",
            "_view_module_version": "1.2.0",
            "_view_name": "LayoutView",
            "align_content": null,
            "align_items": null,
            "align_self": null,
            "border": null,
            "bottom": null,
            "display": null,
            "flex": null,
            "flex_flow": null,
            "grid_area": null,
            "grid_auto_columns": null,
            "grid_auto_flow": null,
            "grid_auto_rows": null,
            "grid_column": null,
            "grid_gap": null,
            "grid_row": null,
            "grid_template_areas": null,
            "grid_template_columns": null,
            "grid_template_rows": null,
            "height": null,
            "justify_content": null,
            "justify_items": null,
            "left": null,
            "margin": null,
            "max_height": null,
            "max_width": null,
            "min_height": null,
            "min_width": null,
            "object_fit": null,
            "object_position": null,
            "order": null,
            "overflow": null,
            "overflow_x": null,
            "overflow_y": null,
            "padding": null,
            "right": null,
            "top": null,
            "visibility": null,
            "width": null
          }
        },
        "ca5a4d5c59444cba941ba88bd5be249e": {
          "model_module": "@jupyter-widgets/controls",
          "model_name": "DescriptionStyleModel",
          "model_module_version": "1.5.0",
          "state": {
            "_model_module": "@jupyter-widgets/controls",
            "_model_module_version": "1.5.0",
            "_model_name": "DescriptionStyleModel",
            "_view_count": null,
            "_view_module": "@jupyter-widgets/base",
            "_view_module_version": "1.2.0",
            "_view_name": "StyleView",
            "description_width": ""
          }
        },
        "ee8fdc3c52204b879ca97a147615e034": {
          "model_module": "@jupyter-widgets/base",
          "model_name": "LayoutModel",
          "model_module_version": "1.2.0",
          "state": {
            "_model_module": "@jupyter-widgets/base",
            "_model_module_version": "1.2.0",
            "_model_name": "LayoutModel",
            "_view_count": null,
            "_view_module": "@jupyter-widgets/base",
            "_view_module_version": "1.2.0",
            "_view_name": "LayoutView",
            "align_content": null,
            "align_items": null,
            "align_self": null,
            "border": null,
            "bottom": null,
            "display": null,
            "flex": null,
            "flex_flow": null,
            "grid_area": null,
            "grid_auto_columns": null,
            "grid_auto_flow": null,
            "grid_auto_rows": null,
            "grid_column": null,
            "grid_gap": null,
            "grid_row": null,
            "grid_template_areas": null,
            "grid_template_columns": null,
            "grid_template_rows": null,
            "height": null,
            "justify_content": null,
            "justify_items": null,
            "left": null,
            "margin": null,
            "max_height": null,
            "max_width": null,
            "min_height": null,
            "min_width": null,
            "object_fit": null,
            "object_position": null,
            "order": null,
            "overflow": null,
            "overflow_x": null,
            "overflow_y": null,
            "padding": null,
            "right": null,
            "top": null,
            "visibility": null,
            "width": null
          }
        },
        "1ccfe54dbe294596a2296799af405dfe": {
          "model_module": "@jupyter-widgets/controls",
          "model_name": "ProgressStyleModel",
          "model_module_version": "1.5.0",
          "state": {
            "_model_module": "@jupyter-widgets/controls",
            "_model_module_version": "1.5.0",
            "_model_name": "ProgressStyleModel",
            "_view_count": null,
            "_view_module": "@jupyter-widgets/base",
            "_view_module_version": "1.2.0",
            "_view_name": "StyleView",
            "bar_color": null,
            "description_width": ""
          }
        },
        "7d62be834a654b9d815ab0d74610ace7": {
          "model_module": "@jupyter-widgets/base",
          "model_name": "LayoutModel",
          "model_module_version": "1.2.0",
          "state": {
            "_model_module": "@jupyter-widgets/base",
            "_model_module_version": "1.2.0",
            "_model_name": "LayoutModel",
            "_view_count": null,
            "_view_module": "@jupyter-widgets/base",
            "_view_module_version": "1.2.0",
            "_view_name": "LayoutView",
            "align_content": null,
            "align_items": null,
            "align_self": null,
            "border": null,
            "bottom": null,
            "display": null,
            "flex": null,
            "flex_flow": null,
            "grid_area": null,
            "grid_auto_columns": null,
            "grid_auto_flow": null,
            "grid_auto_rows": null,
            "grid_column": null,
            "grid_gap": null,
            "grid_row": null,
            "grid_template_areas": null,
            "grid_template_columns": null,
            "grid_template_rows": null,
            "height": null,
            "justify_content": null,
            "justify_items": null,
            "left": null,
            "margin": null,
            "max_height": null,
            "max_width": null,
            "min_height": null,
            "min_width": null,
            "object_fit": null,
            "object_position": null,
            "order": null,
            "overflow": null,
            "overflow_x": null,
            "overflow_y": null,
            "padding": null,
            "right": null,
            "top": null,
            "visibility": null,
            "width": null
          }
        },
        "561d08c450bb4753a80eb07257a38554": {
          "model_module": "@jupyter-widgets/controls",
          "model_name": "DescriptionStyleModel",
          "model_module_version": "1.5.0",
          "state": {
            "_model_module": "@jupyter-widgets/controls",
            "_model_module_version": "1.5.0",
            "_model_name": "DescriptionStyleModel",
            "_view_count": null,
            "_view_module": "@jupyter-widgets/base",
            "_view_module_version": "1.2.0",
            "_view_name": "StyleView",
            "description_width": ""
          }
        },
        "7289359d73b84ca4ae394cd76a02900c": {
          "model_module": "@jupyter-widgets/controls",
          "model_name": "HBoxModel",
          "model_module_version": "1.5.0",
          "state": {
            "_dom_classes": [],
            "_model_module": "@jupyter-widgets/controls",
            "_model_module_version": "1.5.0",
            "_model_name": "HBoxModel",
            "_view_count": null,
            "_view_module": "@jupyter-widgets/controls",
            "_view_module_version": "1.5.0",
            "_view_name": "HBoxView",
            "box_style": "",
            "children": [
              "IPY_MODEL_d66198ad24a2461a939cb32168d15f32",
              "IPY_MODEL_1d9402904ffb43ddbd22f0bb57fae3ed",
              "IPY_MODEL_6927568841094b99b99303d4644840b9"
            ],
            "layout": "IPY_MODEL_def1dfad68ef4413a993e28b1316bfd9"
          }
        },
        "d66198ad24a2461a939cb32168d15f32": {
          "model_module": "@jupyter-widgets/controls",
          "model_name": "HTMLModel",
          "model_module_version": "1.5.0",
          "state": {
            "_dom_classes": [],
            "_model_module": "@jupyter-widgets/controls",
            "_model_module_version": "1.5.0",
            "_model_name": "HTMLModel",
            "_view_count": null,
            "_view_module": "@jupyter-widgets/controls",
            "_view_module_version": "1.5.0",
            "_view_name": "HTMLView",
            "description": "",
            "description_tooltip": null,
            "layout": "IPY_MODEL_6c03bede54454699b5f24d3babb83330",
            "placeholder": "​",
            "style": "IPY_MODEL_5d263a85f17946fb91fdc6b08909a3bc",
            "value": "pytorch_model.bin: 100%"
          }
        },
        "1d9402904ffb43ddbd22f0bb57fae3ed": {
          "model_module": "@jupyter-widgets/controls",
          "model_name": "FloatProgressModel",
          "model_module_version": "1.5.0",
          "state": {
            "_dom_classes": [],
            "_model_module": "@jupyter-widgets/controls",
            "_model_module_version": "1.5.0",
            "_model_name": "FloatProgressModel",
            "_view_count": null,
            "_view_module": "@jupyter-widgets/controls",
            "_view_module_version": "1.5.0",
            "_view_name": "ProgressView",
            "bar_style": "success",
            "description": "",
            "description_tooltip": null,
            "layout": "IPY_MODEL_e9084c45809f49518283b1391f12ee0b",
            "max": 1100541913,
            "min": 0,
            "orientation": "horizontal",
            "style": "IPY_MODEL_0568b45456634fdc8653cf370b70136b",
            "value": 1100541913
          }
        },
        "6927568841094b99b99303d4644840b9": {
          "model_module": "@jupyter-widgets/controls",
          "model_name": "HTMLModel",
          "model_module_version": "1.5.0",
          "state": {
            "_dom_classes": [],
            "_model_module": "@jupyter-widgets/controls",
            "_model_module_version": "1.5.0",
            "_model_name": "HTMLModel",
            "_view_count": null,
            "_view_module": "@jupyter-widgets/controls",
            "_view_module_version": "1.5.0",
            "_view_name": "HTMLView",
            "description": "",
            "description_tooltip": null,
            "layout": "IPY_MODEL_92667233bdb04bdd9ae4a357a7f7f50e",
            "placeholder": "​",
            "style": "IPY_MODEL_073f7b0b503b4ec49dcd5d08f70fc375",
            "value": " 1.10G/1.10G [00:10&lt;00:00, 81.2MB/s]"
          }
        },
        "def1dfad68ef4413a993e28b1316bfd9": {
          "model_module": "@jupyter-widgets/base",
          "model_name": "LayoutModel",
          "model_module_version": "1.2.0",
          "state": {
            "_model_module": "@jupyter-widgets/base",
            "_model_module_version": "1.2.0",
            "_model_name": "LayoutModel",
            "_view_count": null,
            "_view_module": "@jupyter-widgets/base",
            "_view_module_version": "1.2.0",
            "_view_name": "LayoutView",
            "align_content": null,
            "align_items": null,
            "align_self": null,
            "border": null,
            "bottom": null,
            "display": null,
            "flex": null,
            "flex_flow": null,
            "grid_area": null,
            "grid_auto_columns": null,
            "grid_auto_flow": null,
            "grid_auto_rows": null,
            "grid_column": null,
            "grid_gap": null,
            "grid_row": null,
            "grid_template_areas": null,
            "grid_template_columns": null,
            "grid_template_rows": null,
            "height": null,
            "justify_content": null,
            "justify_items": null,
            "left": null,
            "margin": null,
            "max_height": null,
            "max_width": null,
            "min_height": null,
            "min_width": null,
            "object_fit": null,
            "object_position": null,
            "order": null,
            "overflow": null,
            "overflow_x": null,
            "overflow_y": null,
            "padding": null,
            "right": null,
            "top": null,
            "visibility": null,
            "width": null
          }
        },
        "6c03bede54454699b5f24d3babb83330": {
          "model_module": "@jupyter-widgets/base",
          "model_name": "LayoutModel",
          "model_module_version": "1.2.0",
          "state": {
            "_model_module": "@jupyter-widgets/base",
            "_model_module_version": "1.2.0",
            "_model_name": "LayoutModel",
            "_view_count": null,
            "_view_module": "@jupyter-widgets/base",
            "_view_module_version": "1.2.0",
            "_view_name": "LayoutView",
            "align_content": null,
            "align_items": null,
            "align_self": null,
            "border": null,
            "bottom": null,
            "display": null,
            "flex": null,
            "flex_flow": null,
            "grid_area": null,
            "grid_auto_columns": null,
            "grid_auto_flow": null,
            "grid_auto_rows": null,
            "grid_column": null,
            "grid_gap": null,
            "grid_row": null,
            "grid_template_areas": null,
            "grid_template_columns": null,
            "grid_template_rows": null,
            "height": null,
            "justify_content": null,
            "justify_items": null,
            "left": null,
            "margin": null,
            "max_height": null,
            "max_width": null,
            "min_height": null,
            "min_width": null,
            "object_fit": null,
            "object_position": null,
            "order": null,
            "overflow": null,
            "overflow_x": null,
            "overflow_y": null,
            "padding": null,
            "right": null,
            "top": null,
            "visibility": null,
            "width": null
          }
        },
        "5d263a85f17946fb91fdc6b08909a3bc": {
          "model_module": "@jupyter-widgets/controls",
          "model_name": "DescriptionStyleModel",
          "model_module_version": "1.5.0",
          "state": {
            "_model_module": "@jupyter-widgets/controls",
            "_model_module_version": "1.5.0",
            "_model_name": "DescriptionStyleModel",
            "_view_count": null,
            "_view_module": "@jupyter-widgets/base",
            "_view_module_version": "1.2.0",
            "_view_name": "StyleView",
            "description_width": ""
          }
        },
        "e9084c45809f49518283b1391f12ee0b": {
          "model_module": "@jupyter-widgets/base",
          "model_name": "LayoutModel",
          "model_module_version": "1.2.0",
          "state": {
            "_model_module": "@jupyter-widgets/base",
            "_model_module_version": "1.2.0",
            "_model_name": "LayoutModel",
            "_view_count": null,
            "_view_module": "@jupyter-widgets/base",
            "_view_module_version": "1.2.0",
            "_view_name": "LayoutView",
            "align_content": null,
            "align_items": null,
            "align_self": null,
            "border": null,
            "bottom": null,
            "display": null,
            "flex": null,
            "flex_flow": null,
            "grid_area": null,
            "grid_auto_columns": null,
            "grid_auto_flow": null,
            "grid_auto_rows": null,
            "grid_column": null,
            "grid_gap": null,
            "grid_row": null,
            "grid_template_areas": null,
            "grid_template_columns": null,
            "grid_template_rows": null,
            "height": null,
            "justify_content": null,
            "justify_items": null,
            "left": null,
            "margin": null,
            "max_height": null,
            "max_width": null,
            "min_height": null,
            "min_width": null,
            "object_fit": null,
            "object_position": null,
            "order": null,
            "overflow": null,
            "overflow_x": null,
            "overflow_y": null,
            "padding": null,
            "right": null,
            "top": null,
            "visibility": null,
            "width": null
          }
        },
        "0568b45456634fdc8653cf370b70136b": {
          "model_module": "@jupyter-widgets/controls",
          "model_name": "ProgressStyleModel",
          "model_module_version": "1.5.0",
          "state": {
            "_model_module": "@jupyter-widgets/controls",
            "_model_module_version": "1.5.0",
            "_model_name": "ProgressStyleModel",
            "_view_count": null,
            "_view_module": "@jupyter-widgets/base",
            "_view_module_version": "1.2.0",
            "_view_name": "StyleView",
            "bar_color": null,
            "description_width": ""
          }
        },
        "92667233bdb04bdd9ae4a357a7f7f50e": {
          "model_module": "@jupyter-widgets/base",
          "model_name": "LayoutModel",
          "model_module_version": "1.2.0",
          "state": {
            "_model_module": "@jupyter-widgets/base",
            "_model_module_version": "1.2.0",
            "_model_name": "LayoutModel",
            "_view_count": null,
            "_view_module": "@jupyter-widgets/base",
            "_view_module_version": "1.2.0",
            "_view_name": "LayoutView",
            "align_content": null,
            "align_items": null,
            "align_self": null,
            "border": null,
            "bottom": null,
            "display": null,
            "flex": null,
            "flex_flow": null,
            "grid_area": null,
            "grid_auto_columns": null,
            "grid_auto_flow": null,
            "grid_auto_rows": null,
            "grid_column": null,
            "grid_gap": null,
            "grid_row": null,
            "grid_template_areas": null,
            "grid_template_columns": null,
            "grid_template_rows": null,
            "height": null,
            "justify_content": null,
            "justify_items": null,
            "left": null,
            "margin": null,
            "max_height": null,
            "max_width": null,
            "min_height": null,
            "min_width": null,
            "object_fit": null,
            "object_position": null,
            "order": null,
            "overflow": null,
            "overflow_x": null,
            "overflow_y": null,
            "padding": null,
            "right": null,
            "top": null,
            "visibility": null,
            "width": null
          }
        },
        "073f7b0b503b4ec49dcd5d08f70fc375": {
          "model_module": "@jupyter-widgets/controls",
          "model_name": "DescriptionStyleModel",
          "model_module_version": "1.5.0",
          "state": {
            "_model_module": "@jupyter-widgets/controls",
            "_model_module_version": "1.5.0",
            "_model_name": "DescriptionStyleModel",
            "_view_count": null,
            "_view_module": "@jupyter-widgets/base",
            "_view_module_version": "1.2.0",
            "_view_name": "StyleView",
            "description_width": ""
          }
        }
      }
    }
  },
  "nbformat": 4,
  "nbformat_minor": 0
}