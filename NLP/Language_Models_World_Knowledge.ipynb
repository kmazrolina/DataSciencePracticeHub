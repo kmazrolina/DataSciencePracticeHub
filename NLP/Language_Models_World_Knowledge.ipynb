{
  "nbformat": 4,
  "nbformat_minor": 0,
  "metadata": {
    "colab": {
      "provenance": [],
      "gpuType": "T4"
    },
    "kernelspec": {
      "name": "python3",
      "display_name": "Python 3"
    },
    "language_info": {
      "name": "python"
    },
    "accelerator": "GPU"
  },
  "cells": [
    {
      "cell_type": "code",
      "source": [
        "!pip install sacremoses"
      ],
      "metadata": {
        "colab": {
          "base_uri": "https://localhost:8080/"
        },
        "id": "Fb5CQula7vAE",
        "outputId": "0b196d8b-b262-44ad-eb9a-8ca374c8d855"
      },
      "execution_count": 2,
      "outputs": [
        {
          "output_type": "stream",
          "name": "stdout",
          "text": [
            "Requirement already satisfied: sacremoses in /usr/local/lib/python3.10/dist-packages (0.1.1)\n",
            "Requirement already satisfied: regex in /usr/local/lib/python3.10/dist-packages (from sacremoses) (2024.9.11)\n",
            "Requirement already satisfied: click in /usr/local/lib/python3.10/dist-packages (from sacremoses) (8.1.7)\n",
            "Requirement already satisfied: joblib in /usr/local/lib/python3.10/dist-packages (from sacremoses) (1.4.2)\n",
            "Requirement already satisfied: tqdm in /usr/local/lib/python3.10/dist-packages (from sacremoses) (4.66.6)\n"
          ]
        }
      ]
    },
    {
      "cell_type": "markdown",
      "source": [
        "## Downloading three Polish models from the Huggingface repository.  papuGaPT2, Salamandra and Polka."
      ],
      "metadata": {
        "id": "R2_2ktsZ7p5c"
      }
    },
    {
      "cell_type": "markdown",
      "source": [
        "Download papuGaPT2"
      ],
      "metadata": {
        "id": "Z28UrvJgXIln"
      }
    },
    {
      "cell_type": "code",
      "execution_count": 3,
      "metadata": {
        "colab": {
          "base_uri": "https://localhost:8080/"
        },
        "id": "J5rIv7Jm7har",
        "outputId": "8c0b5231-f892-4b98-c347-5d975272a0e8"
      },
      "outputs": [
        {
          "output_type": "stream",
          "name": "stderr",
          "text": [
            "Setting `pad_token_id` to `eos_token_id`:None for open-end generation.\n"
          ]
        },
        {
          "output_type": "execute_result",
          "data": {
            "text/plain": [
              "[{'generated_text': 'Największym polskim poetą był poetą był Mieczysław Grydzewski (1930 – 1993). Został za to \"wybitnie wielkim poetą\" i \"najlepszym poetą w historii III RP\".\\nBył mężem pani Wandy Zienkiewicz'}]"
            ]
          },
          "metadata": {},
          "execution_count": 3
        }
      ],
      "source": [
        "from transformers import pipeline, set_seed\n",
        "import torch\n",
        "pupuga = pipeline('text-generation', model='flax-community/papuGaPT2', device=torch.device('cuda')  )\n",
        "set_seed(42)\n",
        "pupuga('Największym polskim poetą był')\n"
      ]
    },
    {
      "cell_type": "markdown",
      "source": [
        "#### Download Salamandra\n",
        "Salamandra is a highly multilingual model pre-trained from scratch that comes in three different sizes — 2B, 7B and 40B parameters — with their respective base and instruction-tuned variants. This model card corresponds to the 2B instructed version specific for AinaHack, an event launched by Generalitat de Catalunya to create AI tools for the Catalan administration."
      ],
      "metadata": {
        "id": "CD0YtBOkXNrI"
      }
    },
    {
      "cell_type": "code",
      "source": [
        "from transformers import pipeline, set_seed\n",
        "import torch\n",
        "salamandra = pipeline('text-generation', model='BSC-LT/salamandra-2b-instruct-aina-hack', device=torch.device('cuda'))\n",
        "set_seed(42)\n",
        "salamandra('Największym polskim poetą był')"
      ],
      "metadata": {
        "colab": {
          "base_uri": "https://localhost:8080/"
        },
        "id": "hXas1P6V85AS",
        "outputId": "c7077a7a-1ccb-4fd6-ca38-5e1ef29929a3"
      },
      "execution_count": 4,
      "outputs": [
        {
          "output_type": "stream",
          "name": "stderr",
          "text": [
            "/usr/local/lib/python3.10/dist-packages/transformers/generation/utils.py:1375: UserWarning: Using the model-agnostic default `max_length` (=20) to control the generation length. We recommend setting `max_new_tokens` to control the maximum length of the generation.\n",
            "  warnings.warn(\n"
          ]
        },
        {
          "output_type": "execute_result",
          "data": {
            "text/plain": [
              "[{'generated_text': 'Największym polskim poetą był Wisława Szymborska.\\nWisława Szymborska'}]"
            ]
          },
          "metadata": {},
          "execution_count": 4
        }
      ]
    },
    {
      "cell_type": "markdown",
      "source": [
        "#### Polka-1.1B-Chat\n",
        "\n",
        "`eryk-mazus/polka-1.1b-chat` Is the first polish model trained to act as a helpful, conversational assistant that can be run locally."
      ],
      "metadata": {
        "id": "r3BGnZsfXSgG"
      }
    },
    {
      "cell_type": "code",
      "source": [
        "from transformers import pipeline, set_seed\n",
        "import torch\n",
        "\n",
        "text = 'Największym polskim poetą był'\n",
        "\n",
        "polka = pipeline(\"text-generation\", model=\"eryk-mazus/polka-1.1b-chat\", device=torch.device('cuda'))\n",
        "set_seed(42)\n",
        "polka(text)"
      ],
      "metadata": {
        "colab": {
          "base_uri": "https://localhost:8080/"
        },
        "id": "OYZN1jO3amBh",
        "outputId": "6e75f4be-429f-4591-bae9-771f7225ebac"
      },
      "execution_count": 5,
      "outputs": [
        {
          "output_type": "execute_result",
          "data": {
            "text/plain": [
              "[{'generated_text': 'Największym polskim poetą byłby William Wordsworth - Najnowsze'}]"
            ]
          },
          "metadata": {},
          "execution_count": 5
        }
      ]
    },
    {
      "cell_type": "markdown",
      "source": [
        "## Testing understanding of Polish cases\n",
        "\n",
        ">Dopełniacz (D.) – kogo? czego? \\\n",
        ">Celownik (C.) – komu? czemu? \\\n",
        ">Biernik (B.) – kogo? co? \\\n",
        ">Narzędnik (N.) – z kim? z czym? \\\n",
        ">Miejscownik (Ms.) – o kim? o czym? \\\n",
        ">Wołacz (W.) – o!\n",
        "\n",
        "\n",
        "\n",
        "\n",
        "\n",
        "\n"
      ],
      "metadata": {
        "id": "gn8wVNxobVMP"
      }
    },
    {
      "cell_type": "code",
      "source": [
        "example_cases = {\n",
        "    \"D\": [\n",
        "        \"Widziałam dzisiaj w sklepie najnowszą\",\n",
        "        \"Nie mogłam znaleźć w bibliotece starego\"\n",
        "    ],\n",
        "    \"C\": [\n",
        "        \"Nie chciałam zrobić przykrości mojemu\",\n",
        "        \"Podziękowałam serdecznie mojej\"\n",
        "    ],\n",
        "    \"B\": [\n",
        "        \"Widziałam dzisiaj w sklepie najnowszą\",\n",
        "        \"Wczoraj kupiłam do mojego salonu elegancki\"\n",
        "    ],\n",
        "    \"N\": [\n",
        "        \"Zdecydowałam że nie pójdę z\",\n",
        "        \"Spotkałam się na kawę z dawną\",\n",
        "    ],\n",
        "    \"Ms\": [\n",
        "        \"Rozmawialiśmy dzisiaj przy stole o\",\n",
        "        \"W książce opowiedziano o fascynującym\"\n",
        "    ],\n",
        "    \"W\": [\n",
        "        \"Zwróciłam się do niej - kochana\",\n",
        "        \"Krzyknęłam radośnie - mój drogi\"\n",
        "    ]\n",
        "}\n"
      ],
      "metadata": {
        "id": "_ahVbAn1f25z"
      },
      "execution_count": null,
      "outputs": []
    },
    {
      "cell_type": "code",
      "source": [
        "models = {\n",
        "    \"papuGaPT2\": pupuga,\n",
        "    \"Salamandra\": salamandra,\n",
        "    \"Polka\": polka\n",
        "}"
      ],
      "metadata": {
        "id": "YIPl-SS0-sKI"
      },
      "execution_count": 8,
      "outputs": []
    },
    {
      "cell_type": "code",
      "source": [
        "for case_pl, examples in example_cases.items():\n",
        "    print(f'========================== Testing case: {case_pl} ===========================')\n",
        "    for model_name, generate in models.items():\n",
        "        print(f'\\n\\tTesting model: {model_name}')\n",
        "        for example in examples:\n",
        "            print(f'\\t\\tPrompt: {example}')\n",
        "            print(f'\\t\\tResponse: ', generate(example))\n"
      ],
      "metadata": {
        "colab": {
          "base_uri": "https://localhost:8080/"
        },
        "id": "Prv0jLgUgu6Z",
        "outputId": "6f1cfbec-1a7f-4156-dbf8-ae36759fc7fd"
      },
      "execution_count": null,
      "outputs": [
        {
          "output_type": "stream",
          "name": "stderr",
          "text": [
            "Setting `pad_token_id` to `eos_token_id`:None for open-end generation.\n"
          ]
        },
        {
          "output_type": "stream",
          "name": "stdout",
          "text": [
            "========================== Testing case: D ===========================\n",
            "\n",
            "\tTesting model: papuGaPT2\n",
            "\t\tPrompt: Widziałam dzisiaj w sklepie najnowszą\n"
          ]
        },
        {
          "output_type": "stream",
          "name": "stderr",
          "text": [
            "Setting `pad_token_id` to `eos_token_id`:None for open-end generation.\n"
          ]
        },
        {
          "output_type": "stream",
          "name": "stdout",
          "text": [
            "\t\tResponse:  [{'generated_text': 'Widziałam dzisiaj w sklepie najnowszą kolekcje marki Badi a więc nie mogło zabraknąć sukienki z takim motywem.\\nSukienka ma piękny dekolt z wycięciem z tyłu i ozdobioną spódnicą z tyłu. Sukienka to typowy jesienny \"navy\" model. Wykonana'}]\n",
            "\t\tPrompt: Nie mogłam znaleźć w bibliotece starego\n",
            "\t\tResponse:  [{'generated_text': 'Nie mogłam znaleźć w bibliotece starego i nowego słownika ortograficznego, ale trafiłam na słownik niemiecko-polski i od tej pory język niemiecki jest mój. Obecnie piszę \"po rosyjsku\", więc trochę żałuję, że na język polski tak późno się natknęłam.\\n'}]\n",
            "\n",
            "\tTesting model: Salamandra\n",
            "\t\tPrompt: Widziałam dzisiaj w sklepie najnowszą\n"
          ]
        },
        {
          "output_type": "stream",
          "name": "stderr",
          "text": [
            "/usr/local/lib/python3.10/dist-packages/transformers/generation/utils.py:1375: UserWarning: Using the model-agnostic default `max_length` (=20) to control the generation length. We recommend setting `max_new_tokens` to control the maximum length of the generation.\n",
            "  warnings.warn(\n"
          ]
        },
        {
          "output_type": "stream",
          "name": "stdout",
          "text": [
            "\t\tResponse:  [{'generated_text': 'Widziałam dzisiaj w sklepie najnowszą kolekcję butów. Buty są bardzo wygodne i modne'}]\n",
            "\t\tPrompt: Nie mogłam znaleźć w bibliotece starego\n",
            "\t\tResponse:  [{'generated_text': 'Nie mogłam znaleźć w bibliotece starego wydania \"Księgi tysiąca i jednej nocy'}]\n",
            "\n",
            "\tTesting model: Polka\n",
            "\t\tPrompt: Widziałam dzisiaj w sklepie najnowszą\n",
            "\t\tResponse:  [{'generated_text': 'Widziałam dzisiaj w sklepie najnowszą ofertę od'}]\n",
            "\t\tPrompt: Nie mogłam znaleźć w bibliotece starego\n"
          ]
        },
        {
          "output_type": "stream",
          "name": "stderr",
          "text": [
            "Setting `pad_token_id` to `eos_token_id`:None for open-end generation.\n"
          ]
        },
        {
          "output_type": "stream",
          "name": "stdout",
          "text": [
            "\t\tResponse:  [{'generated_text': 'Nie mogłam znaleźć w bibliotece starego cytatu, którego sz'}]\n",
            "========================== Testing case: C ===========================\n",
            "\n",
            "\tTesting model: papuGaPT2\n",
            "\t\tPrompt: Nie chciałam zrobić przykrości mojemu\n"
          ]
        },
        {
          "output_type": "stream",
          "name": "stderr",
          "text": [
            "Setting `pad_token_id` to `eos_token_id`:None for open-end generation.\n"
          ]
        },
        {
          "output_type": "stream",
          "name": "stdout",
          "text": [
            "\t\tResponse:  [{'generated_text': 'Nie chciałam zrobić przykrości mojemu dwutygodniowemu synkowi, bo w naszym mieście jest chyba jedyny na wsi punkt sprzedający owoce i warzywa oraz przetwory mięsne tylko z przeznaczeniem na mrożonki, a owoce i warzywa do takiego punktu nie mają dostępu.'}]\n",
            "\t\tPrompt: Podziękowałam serdecznie mojej\n",
            "\t\tResponse:  [{'generated_text': 'Podziękowałam serdecznie mojej córce za to, że jak tylko się o wszystkim dowiedziała to szybko pobiegła do mojego pokoju, położyła głowę na moim ramieniu i położyła głowę na moim brzuchu.\\n- No… przepraszam za to, ale moja córka to'}]\n",
            "\n",
            "\tTesting model: Salamandra\n",
            "\t\tPrompt: Nie chciałam zrobić przykrości mojemu\n",
            "\t\tResponse:  [{'generated_text': 'Nie chciałam zrobić przykrości mojemu chłopakowi, ale nie wiem jak to zrobić.'}]\n",
            "\t\tPrompt: Podziękowałam serdecznie mojej\n",
            "\t\tResponse:  [{'generated_text': 'Podziękowałam serdecznie mojej mamie, która zawsze pomaga mi w wszystkim.\\nZbier'}]\n",
            "\n",
            "\tTesting model: Polka\n",
            "\t\tPrompt: Nie chciałam zrobić przykrości mojemu\n",
            "\t\tResponse:  [{'generated_text': 'Nie chciałam zrobić przykrości mojemu przyjacielowi.\\n\\nS'}]\n",
            "\t\tPrompt: Podziękowałam serdecznie mojej\n"
          ]
        },
        {
          "output_type": "stream",
          "name": "stderr",
          "text": [
            "Setting `pad_token_id` to `eos_token_id`:None for open-end generation.\n"
          ]
        },
        {
          "output_type": "stream",
          "name": "stdout",
          "text": [
            "\t\tResponse:  [{'generated_text': 'Podziękowałam serdecznie mojej wirtualnej przyjaciółce! ���'}]\n",
            "========================== Testing case: B ===========================\n",
            "\n",
            "\tTesting model: papuGaPT2\n",
            "\t\tPrompt: Widziałam dzisiaj w sklepie najnowszą\n"
          ]
        },
        {
          "output_type": "stream",
          "name": "stderr",
          "text": [
            "Setting `pad_token_id` to `eos_token_id`:None for open-end generation.\n"
          ]
        },
        {
          "output_type": "stream",
          "name": "stdout",
          "text": [
            "\t\tResponse:  [{'generated_text': 'Widziałam dzisiaj w sklepie najnowszą kolekcję ubrań tej sieci w moim ulubionym kolorze - w czerni, która mi się bardzo podoba i w mięcie.\\nNapis na jej ramieniu wykonany został techniką haftu sutasz, na czerwonym tle, całość wykończona jest drobnymi'}]\n",
            "\t\tPrompt: Wczoraj kupiłam do mojego salonu elegancki\n",
            "\t\tResponse:  [{'generated_text': 'Wczoraj kupiłam do mojego salonu elegancki stolik kawowy - nie ukrywam, ze za takie pieniądze to była moja ostateczna decyzja.\\nW trakcie rozmowy telefonicznej, pani w salonie powiedziała mnemologicznie, że mój salon i pokój, to właśnie tapeta do pokoju'}]\n",
            "\n",
            "\tTesting model: Salamandra\n",
            "\t\tPrompt: Widziałam dzisiaj w sklepie najnowszą\n",
            "\t\tResponse:  [{'generated_text': 'Widziałam dzisiaj w sklepie najnowszą kolekcję odzieży z motywem zwierzęcym. Z'}]\n",
            "\t\tPrompt: Wczoraj kupiłam do mojego salonu elegancki\n",
            "\t\tResponse:  [{'generated_text': 'Wczoraj kupiłam do mojego salonu elegancki stolik kawowy. Zdecydowałam się'}]\n",
            "\n",
            "\tTesting model: Polka\n",
            "\t\tPrompt: Widziałam dzisiaj w sklepie najnowszą\n",
            "\t\tResponse:  [{'generated_text': 'Widziałam dzisiaj w sklepie najnowszą kolekcję I'}]\n",
            "\t\tPrompt: Wczoraj kupiłam do mojego salonu elegancki\n"
          ]
        },
        {
          "output_type": "stream",
          "name": "stderr",
          "text": [
            "Setting `pad_token_id` to `eos_token_id`:None for open-end generation.\n"
          ]
        },
        {
          "output_type": "stream",
          "name": "stdout",
          "text": [
            "\t\tResponse:  [{'generated_text': 'Wczoraj kupiłam do mojego salonu elegancki dywan'}]\n",
            "========================== Testing case: N ===========================\n",
            "\n",
            "\tTesting model: papuGaPT2\n",
            "\t\tPrompt: Zdecydowałam że nie pójdę z\n"
          ]
        },
        {
          "output_type": "stream",
          "name": "stderr",
          "text": [
            "Setting `pad_token_id` to `eos_token_id`:None for open-end generation.\n"
          ]
        },
        {
          "output_type": "stream",
          "name": "stdout",
          "text": [
            "\t\tResponse:  [{'generated_text': 'Zdecydowałam że nie pójdę z tym do lekarza ale niestety po 2 tygodniach od przyjęcia przez lek się okazało, że mam tylko lekkie zapalenie oskrzeli :( (miałam gorączkę po antybiotyku) i to był nasz pierwszy wyjazd.\\nW czasie pobytu we'}]\n",
            "\t\tPrompt: Spotkałam się na kawę z dawną\n",
            "\t\tResponse:  [{'generated_text': 'Spotkałam się na kawę z dawną przyjaciółką z czasów jej dzieciństwa, ale nie mogę Wam pokazać, jak byłyśmy z mamą w szkole, a na koniec było już zdecydowanie dużo śmiechu.\\nSos jest o tyle smaczny, że jest w nim pasta'}]\n",
            "\n",
            "\tTesting model: Salamandra\n",
            "\t\tPrompt: Zdecydowałam że nie pójdę z\n",
            "\t\tResponse:  [{'generated_text': 'Zdecydowałam że nie pójdę z Jakubem do kina, bo chcę się zrelaksować'}]\n",
            "\t\tPrompt: Spotkałam się na kawę z dawną\n",
            "\t\tResponse:  [{'generated_text': 'Spotkałam się na kawę z dawną koleżanką, a ona mnie ostro'}]\n",
            "\n",
            "\tTesting model: Polka\n",
            "\t\tPrompt: Zdecydowałam że nie pójdę z\n",
            "\t\tResponse:  [{'generated_text': 'Zdecydowałam że nie pójdę z rodziną - Oceans - 1'}]\n",
            "\t\tPrompt: Spotkałam się na kawę z dawną\n"
          ]
        },
        {
          "output_type": "stream",
          "name": "stderr",
          "text": [
            "Setting `pad_token_id` to `eos_token_id`:None for open-end generation.\n"
          ]
        },
        {
          "output_type": "stream",
          "name": "stdout",
          "text": [
            "\t\tResponse:  [{'generated_text': 'Spotkałam się na kawę z dawną koleżanką i skończyłem'}]\n",
            "========================== Testing case: Ms ===========================\n",
            "\n",
            "\tTesting model: papuGaPT2\n",
            "\t\tPrompt: Rozmawialiśmy dzisiaj przy stole o\n"
          ]
        },
        {
          "output_type": "stream",
          "name": "stderr",
          "text": [
            "Setting `pad_token_id` to `eos_token_id`:None for open-end generation.\n"
          ]
        },
        {
          "output_type": "stream",
          "name": "stdout",
          "text": [
            "\t\tResponse:  [{'generated_text': 'Rozmawialiśmy dzisiaj przy stole o tym, że mamy zamiar spotkać się z naszymi rodakami, którzy właśnie przyjechali na Ukrainę.\\n- Rozmawialiśmy o tym, że mamy zamiar spotkać się z naszymi rodakami, którzy właśnie przyjechali na Ukrainę. Rozmawialiśmy'}]\n",
            "\t\tPrompt: W książce opowiedziano o fascynującym\n",
            "\t\tResponse:  [{'generated_text': 'W książce opowiedziano o fascynującym procesie dojrzewania człowieka - próbie zmierzenia się z własnym systemem wartości. W książce nie są opisane ważne dla młodzieży zagadnienia, jak na przykład życie, szkoła, religia czy kultura seksualna - w każdym ujęciu problem jest jasno'}]\n",
            "\n",
            "\tTesting model: Salamandra\n",
            "\t\tPrompt: Rozmawialiśmy dzisiaj przy stole o\n",
            "\t\tResponse:  [{'generated_text': 'Rozmawialiśmy dzisiaj przy stole o naszym najbliższym otoczeniu. Było miło, bo'}]\n",
            "\t\tPrompt: W książce opowiedziano o fascynującym\n",
            "\t\tResponse:  [{'generated_text': 'W książce opowiedziano o fascynującym życiu i śmierci św. Franciszka z Asy'}]\n",
            "\n",
            "\tTesting model: Polka\n",
            "\t\tPrompt: Rozmawialiśmy dzisiaj przy stole o\n",
            "\t\tResponse:  [{'generated_text': 'Rozmawialiśmy dzisiaj przy stole o naszym liceum'}]\n",
            "\t\tPrompt: W książce opowiedziano o fascynującym\n"
          ]
        },
        {
          "output_type": "stream",
          "name": "stderr",
          "text": [
            "Setting `pad_token_id` to `eos_token_id`:None for open-end generation.\n"
          ]
        },
        {
          "output_type": "stream",
          "name": "stdout",
          "text": [
            "\t\tResponse:  [{'generated_text': 'W książce opowiedziano o fascynującym doświadczeniu, które przy'}]\n",
            "========================== Testing case: W ===========================\n",
            "\n",
            "\tTesting model: papuGaPT2\n",
            "\t\tPrompt: Zwróciłam się do niej - kochana\n"
          ]
        },
        {
          "output_type": "stream",
          "name": "stderr",
          "text": [
            "Setting `pad_token_id` to `eos_token_id`:None for open-end generation.\n"
          ]
        },
        {
          "output_type": "stream",
          "name": "stdout",
          "text": [
            "\t\tResponse:  [{'generated_text': 'Zwróciłam się do niej - kochana moja! - żeby zobaczyć, po co żyje. Po prostu nie mogłam uwierzyć. Ale musiałam ją wtedy z siebie nakreślić. I to jest najbardziej zdumiewające. Po prostu - nie chcę jej stracić. Nie'}]\n",
            "\t\tPrompt: Krzyknęłam radośnie - mój drogi\n",
            "\t\tResponse:  [{'generated_text': 'Krzyknęłam radośnie - mój drogi nie słuchaj tylko głosuj na mój głos i to w pełni bo...\\nSię działo u mnie już kilka dni. A więc to już jest. Do wyboru: Do tej pory to był tylko mój wybór i'}]\n",
            "\n",
            "\tTesting model: Salamandra\n",
            "\t\tPrompt: Zwróciłam się do niej - kochana\n",
            "\t\tResponse:  [{'generated_text': 'Zwróciłam się do niej - kochana mama.\\n- Kocham Cię, dziecko'}]\n",
            "\t\tPrompt: Krzyknęłam radośnie - mój drogi\n",
            "\t\tResponse:  [{'generated_text': 'Krzyknęłam radośnie - mój drogi, to po prostu miło!\\n- Ale'}]\n",
            "\n",
            "\tTesting model: Polka\n",
            "\t\tPrompt: Zwróciłam się do niej - kochana\n",
            "\t\tResponse:  [{'generated_text': 'Zwróciłam się do niej - kochana przyjaciółko ścierpłaś wiele?'}]\n",
            "\t\tPrompt: Krzyknęłam radośnie - mój drogi\n",
            "\t\tResponse:  [{'generated_text': 'Krzyknęłam radośnie - mój drogi przyjacielu/poc'}]\n"
          ]
        }
      ]
    },
    {
      "cell_type": "markdown",
      "source": [
        "In general there was no erroneus example in terms of lemmatization however some answers where not making any sense.\n",
        "\n",
        "> CELOWNIK\n",
        ">\n",
        "> Testing model: papuGaPT2\n",
        ">\n",
        "> Prompt: Nie chciałam zrobić przykrości mojemu\n",
        ">\n",
        "> Response: Nie chciałam zrobić przykrości mojemu dwutygodniowemu synkowi, bo w naszym mieście jest chyba jedyny na wsi punkt sprzedający owoce i warzywa oraz przetwory mięsne tylko z przeznaczeniem na mrożonki, a owoce i warzywa do takiego punktu nie mają dostępu.\n",
        "\n",
        "There were some problems with Wołacz case, typical for Polish language:\n",
        "\n",
        "> WOŁACZ\n",
        ">\n",
        "> Testing model: Salamandra\n",
        ">\n",
        "> Prompt: Zwróciłam się do niej - kochana\n",
        ">\n",
        "> Response:  Zwróciłam się do niej - kochana mama. Kocham Cię, dziecko"
      ],
      "metadata": {
        "id": "rFRIlZRfxv4q"
      }
    },
    {
      "cell_type": "markdown",
      "source": [
        "## Testing long-range relationships such as gender.\n",
        "\n",
        "E.e. you can use two verbs with masculine and feminine gender, where one of the verbs is masked. Both verbs should have the same gender, assuming the subject is the same. Define at least 3 such sentences."
      ],
      "metadata": {
        "id": "k6iYOL-IsSzG"
      }
    },
    {
      "cell_type": "code",
      "source": [
        "example_gender = [\n",
        "    \"Kiedy tylko dowiedziałam się co stało się zeszłego wieczora, niechcący\",\n",
        "    \"Potrzebowałam chwili, żeby przetworzyć informacje dotyczące mojego zdrowia, ale po nieprzepsanej nocy w końcu\",\n",
        "    \"Nie chciałem słuchać jak klientka wykłuca się o najdrobniejsze szczegóły, zupełnie niepotrzebnie i w irytujący sposób, więc\"\n",
        "]"
      ],
      "metadata": {
        "id": "hK0xRROJvOTt"
      },
      "execution_count": 18,
      "outputs": []
    },
    {
      "cell_type": "code",
      "source": [
        "for model_name, generate in models.items():\n",
        "    print(f'\\nTesting model: {model_name}')\n",
        "    for example in example_gender:\n",
        "      try:\n",
        "        print(f'\\tPrompt: {example}')\n",
        "        print(f'\\tResponse: ', generate(example, max_length=50))\n",
        "      except:\n",
        "        print(f'\\tPrompt: {example}')\n",
        "        print(f'\\tResponse: ', 'Error')\n"
      ],
      "metadata": {
        "colab": {
          "base_uri": "https://localhost:8080/"
        },
        "id": "MqenI_YHse-f",
        "outputId": "7e477f6a-989d-4055-8ed5-9c001ebba225"
      },
      "execution_count": 19,
      "outputs": [
        {
          "output_type": "stream",
          "name": "stderr",
          "text": [
            "Setting `pad_token_id` to `eos_token_id`:None for open-end generation.\n"
          ]
        },
        {
          "output_type": "stream",
          "name": "stdout",
          "text": [
            "\n",
            "Testing model: papuGaPT2\n",
            "\tPrompt: Kiedy tylko dowiedziałam się co stało się zeszłego wieczora, niechcący\n"
          ]
        },
        {
          "output_type": "stream",
          "name": "stderr",
          "text": [
            "Setting `pad_token_id` to `eos_token_id`:None for open-end generation.\n"
          ]
        },
        {
          "output_type": "stream",
          "name": "stdout",
          "text": [
            "\tResponse:  [{'generated_text': 'Kiedy tylko dowiedziałam się co stało się zeszłego wieczora, niechcący rzuciłam się na kanapę i tak bezwstydnie się nim zainteresowałam, że na stałe zagościło w moim salonie. Od razu jednak postanowiłam, że muszę to odreagować'}]\n",
            "\tPrompt: Potrzebowałam chwili, żeby przetworzyć informacje dotyczące mojego zdrowia, ale po nieprzepsanej nocy w końcu\n"
          ]
        },
        {
          "output_type": "stream",
          "name": "stderr",
          "text": [
            "Setting `pad_token_id` to `eos_token_id`:None for open-end generation.\n"
          ]
        },
        {
          "output_type": "stream",
          "name": "stdout",
          "text": [
            "\tResponse:  [{'generated_text': 'Potrzebowałam chwili, żeby przetworzyć informacje dotyczące mojego zdrowia, ale po nieprzepsanej nocy w końcu wróciłam do domu, żeby napisać na blogu o tym.\\nOkazało się, że to jednak nie tyle przeziębienie, co po prostu zwykłe przeziębienie.'}]\n",
            "\tPrompt: Nie chciałem słuchać jak klientka wykłuca się o najdrobniejsze szczegóły, zupełnie niepotrzebnie i w irytujący sposób, więc\n",
            "\tResponse:  [{'generated_text': 'Nie chciałem słuchać jak klientka wykłuca się o najdrobniejsze szczegóły, zupełnie niepotrzebnie i w irytujący sposób, więc powiedziałem sobie, że to nie jest reklama a raczej marketing i na tego się zdecydowałem:)\\nJa bym jej na to powiedział jeszcze,'}]\n",
            "\n",
            "Testing model: Salamandra\n",
            "\tPrompt: Kiedy tylko dowiedziałam się co stało się zeszłego wieczora, niechcący\n",
            "\tResponse:  [{'generated_text': 'Kiedy tylko dowiedziałam się co stało się zeszłego wieczora, niechcący poczułam się jak w pułapce. Nie mogłam ruszyć ani na krok bez rozpaczy i bólu.\\nZastanawiałam się gdzie'}]\n",
            "\tPrompt: Potrzebowałam chwili, żeby przetworzyć informacje dotyczące mojego zdrowia, ale po nieprzepsanej nocy w końcu\n",
            "\tResponse:  [{'generated_text': 'Potrzebowałam chwili, żeby przetworzyć informacje dotyczące mojego zdrowia, ale po nieprzepsanej nocy w końcu zaczęłam się męczyć.\\nPo co mi ten sen? Miałam wrażenie, że moja dusza jest już za mocna na'}]\n",
            "\tPrompt: Nie chciałem słuchać jak klientka wykłuca się o najdrobniejsze szczegóły, zupełnie niepotrzebnie i w irytujący sposób, więc\n",
            "\tResponse:  [{'generated_text': 'Nie chciałem słuchać jak klientka wykłuca się o najdrobniejsze szczegóły, zupełnie niepotrzebnie i w irytujący sposób, więc po prostu jej to powiedziałem:\\n- Panie Marku! - powiedziała moja partnerka. Po'}]\n",
            "\n",
            "Testing model: Polka\n",
            "\tPrompt: Kiedy tylko dowiedziałam się co stało się zeszłego wieczora, niechcący\n",
            "\tResponse:  [{'generated_text': 'Kiedy tylko dowiedziałam się co stało się zeszłego wieczora, niechcący, niechcący, zdecydowałam się na przyjęcie tematu \"Życie pod wpływem zatrzymanej em'}]\n",
            "\tPrompt: Potrzebowałam chwili, żeby przetworzyć informacje dotyczące mojego zdrowia, ale po nieprzepsanej nocy w końcu\n",
            "\tResponse:  [{'generated_text': 'Potrzebowałam chwili, żeby przetworzyć informacje dotyczące mojego zdrowia, ale po nieprzepsanej nocy w końcu przeszedł mnie... - Emeryk Zenona'}]\n",
            "\tPrompt: Nie chciałem słuchać jak klientka wykłuca się o najdrobniejsze szczegóły, zupełnie niepotrzebnie i w irytujący sposób, więc\n",
            "\tResponse:  [{'generated_text': 'Nie chciałem słuchać jak klientka wykłuca się o najdrobniejsze szczegóły, zupełnie niepotrzebnie i w irytujący sposób, więc wyszedłem z sali. To nie była r'}]\n"
          ]
        }
      ]
    },
    {
      "cell_type": "markdown",
      "source": [
        "## Checking models' real-world knolwedge.\n",
        "\n"
      ],
      "metadata": {
        "id": "dsFAJeErxvZ3"
      }
    },
    {
      "cell_type": "code",
      "source": [
        "example_knowledge = [\n",
        "    \"Substancja, która wrze w temperaturze 100 stopni, a zamarza w temperaturze 0 stopni Celsjusza to\",\n",
        "    \"Polska jest krajem o ustroju\",\n",
        "    \"Kolor zielony można uzyskać przez pomieszanie koloru niebieskiego i koloru\"\n",
        "]\n",
        "\n",
        "for model_name, generate in models.items():\n",
        "    print(f'\\nTesting model: {model_name}')\n",
        "    for example in example_knowledge:\n",
        "        print(f'\\tPrompt: {example}')\n",
        "        print(f'\\tResponse: ', generate(example, max_length=50))"
      ],
      "metadata": {
        "id": "VPdMv_44yu8F",
        "colab": {
          "base_uri": "https://localhost:8080/"
        },
        "outputId": "c64f0791-bba6-449a-b9fa-eb7c4b90523b"
      },
      "execution_count": 22,
      "outputs": [
        {
          "output_type": "stream",
          "name": "stderr",
          "text": [
            "Setting `pad_token_id` to `eos_token_id`:None for open-end generation.\n"
          ]
        },
        {
          "output_type": "stream",
          "name": "stdout",
          "text": [
            "\n",
            "Testing model: papuGaPT2\n",
            "\tPrompt: Substancja, która wrze w temperaturze 100 stopni, a zamarza w temperaturze 0 stopni Celsjusza to\n"
          ]
        },
        {
          "output_type": "stream",
          "name": "stderr",
          "text": [
            "Setting `pad_token_id` to `eos_token_id`:None for open-end generation.\n"
          ]
        },
        {
          "output_type": "stream",
          "name": "stdout",
          "text": [
            "\tResponse:  [{'generated_text': 'Substancja, która wrze w temperaturze 100 stopni, a zamarza w temperaturze 0 stopni Celsjusza to chlor. Oznacza to, że jeśli dojdzie do zetknięcia z wodą, chlor wystąpi.\\nDlatego też należy stosować wodę z dodatkiem chloru wyłącznie do celów higie'}]\n",
            "\tPrompt: Polska jest krajem o ustroju\n"
          ]
        },
        {
          "output_type": "stream",
          "name": "stderr",
          "text": [
            "Setting `pad_token_id` to `eos_token_id`:None for open-end generation.\n"
          ]
        },
        {
          "output_type": "stream",
          "name": "stdout",
          "text": [
            "\tResponse:  [{'generated_text': 'Polska jest krajem o ustroju demokratycznym. Jest to wynik, jak również wynik, demokratyczno-protestanckiej walki o prymat demokracji.\\nNacjonalizm ma charakter ideologiczny. Jest on wynikiem ideologii i tradycji narodowych, ponieważ są one zakorzenione'}]\n",
            "\tPrompt: Kolor zielony można uzyskać przez pomieszanie koloru niebieskiego i koloru\n",
            "\tResponse:  [{'generated_text': 'Kolor zielony można uzyskać przez pomieszanie koloru niebieskiego i koloru zielonego. Następnie wszystkie składniki należy wymieszać w naczyniu szklanym, a kiedy przestygną, wymieszać w misce ze startym parmie (opcjonalnie), a następnie dodać do mieszanki razem z żółtkiem'}]\n",
            "\n",
            "Testing model: Salamandra\n",
            "\tPrompt: Substancja, która wrze w temperaturze 100 stopni, a zamarza w temperaturze 0 stopni Celsjusza to\n",
            "\tResponse:  [{'generated_text': 'Substancja, która wrze w temperaturze 100 stopni, a zamarza w temperaturze 0 stopni Celsjusza to:\\nGrzechy'}]\n",
            "\tPrompt: Polska jest krajem o ustroju\n",
            "\tResponse:  [{'generated_text': 'Polska jest krajem o ustroju parlamentarno-prezydenckim. W 2015 roku w kraju przeprowadzono referendum, które doprowadziło do zmiany konstytucji i wprowadzenia poprawki zmniejszającej liczbę mandatów parlamentarnych z 460 na'}]\n",
            "\tPrompt: Kolor zielony można uzyskać przez pomieszanie koloru niebieskiego i koloru\n",
            "\tResponse:  [{'generated_text': 'Kolor zielony można uzyskać przez pomieszanie koloru niebieskiego i koloru pomarańczowego.\\nKOLOR ZIELONY I KOLORY POMARAŃCZOWE - JAK POWIADĄ CI AKTYWNI?\\n'}]\n",
            "\n",
            "Testing model: Polka\n",
            "\tPrompt: Substancja, która wrze w temperaturze 100 stopni, a zamarza w temperaturze 0 stopni Celsjusza to\n",
            "\tResponse:  [{'generated_text': 'Substancja, która wrze w temperaturze 100 stopni, a zamarza w temperaturze 0 stopni Celsjusza to stan rzadki. Mieszanka jest tak gęsta, że nie'}]\n",
            "\tPrompt: Polska jest krajem o ustroju\n",
            "\tResponse:  [{'generated_text': 'Polska jest krajem o ustroju federalnym, z siedzibą Prezydenta Władysława V kol. Medyka, znajdującą się w Stolicy, gdzie niedługo powinno zaczą'}]\n",
            "\tPrompt: Kolor zielony można uzyskać przez pomieszanie koloru niebieskiego i koloru\n",
            "\tResponse:  [{'generated_text': 'Kolor zielony można uzyskać przez pomieszanie koloru niebieskiego i koloru fioletowego - Projektowanie Wnętrz\\n\\nKolory naturalne, takie jak odcienie nieb'}]\n"
          ]
        }
      ]
    },
    {
      "cell_type": "markdown",
      "source": [
        "The real-world knowledge of these models is very poor 😞"
      ],
      "metadata": {
        "id": "uVHHhgdFA5sl"
      }
    },
    {
      "cell_type": "markdown",
      "source": [
        "## Checking zero-shot learning capabilites of the models.\n",
        "\n",
        "The models are provided with 5 sentences with different sentiment for the following scheme:\n",
        "\n",
        "\" 'Ten film to był kiler. Nie mogłem się oderwać od ekranu.' Wypowiedź ta ma jest zdecydowanie [MASK]\""
      ],
      "metadata": {
        "id": "bMVPuWMAzV00"
      }
    },
    {
      "cell_type": "code",
      "source": [
        "examples_sentiment = [\n",
        "    \"\"\"'Nieznoszę kiedy ktoś nie zasłania ust podczas kaszlu.\n",
        "    Szczególnie kiedy znajdujemy się np. w tramwaju albo innym małym pomieszczeniu.\n",
        "    Doprowadza mnie to do szaleństwa.\n",
        "    Nie rozumiem, czemu ludzie się nie zasłaniają!'\n",
        "    Wypowiedź ta ma wydźwięk\"\"\",\n",
        "    \"\"\"'Ten film to był kiler. Nie mogłem się oderwać od ekranu.\n",
        "    Świetna gra aktorska i genialna scenografia.\n",
        "    Jednocześnie ciągłe zmiany wątku były niesamowicie wciągające.'\n",
        "    Wypowiedź ta ma zdecydowanie charatker\"\"\",\n",
        "    \"\"\"'Czy wiesz, że muzyka którą słyszysz podczas próby nawiązania połęczenia telefonicznego z Biurem Obsługi Interesantów Sądu Rejonowego dla Krakowa-Śródziemia w Krakowie\n",
        "    <\"Twoje miejsce w kolejce - powyżej piętnaście\"> grana jest na żywo?\n",
        "    Jednym z wymagań względem zatrudnionych tam referendarzy jest umiejętność wielogodzinnej gry na fortepianie.\n",
        "    Uszanuj zatem czyjeś poświęcenie i postarać się nie przeklinać w trakcie oczekiwania na połączenie,\n",
        "    bo możesz przeszkadzać innym oczekującym.'\n",
        "    Wypowiedź ta ma charakter\"\"\",\n",
        "    \"\"\"'Gdy dzwonisz do komornika i po podniesieniu po drugiej stronie słuchawki słyszysz wygłaszane monotonnym tonem:\n",
        "    \"Dzień dobry, dodzwonił się Pan do komornika Jana Nowaka, informuję że administratorem Pana danych osobowych...\",\n",
        "    więc założywszy że słuchasz automatu - mówisz głośno, cytuję:\n",
        "    \"No dobra, weź nie pierdol.\",\n",
        "    po czym \"automat\" nagle przerywa i z mieszaniną dezorientacji i wzburzenia pyta:\n",
        "    \"Przepraszam, słucham?!\"'\n",
        "    Wypowiedź ta ma charakter\"\"\"\n",
        "]"
      ],
      "metadata": {
        "id": "RhwV6jRyz7xH"
      },
      "execution_count": 23,
      "outputs": []
    },
    {
      "cell_type": "code",
      "source": [
        "import re\n",
        "find_answer = r\".*(Wypowiedź ta ma .*)\"\n",
        "\n",
        "for model_name, generate in models.items():\n",
        "    print(f'\\nTesting model: {model_name}')\n",
        "    for example in examples_sentiment:\n",
        "        resp = generate(example, max_length=300)\n",
        "        print(f'\\tFull Response: {resp}')\n",
        "\n",
        "        # Ensure `resp` is a string\n",
        "        if resp is not None:\n",
        "            resp = str(resp)\n",
        "            match = re.search(find_answer, resp)  # Use search to match the pattern anywhere\n",
        "            if match:\n",
        "                print('\\tAnswer: ', match.group(1))  # Group(1) gives the first captured group\n",
        "            else:\n",
        "                print('\\tAnswer: No match found')\n",
        "        else:\n",
        "            print('\\tAnswer: Response is None')\n",
        "\n"
      ],
      "metadata": {
        "id": "M6M7R1pm2ylg",
        "colab": {
          "base_uri": "https://localhost:8080/"
        },
        "outputId": "4eafe692-f1ed-4968-f0f4-3fac51970d76"
      },
      "execution_count": 39,
      "outputs": [
        {
          "output_type": "stream",
          "name": "stderr",
          "text": [
            "Setting `pad_token_id` to `eos_token_id`:None for open-end generation.\n"
          ]
        },
        {
          "output_type": "stream",
          "name": "stdout",
          "text": [
            "\n",
            "Testing model: papuGaPT2\n"
          ]
        },
        {
          "output_type": "stream",
          "name": "stderr",
          "text": [
            "Setting `pad_token_id` to `eos_token_id`:None for open-end generation.\n"
          ]
        },
        {
          "output_type": "stream",
          "name": "stdout",
          "text": [
            "\tFull Response: [{'generated_text': '\\'Nieznoszę kiedy ktoś nie zasłania ust podczas kaszlu.\\n    Szczególnie kiedy znajdujemy się np. w tramwaju albo innym małym pomieszczeniu.\\n    Doprowadza mnie to do szaleństwa.\\n    Nie rozumiem, czemu ludzie się nie zasłaniają!\\'\\n    Wypowiedź ta ma wydźwięk bardzo radosny i taki, który nie powinien być odebrany jako obelżywy, lecz wesoły.\\n    Oczywiście to tylko moja opinia. Jest naprawdę śmieszna. Na przykład, kiedy nie ma jeszcze dnia, w którym wszyscy by się dowiedzieli, jak wyglądała jego reakcja na rozmowę z kimś, kto nie był z nim zbyt długo, na jego wypowiedź i tak się spóźnił, a ona go bardzo do niego ciągnęła i chyba nawet się na niego rzuciła.\\n        I nie wiem, czy ta osoba jest w stanie zrozumieć, czy po prostu nie jest warta tego, co robi, czy to tylko taki jej \"sposób\", bo z takim to w tej chwili jest...\\n        Kiedy jej wzrok powędrował w dół, zauważyłam, że ma jakiś na niej cień siniaka, którego nigdy nie zdejmowała. Z jakiegoś powodu tego koloru nie miała. Może to jednak kwestia jej makijażu?\\n        Jeśli tak się stanie, to na pewno go sobie sama zdejmie i zostanie jego przyjaciółką na zawsze!\\n        Kiedy ma się go nie zdejmować w nieskończoność, a do tego w dodatku gdy się kogoś zaczepia i nie można z kimś rozmawiać, to na prawdę jest w stanie to'}]\n",
            "\tAnswer:  Wypowiedź ta ma wydźwięk bardzo radosny i taki, który nie powinien być odebrany jako obelżywy, lecz wesoły.\\n    Oczywiście to tylko moja opinia. Jest naprawdę śmieszna. Na przykład, kiedy nie ma jeszcze dnia, w którym wszyscy by się dowiedzieli, jak wyglądała jego reakcja na rozmowę z kimś, kto nie był z nim zbyt długo, na jego wypowiedź i tak się spóźnił, a ona go bardzo do niego ciągnęła i chyba nawet się na niego rzuciła.\\n        I nie wiem, czy ta osoba jest w stanie zrozumieć, czy po prostu nie jest warta tego, co robi, czy to tylko taki jej \"sposób\", bo z takim to w tej chwili jest...\\n        Kiedy jej wzrok powędrował w dół, zauważyłam, że ma jakiś na niej cień siniaka, którego nigdy nie zdejmowała. Z jakiegoś powodu tego koloru nie miała. Może to jednak kwestia jej makijażu?\\n        Jeśli tak się stanie, to na pewno go sobie sama zdejmie i zostanie jego przyjaciółką na zawsze!\\n        Kiedy ma się go nie zdejmować w nieskończoność, a do tego w dodatku gdy się kogoś zaczepia i nie można z kimś rozmawiać, to na prawdę jest w stanie to'}]\n"
          ]
        },
        {
          "output_type": "stream",
          "name": "stderr",
          "text": [
            "Setting `pad_token_id` to `eos_token_id`:None for open-end generation.\n"
          ]
        },
        {
          "output_type": "stream",
          "name": "stdout",
          "text": [
            "\tFull Response: [{'generated_text': \"'Ten film to był kiler. Nie mogłem się oderwać od ekranu.\\n    Świetna gra aktorska i genialna scenografia.\\n    Jednocześnie ciągłe zmiany wątku były niesamowicie wciągające.'\\n    Wypowiedź ta ma jest zdecydowanie charatker z polskiego, więc może lepiej od początku mieć to na uwadze\\n[link widoczny dla zalogowanych] [link widoczny dla zalogowanych] [link widoczny dla zalogowanych]Oferuję sprzedaż materiałów do prac ręcznych i malarskich do sklepu internetowego oraz hurtowni\\nZbieranie przedmiotów na aukcjach i targach oraz sprzedaż przedmiotów na zamówienie klienta to niektóre z ofert, jakie oferuję. Zachęcam do zapoznania się ze szczegółami oraz do kontaktu. Więcej informacji na stronie internetowej.\\nSklep fotograficzny Fripers oferuje szeroki wybór statywów fotograficznych, akcesoriów i akcesoriów od renomowanych firm takich jak: Canon, Nikon, Pentax, Tokina, Sigma, DSC, Essential, Sigma, Minolta, Sony, Fuji, Tokina. W ofercie znajdują się także modele przeznaczone dla początkujących, bardziej zaawansowanych oraz w pełni profesjonalne.\\nSklep fotograficzny Fripers - akcesoria fotograficzne - akcesoria do aparatów cyfrowych - obiektywowe - statywy fotograficzne - pokrowce, torby\\t\\nZestawy startowe z serii COB łączą w sobie innowacyjne techniki i narzędzia dla profesjonalnego fotografowania. W naszej ofercie znajduje się wiele popularnych aparatów fotograficznych przeznaczonych właśnie do fotografii. Proponujemy profesjonalne zestawy startowe, które pozwalają na wykonywanie profesjonalnej fotografii. Zapraszamy do zapoznania się z naszą ofertą oraz odwiedzenia naszej strony na której znajdą Państwo\"}]\n",
            "\tAnswer:  Wypowiedź ta ma jest zdecydowanie charatker z polskiego, więc może lepiej od początku mieć to na uwadze\\n[link widoczny dla zalogowanych] [link widoczny dla zalogowanych] [link widoczny dla zalogowanych]Oferuję sprzedaż materiałów do prac ręcznych i malarskich do sklepu internetowego oraz hurtowni\\nZbieranie przedmiotów na aukcjach i targach oraz sprzedaż przedmiotów na zamówienie klienta to niektóre z ofert, jakie oferuję. Zachęcam do zapoznania się ze szczegółami oraz do kontaktu. Więcej informacji na stronie internetowej.\\nSklep fotograficzny Fripers oferuje szeroki wybór statywów fotograficznych, akcesoriów i akcesoriów od renomowanych firm takich jak: Canon, Nikon, Pentax, Tokina, Sigma, DSC, Essential, Sigma, Minolta, Sony, Fuji, Tokina. W ofercie znajdują się także modele przeznaczone dla początkujących, bardziej zaawansowanych oraz w pełni profesjonalne.\\nSklep fotograficzny Fripers - akcesoria fotograficzne - akcesoria do aparatów cyfrowych - obiektywowe - statywy fotograficzne - pokrowce, torby\\t\\nZestawy startowe z serii COB łączą w sobie innowacyjne techniki i narzędzia dla profesjonalnego fotografowania. W naszej ofercie znajduje się wiele popularnych aparatów fotograficznych przeznaczonych właśnie do fotografii. Proponujemy profesjonalne zestawy startowe, które pozwalają na wykonywanie profesjonalnej fotografii. Zapraszamy do zapoznania się z naszą ofertą oraz odwiedzenia naszej strony na której znajdą Państwo\"}]\n"
          ]
        },
        {
          "output_type": "stream",
          "name": "stderr",
          "text": [
            "Setting `pad_token_id` to `eos_token_id`:None for open-end generation.\n"
          ]
        },
        {
          "output_type": "stream",
          "name": "stdout",
          "text": [
            "\tFull Response: [{'generated_text': '\\'Czy wiesz, że muzyka którą słyszysz podczas próby nawiązania połęczenia telefonicznego z Biurem Obsługi Interesantów Sądu Rejonowego dla Krakowa-Śródziemia w Krakowie\\n    <\"Twoje miejsce w kolejce - powyżej piętnaście\"> grana jest na żywo?\\n    Jednym z wymagań względem zatrudnionych tam referendarzy jest umiejętność wielogodzinnej gry na fortepianie.\\n    Uszanuj zatem czyjeś poświęcenie i postarać się nie przeklinać w trakcie oczekiwania na połączenie,\\n    bo możesz przeszkadzać innym oczekującym.\\'\\n    Wypowiedź ta ma charakter czysto informacyjny. W celu wyjaśnienia kwestii technicznych i uzyskania informacji dotyczących postępowania osoby ubiegającej się o zwolnienie stosuje się odpowiednie ustępy.\\n| \\'Twoje miejsce w kolejce - powyżej piętnaście\" w przypadku, gdyby osoba ubiegająca się o zwolnienie wystąpiła do biura obsługi interesantów sądu z podaniem przyczyny zwolnienia,\\n    1. Na ile sposobów można zgłosić się do rzecznika dyscyplinarnego i wnieść zażalenie na to zwolnienie.\\n    2. Zgłosić się do rzecznika dyscyplinarnego i wnieść zażalenie na zażalenie do Rzecznika Dyscyplinarnego bądź prokuratora na zarządzenie zastępczego.\\n    3. Wnoszę o ustanowienie kuratora dla osoby ubiegającej się o zwolnienie z pracy. W przypadku gdy osoba starająca się o zwolnienie ma umowę o pracę, a pracodawca nie zatrudnia jej w okresie 12 miesięcy poprzedzających\\n    Na jakiej podstawie ma dochodzić do wypowiedzenia umowy o pracę? Czy mam na to jakieś uzasadnienie?\\n    Osoba ubiegająca się o zwolnienie dyscyplinarne wnosi zaża'}]\n",
            "\tAnswer:  Wypowiedź ta ma charakter czysto informacyjny. W celu wyjaśnienia kwestii technicznych i uzyskania informacji dotyczących postępowania osoby ubiegającej się o zwolnienie stosuje się odpowiednie ustępy.\\n| \\'Twoje miejsce w kolejce - powyżej piętnaście\" w przypadku, gdyby osoba ubiegająca się o zwolnienie wystąpiła do biura obsługi interesantów sądu z podaniem przyczyny zwolnienia,\\n    1. Na ile sposobów można zgłosić się do rzecznika dyscyplinarnego i wnieść zażalenie na to zwolnienie.\\n    2. Zgłosić się do rzecznika dyscyplinarnego i wnieść zażalenie na zażalenie do Rzecznika Dyscyplinarnego bądź prokuratora na zarządzenie zastępczego.\\n    3. Wnoszę o ustanowienie kuratora dla osoby ubiegającej się o zwolnienie z pracy. W przypadku gdy osoba starająca się o zwolnienie ma umowę o pracę, a pracodawca nie zatrudnia jej w okresie 12 miesięcy poprzedzających\\n    Na jakiej podstawie ma dochodzić do wypowiedzenia umowy o pracę? Czy mam na to jakieś uzasadnienie?\\n    Osoba ubiegająca się o zwolnienie dyscyplinarne wnosi zaża'}]\n",
            "\tFull Response: [{'generated_text': '\\'Gdy dzwonisz do komornika i po podniesieniu po drugiej stronie słuchawki słyszysz wygłaszane monotonnym tonem:\\n    \"Dzień dobry, dodzwonił się Pan do komornika Jana Nowaka, informuję że administratorem Pana danych osobowych...\",\\n    więc założywszy że słuchasz automatu - mówisz głośno, cytuję:\\n    \"No dobra, weź nie pierdol.\",\\n    po czym \"automat\" nagle przerywa i z mieszaniną dezorientacji i wzburzenia pyta:\\n    \"Przepraszam, słucham?!\"\\'\\n    Wypowiedź ta ma charakter tylko informacyjny, jest tylko kolejnym elementem, którym dzieli się komornik.\\n    Jak wynika z moich wypowiedzi można oczekiwać, że na końcu zdania będzie brzmiało \"Nie wiem, dlaczego...\", albo \"Czekają Cię następne czynności komornicze\".\\n    \"Czy wierzy, że mogę znaleźć mieszkanie?\", \"Czy można mieć za niskie obroty?\" - to ostatnie można usłyszeć chyba tylko w sytuacji, gdy komornik odmawia sprzedaży domu.\\nJeżeli zatem komornik znajdzie komuś dom, a ten w ciągu dnia znajdzie kolejne mieszkanie, to nie będę zdziwiona, że ten ktoś nie będzie miał żadnych dochodów.\\n    \"Ale jeśli znajdzie to mieszkanie, to niech je kupi. Ja przecież nie sprzedaję na licytacji, tylko nie ma żadnych przychodów.\"\\nPóźniej słyszę to samo: jeżeli komornik znalazł w życiu mieszkanie, to kupi je. Ale gdy komornik znajduje kolejne mieszkanie, to sprzeda je...\\nNie może mieć żadnego dochodu. Może mieć'}]\n",
            "\tAnswer:  Wypowiedź ta ma charakter tylko informacyjny, jest tylko kolejnym elementem, którym dzieli się komornik.\\n    Jak wynika z moich wypowiedzi można oczekiwać, że na końcu zdania będzie brzmiało \"Nie wiem, dlaczego...\", albo \"Czekają Cię następne czynności komornicze\".\\n    \"Czy wierzy, że mogę znaleźć mieszkanie?\", \"Czy można mieć za niskie obroty?\" - to ostatnie można usłyszeć chyba tylko w sytuacji, gdy komornik odmawia sprzedaży domu.\\nJeżeli zatem komornik znajdzie komuś dom, a ten w ciągu dnia znajdzie kolejne mieszkanie, to nie będę zdziwiona, że ten ktoś nie będzie miał żadnych dochodów.\\n    \"Ale jeśli znajdzie to mieszkanie, to niech je kupi. Ja przecież nie sprzedaję na licytacji, tylko nie ma żadnych przychodów.\"\\nPóźniej słyszę to samo: jeżeli komornik znalazł w życiu mieszkanie, to kupi je. Ale gdy komornik znajduje kolejne mieszkanie, to sprzeda je...\\nNie może mieć żadnego dochodu. Może mieć'}]\n",
            "\n",
            "Testing model: Salamandra\n",
            "\tFull Response: [{'generated_text': '\\'Nieznoszę kiedy ktoś nie zasłania ust podczas kaszlu.\\n    Szczególnie kiedy znajdujemy się np. w tramwaju albo innym małym pomieszczeniu.\\n    Doprowadza mnie to do szaleństwa.\\n    Nie rozumiem, czemu ludzie się nie zasłaniają!\\'\\n    Wypowiedź ta ma wydźwięk bardzo negatywny i odnosi się głównie do osób starszych, które są narażone na zakażenia dróg oddechowych (np. przeziębienie). 2023-11-04. \\n    \\n\\'Zrozumiałam, że nie zasłaniam ust.\\'\\n                \"To co mówisz jest całkowicie zrozumiałe.\" \\n                \"Módlę się za ciebie.\"  \\n                    \"O Boże, pomóż mi zrozumieć, dlaczego tak robię?\" \\n                        \"Wiem, że to dla twojego dobra.\" \\n                \"Przepraszam, jeśli powoduję stres lub niepokój\". \\n                    \"Jezu Chryste, proszę o przebaczenie!\" \\n                \"Proszę cię, żebyś nauczył mnie jak to zrobić?\". \\n                    \"Tak, mogę ci pomóc nauczyć się tego, ale najpierw muszę wiedzieć, czy chcesz to zrobić.\"\\n                \"Dobrze, zaakceptuję twoją decyzję. Na razie spróbuj sam sobie posłuchać.\" \\n                    \"Ale też nie chcę tracić czasu. To naprawdę boli\". \\n            Powyższa wypowiedź'}]\n",
            "\tAnswer:  Wypowiedź ta ma wydźwięk bardzo negatywny i odnosi się głównie do osób starszych, które są narażone na zakażenia dróg oddechowych (np. przeziębienie). 2023-11-04. \\n    \\n\\'Zrozumiałam, że nie zasłaniam ust.\\'\\n                \"To co mówisz jest całkowicie zrozumiałe.\" \\n                \"Módlę się za ciebie.\"  \\n                    \"O Boże, pomóż mi zrozumieć, dlaczego tak robię?\" \\n                        \"Wiem, że to dla twojego dobra.\" \\n                \"Przepraszam, jeśli powoduję stres lub niepokój\". \\n                    \"Jezu Chryste, proszę o przebaczenie!\" \\n                \"Proszę cię, żebyś nauczył mnie jak to zrobić?\". \\n                    \"Tak, mogę ci pomóc nauczyć się tego, ale najpierw muszę wiedzieć, czy chcesz to zrobić.\"\\n                \"Dobrze, zaakceptuję twoją decyzję. Na razie spróbuj sam sobie posłuchać.\" \\n                    \"Ale też nie chcę tracić czasu. To naprawdę boli\". \\n            Powyższa wypowiedź'}]\n",
            "\tFull Response: [{'generated_text': '\\'Ten film to był kiler. Nie mogłem się oderwać od ekranu.\\n    Świetna gra aktorska i genialna scenografia.\\n    Jednocześnie ciągłe zmiany wątku były niesamowicie wciągające.\\'\\n    Wypowiedź ta ma jest zdecydowanie charatkeryzowana jak recenzja, a nie opinia o filmie. 😊\\'\\n    Oczywiście, że warto! Filmy takie są świetnym sposobem na spędzenie wolnego czasu. \\n    To też bardzo dobre źródło rozrywki dla dzieci.\"\\n    Tak naprawdę chodzi mi jedynie o to aby pokazać, że taki gatunek kina jak kiler może być równie dobry co wiele innych gatunków filmów kinowych jakie znamy.\\\\n    \\\\n    Zanim jednak opowiem Wam jak ten film wyglądał, chcę Wam przedstawić jego twórców:\\'\\\\n    Autorem takich filmów często jest reżyser Andrzej Wajda. Ten film to była wielka osobowość polskiego filmu.\\' \\\\n    Powyższa wypowiedź jest również bardzo dobra, ale brakuje tu jakiegoś elementu lub opisu wydarzeń, które mogą sprawić, że będzie bardziej interesująca. 🙈\\'. \\n    Nieco po pół godzinie oglądania tego filmu, miałem ochotę iść do domu i obejrzeć sobie jeszcze jakiś inny film. Jakby moje życie było krótkie i musiałbym wybrać tylko jeden film z tej serii!\\' \\', napisał autor cytatu \"Materiały edukacyjne\". �'}]\n",
            "\tAnswer:  Wypowiedź ta ma jest zdecydowanie charatkeryzowana jak recenzja, a nie opinia o filmie. 😊\\'\\n    Oczywiście, że warto! Filmy takie są świetnym sposobem na spędzenie wolnego czasu. \\n    To też bardzo dobre źródło rozrywki dla dzieci.\"\\n    Tak naprawdę chodzi mi jedynie o to aby pokazać, że taki gatunek kina jak kiler może być równie dobry co wiele innych gatunków filmów kinowych jakie znamy.\\\\n    \\\\n    Zanim jednak opowiem Wam jak ten film wyglądał, chcę Wam przedstawić jego twórców:\\'\\\\n    Autorem takich filmów często jest reżyser Andrzej Wajda. Ten film to była wielka osobowość polskiego filmu.\\' \\\\n    Powyższa wypowiedź jest również bardzo dobra, ale brakuje tu jakiegoś elementu lub opisu wydarzeń, które mogą sprawić, że będzie bardziej interesująca. 🙈\\'. \\n    Nieco po pół godzinie oglądania tego filmu, miałem ochotę iść do domu i obejrzeć sobie jeszcze jakiś inny film. Jakby moje życie było krótkie i musiałbym wybrać tylko jeden film z tej serii!\\' \\', napisał autor cytatu \"Materiały edukacyjne\". �'}]\n",
            "\tFull Response: [{'generated_text': '\\'Czy wiesz, że muzyka którą słyszysz podczas próby nawiązania połęczenia telefonicznego z Biurem Obsługi Interesantów Sądu Rejonowego dla Krakowa-Śródziemia w Krakowie\\n    <\"Twoje miejsce w kolejce - powyżej piętnaście\"> grana jest na żywo?\\n    Jednym z wymagań względem zatrudnionych tam referendarzy jest umiejętność wielogodzinnej gry na fortepianie.\\n    Uszanuj zatem czyjeś poświęcenie i postarać się nie przeklinać w trakcie oczekiwania na połączenie,\\n    bo możesz przeszkadzać innym oczekującym.\\'\\n    Wypowiedź ta ma charakter ostrzeżenia, ponieważ może być interpretowana jako nagana za brak szacunku do innych osób czekających na spotkanie i możliwość skorzystania ze służb publicznych. Wypowiedzi takie mogą prowadzić do konfliktu między uczestnikami spotkania a osobą piszącą oświadczenie.  </p><br>\\n    Zasadniczo język polski powinien zostać unieważniony w sytuacjach takich jak te opisane wyżej. \\n    Istnieją jednak pewne wyjątki od tego zakazu. Na przykład pojęcie \"uwaga\", które używa się powszechnie w praktyce administracyjnej (np. w urzędach), można uznać za neutralne i użyteczne w wielu kontekstach. W innych przypadkach jednak będzie lepiej unikać użycia języka polskiego, aby uniknąć negatywnych konsekwencji.\\n        Tak więc, nawet jeśli istnieje duża liczba użytkowników języka polskiego wśród administracji publicznej, warto uważać,'}]\n",
            "\tAnswer:  Wypowiedź ta ma charakter ostrzeżenia, ponieważ może być interpretowana jako nagana za brak szacunku do innych osób czekających na spotkanie i możliwość skorzystania ze służb publicznych. Wypowiedzi takie mogą prowadzić do konfliktu między uczestnikami spotkania a osobą piszącą oświadczenie.  </p><br>\\n    Zasadniczo język polski powinien zostać unieważniony w sytuacjach takich jak te opisane wyżej. \\n    Istnieją jednak pewne wyjątki od tego zakazu. Na przykład pojęcie \"uwaga\", które używa się powszechnie w praktyce administracyjnej (np. w urzędach), można uznać za neutralne i użyteczne w wielu kontekstach. W innych przypadkach jednak będzie lepiej unikać użycia języka polskiego, aby uniknąć negatywnych konsekwencji.\\n        Tak więc, nawet jeśli istnieje duża liczba użytkowników języka polskiego wśród administracji publicznej, warto uważać,'}]\n",
            "\tFull Response: [{'generated_text': '\\'Gdy dzwonisz do komornika i po podniesieniu po drugiej stronie słuchawki słyszysz wygłaszane monotonnym tonem:\\n    \"Dzień dobry, dodzwonił się Pan do komornika Jana Nowaka, informuję że administratorem Pana danych osobowych...\",\\n    więc założywszy że słuchasz automatu - mówisz głośno, cytuję:\\n    \"No dobra, weź nie pierdol.\",\\n    po czym \"automat\" nagle przerywa i z mieszaniną dezorientacji i wzburzenia pyta:\\n    \"Przepraszam, słucham?!\"\\'\\n    Wypowiedź ta ma charakter komiczny. Nie jest ona jednak skierowana bezpośrednio przeciwko komornikowi. Komornicy są ludzie pracujący dla państwa. W takim razie dlaczego autor obraża ich w ten sposób? Mogło to być spowodowane faktem iż komornik wykonywał bardzo złe zadanie w stosunku do danego klienta a jego wypowiedzenie było wynikiem tego zachowania. Czy autor miał na myśli kogoś innego niż komornika? Nie mam pojęcia bo nie wiem kim jest Jan Nowak.\\nNatomiast jeśli chodzi o automat który przerywał wypowiedzi Komornika to musiał on wykonać jakąś robotę która go rozpraszała lub przerwała. A ponieważ był to monolog to musiał mieć za sobą jakiś czas kiedy nie został przerwany.\\nCo więcej w tekście cytowana jest wypowiedź „Automat” ale nie wiadomo skąd pochodzi. To może wynikać ze złego doboru słów autora'}]\n",
            "\tAnswer:  Wypowiedź ta ma charakter komiczny. Nie jest ona jednak skierowana bezpośrednio przeciwko komornikowi. Komornicy są ludzie pracujący dla państwa. W takim razie dlaczego autor obraża ich w ten sposób? Mogło to być spowodowane faktem iż komornik wykonywał bardzo złe zadanie w stosunku do danego klienta a jego wypowiedzenie było wynikiem tego zachowania. Czy autor miał na myśli kogoś innego niż komornika? Nie mam pojęcia bo nie wiem kim jest Jan Nowak.\\nNatomiast jeśli chodzi o automat który przerywał wypowiedzi Komornika to musiał on wykonać jakąś robotę która go rozpraszała lub przerwała. A ponieważ był to monolog to musiał mieć za sobą jakiś czas kiedy nie został przerwany.\\nCo więcej w tekście cytowana jest wypowiedź „Automat” ale nie wiadomo skąd pochodzi. To może wynikać ze złego doboru słów autora'}]\n",
            "\n",
            "Testing model: Polka\n",
            "\tFull Response: [{'generated_text': '\\'Nieznoszę kiedy ktoś nie zasłania ust podczas kaszlu.\\n    Szczególnie kiedy znajdujemy się np. w tramwaju albo innym małym pomieszczeniu.\\n    Doprowadza mnie to do szaleństwa.\\n    Nie rozumiem, czemu ludzie się nie zasłaniają!\\'\\n    Wypowiedź ta ma wydźwięk buntowniczy, wyraża frustrację, która często przechodzi do gniazda.\\n\\nUwaga: Ten fragment pełni funkcję komedii, gdyż oplar się na bok od trudności, jakimi można napotkać w drodze do lub z pracy, co doprowadziło do powstania komentarza. \"Kiedy ktoś przestaje być narażony na świeże powietrze, naprawdę zdaje sobie sprawę, jak nieprzyjemna jest zanieczyszczona powietrze.\" (N. Heron) Jednak często mamy zanieczyszczoną pracę, a nie ma to nic wspólnego z przestawianiem ust. Więc nie mamy powodu do frustracji ani nieporozumień, gdy narażamy się na niezamierzoną szkodę. (Kenton) Ale nie o to nam ch'}]\n",
            "\tAnswer:  Wypowiedź ta ma wydźwięk buntowniczy, wyraża frustrację, która często przechodzi do gniazda.\\n\\nUwaga: Ten fragment pełni funkcję komedii, gdyż oplar się na bok od trudności, jakimi można napotkać w drodze do lub z pracy, co doprowadziło do powstania komentarza. \"Kiedy ktoś przestaje być narażony na świeże powietrze, naprawdę zdaje sobie sprawę, jak nieprzyjemna jest zanieczyszczona powietrze.\" (N. Heron) Jednak często mamy zanieczyszczoną pracę, a nie ma to nic wspólnego z przestawianiem ust. Więc nie mamy powodu do frustracji ani nieporozumień, gdy narażamy się na niezamierzoną szkodę. (Kenton) Ale nie o to nam ch'}]\n",
            "\tFull Response: [{'generated_text': \"'Ten film to był kiler. Nie mogłem się oderwać od ekranu.\\n    Świetna gra aktorska i genialna scenografia.\\n    Jednocześnie ciągłe zmiany wątku były niesamowicie wciągające.'\\n    Wypowiedź ta ma jest zdecydowanie charatkerową i odnosi się do znaczącej zmiany w scenariuszu filmu, które ujawnia się w ciągłych eksploracji głównego bohatera, który jest zaintrygowany nowym obiektem badań.\\n\\n'Przepraszam, kto by pomyślał, że to będzie taki dobry film.'\\n    Dostaję odpowiedź, co oznacza, że niektóre recenzje sugerują, że po bałaganach, które wyjawiają się w miarę jak film postępuje, i wątkami rozwijania, które używają klimaty fabuły, aby przechwycić uwagę widzów.\\n\\n'Nie chcę zdradzać fabuły, ale to będzie niesamowite.'\\n    Jedna z recenzentów zdradza, że naprawdę uwielbia zgłębiać wątkowe fabuły, które pozwala filmowi osiągnąć wymiar badań naukowych, i że przypadkowo z\"}]\n",
            "\tAnswer:  Wypowiedź ta ma jest zdecydowanie charatkerową i odnosi się do znaczącej zmiany w scenariuszu filmu, które ujawnia się w ciągłych eksploracji głównego bohatera, który jest zaintrygowany nowym obiektem badań.\\n\\n'Przepraszam, kto by pomyślał, że to będzie taki dobry film.'\\n    Dostaję odpowiedź, co oznacza, że niektóre recenzje sugerują, że po bałaganach, które wyjawiają się w miarę jak film postępuje, i wątkami rozwijania, które używają klimaty fabuły, aby przechwycić uwagę widzów.\\n\\n'Nie chcę zdradzać fabuły, ale to będzie niesamowite.'\\n    Jedna z recenzentów zdradza, że naprawdę uwielbia zgłębiać wątkowe fabuły, które pozwala filmowi osiągnąć wymiar badań naukowych, i że przypadkowo z\"}]\n",
            "\tFull Response: [{'generated_text': '\\'Czy wiesz, że muzyka którą słyszysz podczas próby nawiązania połęczenia telefonicznego z Biurem Obsługi Interesantów Sądu Rejonowego dla Krakowa-Śródziemia w Krakowie\\n    <\"Twoje miejsce w kolejce - powyżej piętnaście\"> grana jest na żywo?\\n    Jednym z wymagań względem zatrudnionych tam referendarzy jest umiejętność wielogodzinnej gry na fortepianie.\\n    Uszanuj zatem czyjeś poświęcenie i postarać się nie przeklinać w trakcie oczekiwania na połączenie,\\n    bo możesz przeszkadzać innym oczekującym.\\'\\n    Wypowiedź ta ma charakter nieformalnego wezwania do służby i nie jest częścią oficjalnej broszury departamentu biura obsługi publicznopoprzezrownej.\\n    Załóżmy, że twój znajomy będzie kiedyś mieli przyjaciół, ale potem to przyjaźń się sypie. A co jeśli zostaniesz w separacji od twojego partnera, tworząc dziecko z osobą niezwiązaną z tobą.\\n    Zasugeruję zrozumienie sytuacji poprzez interpretację kon'}]\n",
            "\tAnswer:  Wypowiedź ta ma charakter nieformalnego wezwania do służby i nie jest częścią oficjalnej broszury departamentu biura obsługi publicznopoprzezrownej.\\n    Załóżmy, że twój znajomy będzie kiedyś mieli przyjaciół, ale potem to przyjaźń się sypie. A co jeśli zostaniesz w separacji od twojego partnera, tworząc dziecko z osobą niezwiązaną z tobą.\\n    Zasugeruję zrozumienie sytuacji poprzez interpretację kon'}]\n",
            "\tFull Response: [{'generated_text': '\\'Gdy dzwonisz do komornika i po podniesieniu po drugiej stronie słuchawki słyszysz wygłaszane monotonnym tonem:\\n    \"Dzień dobry, dodzwonił się Pan do komornika Jana Nowaka, informuję że administratorem Pana danych osobowych...\",\\n    więc założywszy że słuchasz automatu - mówisz głośno, cytuję:\\n    \"No dobra, weź nie pierdol.\",\\n    po czym \"automat\" nagle przerywa i z mieszaniną dezorientacji i wzburzenia pyta:\\n    \"Przepraszam, słucham?!\"\\'\\n    Wypowiedź ta ma charakter komiczny, ale jest dość autentyczna, jeśli mówisz do komornika - w obydwu przypadkach.\\n\\nDodatkowo, pamiętaj, że jeśli ktoś próbuje narzucić Ci pewne formy działania lub zasady, bądź na nie gotowy, warto odmawiać, unikając kontaktu na miejscu. Ważne jest również, aby na podstawie tego fragmentu, uważać na innych, którzy mogą odebrać telefon, szczególnie w tych godzinach, które wymagają dostępu do naszych kont - szczegól'}]\n",
            "\tAnswer:  Wypowiedź ta ma charakter komiczny, ale jest dość autentyczna, jeśli mówisz do komornika - w obydwu przypadkach.\\n\\nDodatkowo, pamiętaj, że jeśli ktoś próbuje narzucić Ci pewne formy działania lub zasady, bądź na nie gotowy, warto odmawiać, unikając kontaktu na miejscu. Ważne jest również, aby na podstawie tego fragmentu, uważać na innych, którzy mogą odebrać telefon, szczególnie w tych godzinach, które wymagają dostępu do naszych kont - szczegól'}]\n"
          ]
        }
      ]
    },
    {
      "cell_type": "markdown",
      "source": [
        "papuGA did not get the characters correctly while two other models did it quite well."
      ],
      "metadata": {
        "id": "PrSy_YxHD9B0"
      }
    },
    {
      "cell_type": "markdown",
      "source": [
        "### Which of the models produced the best results?\n",
        "Salamanca - both making sense and correct gramatically.\n",
        "### Was any of the models able to capture Polish grammar?\n",
        "All of them, with only minor mistakes.\n",
        "### Was any of the models able to capture long-distant relationships between the words?\n",
        "Yes, all of them did pretty good at capturing long term gender clues.\n",
        "### Was any of the models able to capture world knowledge?\n",
        "No. They all halucinated, occasionally giving a goow answer.\n",
        "### Was any of the models good at doing zero-shot classification?\n",
        "Yes, salamanca and Polka did a good job.\n",
        "### What are the most striking errors made by the models?\n",
        "Real-world knowledge 😨"
      ],
      "metadata": {
        "id": "wneFV47G9HSS"
      }
    }
  ]
}