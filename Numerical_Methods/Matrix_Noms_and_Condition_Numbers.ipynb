{
 "cells": [
  {
   "cell_type": "markdown",
   "id": "f70c6b25-411e-451a-86c0-d1e2e32a3ca2",
   "metadata": {},
   "source": [
    "# First known Matrices: Tibetan *Thangka's*"
   ]
  },
  {
   "attachments": {
    "1e4f9355-9866-4020-8135-c33ef94b5267.png": {
     "image/png": "[encoded data removed]"
    }
   },
   "cell_type": "markdown",
   "id": "3e2251ae-c77a-4bd9-bb27-8943cd222459",
   "metadata": {},
   "source": [
    "<div style=\"display: flex;\">\n",
    "    <img src=\"https://traditionalartofnepal.com/wp-content/uploads/2019/05/Tibetan-Astrology-Thangka-Painting.jpg\" style=\"width:auto;height:580px; margin-right: 20px;\">\n",
    "    <div style=\"width:auto;height:500px; margin-left: 10px;\"> A thangka is a Tibetan Buddhist painting on cotton or silk. The intricate thangka painting on the left is both a Tibetan calendar and an astrological diagram.\n",
    "\n",
    "The central figure is a turtle laying on her back. **The central circle is divided into nine areas containing the Nine Sacred Numbers** surrounded by the eight symbols of Chinese Taoist cosmology representing the fundamental principles of reality.\n",
    "The following circle represent the sixty years cycle divided in twelve areas in which are depicted twelve animals: dragon, snake, horse, sheep, monkey, bird, dog, pig, mouse, bull, tiger and rabbit.\n",
    "\n",
    "The deities depicted on the top are from left to right: Vajrapani, Manjushri and Chenrezig.\n",
    "The symbol on the top left is the Kalachakra script representing the wheel of time.\n",
    "All the other symbols are representations of the astrological chart and Tibetan cosmology.\n",
    "This diagram is important to calculate monthly and yearly horoscopes and it is also considered a talisman that attracts positive energy and brings good fortune.\n",
    "\n",
    "The numbers in the center can be decifered using this table:\n",
    "\n",
    "![Zrzut ekranu 2024-04-13 o 17.25.33.png](attachment:1e4f9355-9866-4020-8135-c33ef94b5267.png)\n",
    "\n",
    "The matrix that will be a subject of this report can be decifered as:\n",
    "\n",
    "$M = \\begin{bmatrix}\n",
    "4 & 9 & 2 \\\\\n",
    "3 & 5 & 7 \\\\\n",
    "8 & 1 & 6\n",
    "\\end{bmatrix}$\n",
    "\n",
    "</div>\n",
    "</div>\n"
   ]
  },
  {
   "cell_type": "code",
   "execution_count": 5,
   "id": "e19c27f8-81b3-4ae3-b554-1ae9ac50c966",
   "metadata": {},
   "outputs": [
    {
     "name": "stdout",
     "output_type": "stream",
     "text": [
      "[[4 9 2]\n",
      " [3 5 7]\n",
      " [8 1 6]]\n"
     ]
    }
   ],
   "source": [
    "import numpy as np\n",
    "from numpy import linalg\n",
    "\n",
    "values = [4, 9, 2, 3, 5, 7, 8, 1, 6]\n",
    "matrix = np.array(values).reshape(3, 3)\n",
    "print(matrix)\n"
   ]
  },
  {
   "cell_type": "markdown",
   "id": "8f16e9ff-526b-4b3a-9d7a-6ee39a4e32ce",
   "metadata": {},
   "source": [
    "## Matrix Norms\n",
    "\n",
    "A matrix norm is a metric or way of measuring the \"size\" or \"length\" of a matrix.\n",
    "Different norms for the tibetan matrix will be calculated step-by-step and also compared with results returend by `numpy.linalg.norm` function."
   ]
  },
  {
   "cell_type": "markdown",
   "id": "8154b9af-5063-4b89-85bd-3829d60c09cb",
   "metadata": {},
   "source": [
    "### 1-Norm (Column Sum Norm)\n",
    "\n",
    "The 1-norm of a matrix \\( A \\) is given by the maximum absolute column sum:\n",
    "\n",
    "$\\|A \\|_{1} = \\max_{1 \\leq j \\leq n} \\sum_{i=1}^{m} |a_{ij}|$"
   ]
  },
  {
   "cell_type": "code",
   "execution_count": 24,
   "id": "8ffb9dba-50e0-443f-a2dd-189dab34d6ad",
   "metadata": {},
   "outputs": [
    {
     "name": "stdout",
     "output_type": "stream",
     "text": [
      "\t1-norm(M) =  15\n",
      "(Numpy): 1-norm(M) =  15.0\n"
     ]
    }
   ],
   "source": [
    "def one_norm(matrix):\n",
    "    num_rows, num_cols = len(matrix), len(matrix[0])\n",
    "    column_sums = [0] * num_cols  # Initialize column sums list\n",
    "    \n",
    "    # Iterate over each element in the matrix\n",
    "    for col in range(num_cols):\n",
    "        for row in range(num_rows):\n",
    "            # Add the absolute value of the element to the corresponding column sum\n",
    "            column_sums[col] += abs(matrix[row][col])\n",
    "    \n",
    "    # Return the maximum column sum, which is the 1-norm\n",
    "    return max(column_sums)\n",
    "\n",
    "l1_norm = one_norm(matrix)\n",
    "print( \"\\t1-norm(M) = \", l1_norm)\n",
    "\n",
    "l1_norm_np = linalg.norm(matrix, ord=1)\n",
    "print( \"(Numpy): 1-norm(M) = \", l1_norm_np)"
   ]
  },
  {
   "cell_type": "markdown",
   "id": "8e46a831-185e-4ecf-832a-bb74e526a9f0",
   "metadata": {},
   "source": [
    "### 2-Norm (Frobenius Norm)\n",
    "\n",
    "The 2-norm of a matrix \\( A \\) is given by:\n",
    "\n",
    "$\n",
    "\\| A \\|_{2} = \\sqrt{\\sum_{i=1}^{m} \\sum_{j=1}^{n} |a_{ij}|^2}\n",
    "$"
   ]
  },
  {
   "cell_type": "code",
   "execution_count": 28,
   "id": "b6a2c734-faef-43df-9ccd-7baa8dcba351",
   "metadata": {},
   "outputs": [
    {
     "name": "stdout",
     "output_type": "stream",
     "text": [
      "\tFrobenius-norm(M) =  16.881943016134134\n",
      "(Numpy): Frobenius-norm(M) =  16.881943016134134\n"
     ]
    }
   ],
   "source": [
    "def two_norm(matrix):\n",
    "    num_rows, num_cols = len(matrix), len(matrix[0])\n",
    "    sum_of_squares = 0\n",
    "    \n",
    "    # Iterate over each element in the matrix and sum the squares of all elements\n",
    "    for row in range(num_rows):\n",
    "        for col in range(num_cols):\n",
    "            sum_of_squares += matrix[row][col] ** 2\n",
    "    \n",
    "    # Return the square root of the sum of squares, which is the 2-norm\n",
    "    return sum_of_squares ** 0.5\n",
    "\n",
    "l2_norm = two_norm(matrix)\n",
    "print( \"\\tFrobenius-norm(M) = \", l2_norm)\n",
    "\n",
    "fro_norm_np = linalg.norm(matrix, 'fro')\n",
    "print( \"(Numpy): Frobenius-norm(M) = \", fro_norm_np)"
   ]
  },
  {
   "cell_type": "markdown",
   "id": "0e03891d-8552-4e77-a10a-41bdbec12333",
   "metadata": {},
   "source": [
    "### Maximum Norm (Infinity Norm, Chebyshev Norm or Row Sum Norm)\n",
    "\n",
    "The maximum norm of a matrix \\( A \\) is given by:\n",
    "\n",
    "$\n",
    "\\| A \\|_{\\infty} = \\max_{1 \\leq i \\leq m} \\sum_{j=1}^{n} |a_{ij}|\n",
    "$"
   ]
  },
  {
   "cell_type": "code",
   "execution_count": 31,
   "id": "d11d8672-3f30-4ba6-b0c7-38d131e8ca03",
   "metadata": {},
   "outputs": [
    {
     "name": "stdout",
     "output_type": "stream",
     "text": [
      "\tinf-norm(M) =  15\n",
      "(Numpy): inf-norm(M) =  15.0\n"
     ]
    }
   ],
   "source": [
    "def infinity_norm(matrix):\n",
    "    max_row_sum = 0\n",
    "    \n",
    "    # Iterate over each row in the matrix and calculate the sum of absolute values\n",
    "    for row in matrix:\n",
    "        row_sum = sum(map(abs, row))\n",
    "        max_row_sum = max(max_row_sum, row_sum)\n",
    "    \n",
    "    # Return the maximum row sum, which is the infinity norm\n",
    "    return max_row_sum\n",
    "\n",
    "inf_norm = infinity_norm(matrix)\n",
    "print( \"\\tinf-norm(M) = \", inf_norm)\n",
    "\n",
    "inf_norm = linalg.norm(matrix, np.inf)\n",
    "print( \"(Numpy): inf-norm(M) = \", inf_norm)"
   ]
  },
  {
   "cell_type": "markdown",
   "id": "3f343ab7-38b1-4c89-b401-68d199a8a740",
   "metadata": {},
   "source": [
    "### p-Norm (Generalization)\n",
    "\n",
    "In generalized form a p-norm can be calculated as follows:\n",
    "\n",
    "$\n",
    "\\| A \\|_{p} = \\sqrt[p]{\\sum_{i=1}^{m} \\sum_{j=1}^{n} |a_{ij}|^p}\n",
    "$"
   ]
  },
  {
   "cell_type": "code",
   "execution_count": 34,
   "id": "82f32214-d098-44f6-8e21-fbe0a113ac90",
   "metadata": {},
   "outputs": [],
   "source": [
    "def p_norm(matrix, p):\n",
    "    num_rows, num_cols = len(matrix), len(matrix[0])\n",
    "    column_sums = [0] * num_cols  # Initialize column sums list\n",
    "    \n",
    "    # Iterate over each element in the matrix\n",
    "    for col in range(num_cols):\n",
    "        for row in range(num_rows):\n",
    "            # Add the absolute value of the element raised to the power of p to the corresponding column sum\n",
    "            column_sums[col] += abs(matrix[row][col]) ** p\n",
    "    \n",
    "    # Return the maximum column sum raised to the power of 1/p, which is the p-norm\n",
    "    return max(column_sums) ** (1/p)"
   ]
  },
  {
   "cell_type": "markdown",
   "id": "c38fbc11-e7a7-4063-aa71-955d68efbd08",
   "metadata": {},
   "source": [
    "## Condition Number\n",
    "\n",
    "**The condition number** of a function measures how much the output value of the function can change for a small change in the input argument. This is used to measure how sensitive a function is to changes or errors in the input, and how much error in the output results from an error in the input.\n",
    "\n",
    "Regarding matrices, take for example:\n",
    "\n",
    "$ Ax = b $\n",
    "\n",
    "One should think of the condition number as being (very roughly) the rate at which the solution x will change with respect to a change in b. Thus, **if the condition number is large, even a small error in b may cause a large error in x**. On the other hand, if the condition number is small, then the error in x will not be much bigger than the error in b.\n",
    "\n",
    "Conditioning is a **property of the matrix**, not the algorithm or floating-point accuracy of the computer used to solve the corresponding system."
   ]
  },
  {
   "cell_type": "markdown",
   "id": "0bb64b9b-3ed0-4bed-8436-650cf6c2f220",
   "metadata": {},
   "source": [
    "Following condition numbers will be calculated for the tibetan matrix:\n",
    "\n",
    "$cond(A) = \\| A \\|_{1}\\| A^{-1} \\|_{1}$\n",
    "\n",
    "$cond_{2}(A) = \\| A \\|_{2}\\| A^{-1} \\|_{2}$\n",
    "\n",
    "$cond_{\\infty}(A) = \\| A \\|_{\\infty}\\| A^{-1} \\|_{\\infty}$\n",
    "\n",
    "\n",
    "Additionally condition number of degree p can be generally calculated using this formula:\n",
    "\n",
    "$cond_{p}(A) = \\| A \\|_{p}\\| A^{-1} \\|_{p}$"
   ]
  },
  {
   "cell_type": "code",
   "execution_count": 33,
   "id": "75258760-8894-4e8a-b41f-b41ea8cbc983",
   "metadata": {},
   "outputs": [
    {
     "name": "stdout",
     "output_type": "stream",
     "text": [
      "cond(M) =  5.333333333333333\n",
      "cond_2(M) =  5.563646885511936\n",
      "cond_inf(M) =  5.333333333333333\n"
     ]
    }
   ],
   "source": [
    "print( \"cond(M) = \", one_norm(matrix)*one_norm(linalg.inv(matrix)))\n",
    "print( \"cond_2(M) = \", two_norm(matrix)*two_norm(linalg.inv(matrix)))\n",
    "print( \"cond_inf(M) = \", infinity_norm(matrix)*infinity_norm(linalg.inv(matrix)))"
   ]
  },
  {
   "cell_type": "markdown",
   "id": "7a1cf60b-2ca6-414f-a5b2-216d1b36c02c",
   "metadata": {},
   "source": [
    "## Singular Value Decomposition (SVD)\n",
    "The Singular Value Decomposition (SVD) of a matrix is a factorization of that matrix into three matrices. \n",
    "It is typically represented as:\n",
    "\n",
    "$\n",
    "A = U \\Sigma V^T\n",
    "$\n",
    "\n",
    "where:\n",
    "- $U$ is an $\\ m \\times m $ matrix of the orthonormal eigenvectors of $AA^T$\n",
    "- $V^T$ is a transosed $ n \\times n $ matrix containing the orthonormal eigenvectors of $A^TA$\n",
    "- $\\Sigma$ is an $ m \\times n $ diagonal matrix with r elements equal to the root of the positive eigenvalues of $AA^T$ or $A^TA$ (both matrics have the same positive eigenvalues anyway."
   ]
  },
  {
   "cell_type": "code",
   "execution_count": null,
   "id": "7b13349a",
   "metadata": {},
   "outputs": [],
   "source": [
    "U, S, Vh = linalg.svd(matrix)\n",
    "print(\"U Matrix:\\n\", U)\n",
    "print(\"Sigma Matrix:\\n\", S)\n",
    "print(\"V-transpose Matrix:\\n\", Vh)"
   ]
  }
 ],
 "metadata": {
  "kernelspec": {
   "display_name": "Python 3 (ipykernel)",
   "language": "python",
   "name": "python3"
  },
  "language_info": {
   "codemirror_mode": {
    "name": "ipython",
    "version": 3
   },
   "file_extension": ".py",
   "mimetype": "text/x-python",
   "name": "python",
   "nbconvert_exporter": "python",
   "pygments_lexer": "ipython3",
   "version": "3.11.8"
  }
 },
 "nbformat": 4,
 "nbformat_minor": 5
}
