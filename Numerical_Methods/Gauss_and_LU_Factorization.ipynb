{
 "cells": [
  {
   "cell_type": "markdown",
   "metadata": {},
   "source": [
    "# Gaussian elimination and LU factorization\n",
    "\n",
    "This notebook presents calculations of Gauss elimination and LU factorization methods for matrix transformation and equation solving."
   ]
  },
  {
   "cell_type": "code",
   "execution_count": 1,
   "metadata": {},
   "outputs": [
    {
     "name": "stdout",
     "output_type": "stream",
     "text": [
      "Demonstartion matrix:\n",
      " [[-162 -704 -728 -353  743  780  -87 -635]\n",
      " [ 809 -826  939 -779   78 -339  451 -971]\n",
      " [ 162 -887  849 -337  770  980  -55 -538]\n",
      " [ 375 -111  -49  462  402  616 -741  546]\n",
      " [ -85 -694 -283  817  845   14 -620  -71]\n",
      " [ 562  847  707  105  177  238  190  -67]\n",
      " [ 377 -635 -156 -635 -579 -599 -838 -503]\n",
      " [ 525 -916  916  878 -847  581 -290 -982]]\n"
     ]
    }
   ],
   "source": [
    "import numpy as np\n",
    "\n",
    "# My birthdate is 07.17\n",
    "birthday_matrix_dim = 7 + 17\n",
    "\n",
    "def fill_matrix_with_rand(n, low=-1000, high=1000):\n",
    "    return np.random.randint(low, high + 1, size=(n, n))\n",
    "\n",
    "matrix = fill_matrix_with_rand(birthday_matrix_dim)\n",
    "\n",
    "# Since the birthday matrix is quite big, for method sdemonstration purposes a smaller matrix will be used\n",
    "demonstartion_matrix = fill_matrix_with_rand(8)\n",
    "\n",
    "print(\"Demonstartion matrix:\\n\" , demonstartion_matrix )\n"
   ]
  },
  {
   "cell_type": "markdown",
   "metadata": {},
   "source": [
    "### Gaussian Elimination without Pivoting\n",
    "\n",
    "Gaussian elimination is used to solve systems of linear equations by transforming the augmented matrix into row echelon form. It involves eliminating variables from equations, row by row, to eventually obtain an upper triangular matrix. By ensuring that the leading coefficient in each row is 1, the process simplifies the back substitution operation used to find variable values."
   ]
  },
  {
   "cell_type": "code",
   "execution_count": 2,
   "metadata": {},
   "outputs": [
    {
     "name": "stdout",
     "output_type": "stream",
     "text": [
      "[[ -162  -704  -728  -353   743   780   -87  -635]\n",
      " [    0 -4341 -2696 -2541  3788  3556    16 -4142]\n",
      " [    0     0  1109   241   124   456  -147   345]\n",
      " [    0     0     0   804   675  1263 -1034   940]\n",
      " [    0     0     0     0  -807 -2550   913  -839]\n",
      " [    0     0     0     0     0 -2624  1418 -1998]\n",
      " [    0     0     0     0     0     0  -931  -361]\n",
      " [    0     0     0     0     0     0     0 -4464]]\n"
     ]
    }
   ],
   "source": [
    "def gauss_elimination_without_pivoting(input_matrix):\n",
    "    A = input_matrix\n",
    "    n = len(A)\n",
    "    for i in range(n):\n",
    "        if A[i][i] == 0:\n",
    "            raise ValueError(\"Zero division error. Pivot element is zero.\")\n",
    "        for j in range(i+1, n):\n",
    "            factor = A[j][i] / A[i][i]\n",
    "            for k in range(i, n):\n",
    "                A[j][k] -= factor * A[i][k]\n",
    "    return A\n",
    "\n",
    "gauss_elim = gauss_elimination_without_pivoting(demonstartion_matrix)\n",
    "print(demonstartion_matrix)"
   ]
  },
  {
   "cell_type": "markdown",
   "metadata": {},
   "source": [
    "### Gaussian Elimination with Pivoting\n",
    "\n",
    "Similar to Gaussian elimination without pivoting, but with an added pivoting step to avoid division by zero and reduce numerical errors. Pivoting involves swapping rows so that the largest coefficient (pivot) is placed at the current position, ensuring the stability and accuracy of the algorithm."
   ]
  },
  {
   "cell_type": "code",
   "execution_count": 3,
   "metadata": {},
   "outputs": [
    {
     "name": "stdout",
     "output_type": "stream",
     "text": [
      "Gauss Elimination with Pivoting Result == Gauss Elimination without Pivoting Result ?  True\n"
     ]
    }
   ],
   "source": [
    "def gauss_elimination_with_pivoting(input_matrix):\n",
    "    A = input_matrix\n",
    "    n = len(A)\n",
    "    for i in range(n):\n",
    "        max_index = i\n",
    "        for j in range(i+1, n):\n",
    "            if abs(A[j][i]) > abs(A[max_index][i]):\n",
    "                max_index = j\n",
    "        A[[i, max_index]] = A[[max_index, i]]  # Zamiana wierszy\n",
    "        if A[i][i] == 0:\n",
    "            raise ValueError(\"Zero division error. Pivot element is zero.\")\n",
    "        for j in range(i+1, n):\n",
    "            factor = A[j][i] / A[i][i]\n",
    "            for k in range(i, n):\n",
    "                A[j][k] -= factor * A[i][k]\n",
    "    return A\n",
    "\n",
    "gauss_elim_pivot = gauss_elimination_with_pivoting(demonstartion_matrix)\n",
    "print(\"Gauss Elimination with Pivoting Result == Gauss Elimination without Pivoting Result ? \", (gauss_elim_pivot == gauss_elim).all())\n"
   ]
  },
  {
   "cell_type": "markdown",
   "metadata": {},
   "source": [
    "### LU Factorization without Pivoting\n",
    "\n",
    "LU (Lower-Upper) factorization decomposes a square matrix into the product of a lower triangular matrix and an upper triangular matrix. This method is useful for solving systems of linear equations and finding matrix inverses. Without pivoting, the matrices L and U are directly constructed based on the original matrix A."
   ]
  },
  {
   "cell_type": "code",
   "execution_count": 5,
   "metadata": {},
   "outputs": [
    {
     "name": "stdout",
     "output_type": "stream",
     "text": [
      "Matrix L:\n",
      "[[ 1.  0.  0.  0.  0.  0.  0.  0.]\n",
      " [-0.  1.  0.  0.  0.  0.  0.  0.]\n",
      " [-0. -0.  1.  0.  0.  0.  0.  0.]\n",
      " [-0. -0.  0.  1.  0.  0.  0.  0.]\n",
      " [-0. -0.  0.  0.  1.  0.  0.  0.]\n",
      " [-0. -0.  0.  0. -0.  1.  0.  0.]\n",
      " [-0. -0.  0.  0. -0. -0.  1.  0.]\n",
      " [-0. -0.  0.  0. -0. -0. -0.  1.]]\n",
      "\n",
      "Matrix U:\n",
      "[[ -162.  -704.  -728.  -353.   743.   780.   -87.  -635.]\n",
      " [    0. -4341. -2696. -2541.  3788.  3556.    16. -4142.]\n",
      " [    0.     0.  1109.   241.   124.   456.  -147.   345.]\n",
      " [    0.     0.     0.   804.   675.  1263. -1034.   940.]\n",
      " [    0.     0.     0.     0.  -807. -2550.   913.  -839.]\n",
      " [    0.     0.     0.     0.     0. -2624.  1418. -1998.]\n",
      " [    0.     0.     0.     0.     0.     0.  -931.  -361.]\n",
      " [    0.     0.     0.     0.     0.     0.     0. -4464.]]\n"
     ]
    }
   ],
   "source": [
    "def lu_factorization_without_pivoting(A):\n",
    "    n = len(A)\n",
    "    L = np.eye(n)\n",
    "    U = np.zeros((n, n))\n",
    "    for i in range(n):\n",
    "        for j in range(i, n):\n",
    "            U[i][j] = A[i][j] - sum(L[i][k] * U[k][j] for k in range(i))\n",
    "        for j in range(i+1, n):\n",
    "            L[j][i] = (A[j][i] - sum(L[j][k] * U[k][i] for k in range(i))) / U[i][i]\n",
    "    return L, U\n",
    "\n",
    "L, U = lu_factorization_without_pivoting(demonstartion_matrix)\n",
    "print(\"Matrix L:\")\n",
    "print(L)\n",
    "print(\"\\nMatrix U:\")\n",
    "print(U)"
   ]
  },
  {
   "cell_type": "markdown",
   "metadata": {},
   "source": [
    "### LU Factorization with Pivoting\n",
    "\n",
    "An enhanced version of LU factorization that incorporates pivoting to improve stability and accuracy. It involves row swapping for pivoting and reordering rows to ensure that pivot elements are the largest in absolute value. This method is particularly effective when working with ill-conditioned matrices or matrices with small pivot elements."
   ]
  },
  {
   "cell_type": "code",
   "execution_count": 6,
   "metadata": {},
   "outputs": [
    {
     "name": "stdout",
     "output_type": "stream",
     "text": [
      "Permutation matrix P:\n",
      "[[1. 0. 0. 0. 0. 0. 0. 0.]\n",
      " [0. 1. 0. 0. 0. 0. 0. 0.]\n",
      " [0. 0. 1. 0. 0. 0. 0. 0.]\n",
      " [0. 0. 0. 1. 0. 0. 0. 0.]\n",
      " [0. 0. 0. 0. 1. 0. 0. 0.]\n",
      " [0. 0. 0. 0. 0. 1. 0. 0.]\n",
      " [0. 0. 0. 0. 0. 0. 1. 0.]\n",
      " [0. 0. 0. 0. 0. 0. 0. 1.]]\n",
      "\n",
      "Matrix L:\n",
      "[[ 1.  0.  0.  0.  0.  0.  0.  0.]\n",
      " [-0.  1.  0.  0.  0.  0.  0.  0.]\n",
      " [-0. -0.  1.  0.  0.  0.  0.  0.]\n",
      " [-0. -0.  0.  1.  0.  0.  0.  0.]\n",
      " [-0. -0.  0.  0.  1.  0.  0.  0.]\n",
      " [-0. -0.  0.  0. -0.  1.  0.  0.]\n",
      " [-0. -0.  0.  0. -0. -0.  1.  0.]\n",
      " [-0. -0.  0.  0. -0. -0. -0.  1.]]\n",
      "\n",
      "Matrix U:\n",
      "[[ -162.  -704.  -728.  -353.   743.   780.   -87.  -635.]\n",
      " [    0. -4341. -2696. -2541.  3788.  3556.    16. -4142.]\n",
      " [    0.     0.  1109.   241.   124.   456.  -147.   345.]\n",
      " [    0.     0.     0.   804.   675.  1263. -1034.   940.]\n",
      " [    0.     0.     0.     0.  -807. -2550.   913.  -839.]\n",
      " [    0.     0.     0.     0.     0. -2624.  1418. -1998.]\n",
      " [    0.     0.     0.     0.     0.     0.  -931.  -361.]\n",
      " [    0.     0.     0.     0.     0.     0.     0. -4464.]]\n"
     ]
    }
   ],
   "source": [
    "def lu_factorization_with_pivoting(A):\n",
    "    n = len(A)\n",
    "    L = np.eye(n)\n",
    "    U = np.zeros((n, n))\n",
    "    P = np.eye(n)\n",
    "    for i in range(n):\n",
    "        max_index = i\n",
    "        for j in range(i+1, n):\n",
    "            if abs(A[j][i]) > abs(A[max_index][i]):\n",
    "                max_index = j\n",
    "        A[[i, max_index]] = A[[max_index, i]]  # Zamiana wierszy\n",
    "        P[[i, max_index]] = P[[max_index, i]]  # Zamiana wierszy w macierzy permutacji\n",
    "        for j in range(i, n):\n",
    "            U[i][j] = A[i][j] - sum(L[i][k] * U[k][j] for k in range(i))\n",
    "        for j in range(i+1, n):\n",
    "            L[j][i] = (A[j][i] - sum(L[j][k] * U[k][i] for k in range(i))) / U[i][i]\n",
    "    return P, L, U\n",
    "\n",
    "\n",
    "P, L, U = lu_factorization_with_pivoting(demonstartion_matrix)\n",
    "print(\"Permutation matrix P:\")\n",
    "print(P)\n",
    "print(\"\\nMatrix L:\")\n",
    "print(L)\n",
    "print(\"\\nMatrix U:\")\n",
    "print(U)\n"
   ]
  },
  {
   "cell_type": "markdown",
   "metadata": {},
   "source": [
    "## Solving system of equations"
   ]
  },
  {
   "cell_type": "code",
   "execution_count": 7,
   "metadata": {},
   "outputs": [
    {
     "name": "stdout",
     "output_type": "stream",
     "text": [
      "Solving with Gauss no pivoting:\n",
      " [-0. -0. -0.  0. -0. -0. -0. -0. -0.  0.  0.  0.  0.  0.  0. -0. -0.  0.\n",
      "  0.  0. -0. -0.  0.  1.]\n",
      "Solving with Gauss with pivoting:\n",
      " [-0. -0. -0.  0. -0. -0. -0. -0. -0.  0.  0.  0.  0.  0.  0. -0. -0.  0.\n",
      "  0.  0. -0. -0.  0.  1.]\n"
     ]
    }
   ],
   "source": [
    "def gauss_solve(triagnle_matrix):\n",
    "    A = triagnle_matrix\n",
    "    n = len(A)\n",
    "    x = np.zeros(n)\n",
    "    for i in range(n-1, -1, -1):\n",
    "        x[i] = A[i][-1] / A[i][i]\n",
    "        for j in range(i-1, -1, -1):\n",
    "            A[j][-1] -= A[j][i] * x[i]\n",
    "    return x\n",
    "\n",
    "\n",
    "triangle_matrix = gauss_elimination_without_pivoting(matrix)\n",
    "print(\"Solving with Gauss no pivoting:\\n\", gauss_solve(triangle_matrix))\n",
    "triangle_matrix_pivot = gauss_elimination_with_pivoting(matrix)\n",
    "print(\"Solving with Gauss with pivoting:\\n\", gauss_solve(triangle_matrix_pivot))"
   ]
  },
  {
   "cell_type": "code",
   "execution_count": 75,
   "metadata": {},
   "outputs": [
    {
     "name": "stdout",
     "output_type": "stream",
     "text": [
      "Solving with LU no pivoting:\n",
      " [-0. -0.  0.  0. -0. -0. -0.  0.  0.  0.  0. -0. -0. -0. -0.  0.  0.  0.\n",
      "  0. -0.  0.  0. -0.  1.]\n",
      "Solving with LU with pivoting:\n",
      " [-0. -0.  0.  0. -0. -0. -0.  0.  0.  0.  0. -0. -0. -0. -0.  0.  0.  0.\n",
      "  0. -0.  0.  0. -0.  1.]\n"
     ]
    }
   ],
   "source": [
    "import numpy as np\n",
    "\n",
    "def lu_factorization_solve(A, b, L, U):\n",
    "    \"\"\"\n",
    "    A (numpy.ndarray): Coefficient matrix.\n",
    "    b (numpy.ndarray): Right-hand side vector.\n",
    "    \"\"\"\n",
    "    n = len(A)\n",
    "    # Solve Ly = b\n",
    "    y = np.linalg.solve(L, b)\n",
    "\n",
    "    # Solve Ux = y\n",
    "    x = np.linalg.solve(U, y)\n",
    "\n",
    "    return x\n",
    "\n",
    "L, U = lu_factorization_without_pivoting(matrix)\n",
    "A = matrix[:-1]\n",
    "b = matrix[-1]\n",
    "print(\"Solving with LU no pivoting:\\n\", lu_factorization_solve(A, b, L, U))\n",
    "\n",
    "_, L_pivot, U_pivot = lu_factorization_with_pivoting(matrix)\n",
    "A_pivot = matrix[:-1]\n",
    "b_pivot = matrix[-1]\n",
    "print(\"Solving with LU with pivoting:\\n\", lu_factorization_solve(A, b, L, U))"
   ]
  }
 ],
 "metadata": {
  "kernelspec": {
   "display_name": "Python 3 (ipykernel)",
   "language": "python",
   "name": "python3"
  },
  "language_info": {
   "codemirror_mode": {
    "name": "ipython",
    "version": 3
   },
   "file_extension": ".py",
   "mimetype": "text/x-python",
   "name": "python",
   "nbconvert_exporter": "python",
   "pygments_lexer": "ipython3",
   "version": "3.11.8"
  }
 },
 "nbformat": 4,
 "nbformat_minor": 4
}
